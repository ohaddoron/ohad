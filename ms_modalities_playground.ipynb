{
 "cells": [
  {
   "cell_type": "code",
   "execution_count": 1,
   "metadata": {
    "collapsed": true,
    "ExecuteTime": {
     "end_time": "2023-09-20T18:28:33.560791054Z",
     "start_time": "2023-09-20T18:28:33.509681345Z"
    }
   },
   "outputs": [],
   "source": [
    "modalitites = ['surv_pred/miRNA.csv', 'surv_pred/mRNA.csv', 'surv_pred/DNAm.csv', 'surv_pred/CNV.csv', 'surv_pred/Clinical.csv']"
   ]
  },
  {
   "cell_type": "code",
   "execution_count": null,
   "outputs": [],
   "source": [
    "from pathlib import Path\n",
    "import pandas as pd\n",
    "from sklearn.preprocessing import MinMaxScaler\n"
   ],
   "metadata": {
    "collapsed": false
   }
  },
  {
   "cell_type": "code",
   "execution_count": null,
   "outputs": [],
   "source": [
    "from typing import List\n",
    "\n",
    "\n",
    "def load_data(modalitites):\n",
    "    data = []\n",
    "    for modalitite in modalitites:\n",
    "        data.append(pd.read_csv(modalitite, index_col=0))\n",
    "    return data\n",
    "\n",
    "def get_scaler(data: pd.DataFrame, patients: List[str]) -> MinMaxScaler:\n",
    "    scaler = MinMaxScaler()\n",
    "    scaler.fit(data.loc[patients])\n",
    "    return scaler\n",
    "\n",
    "def apply_scaling_on_data(data, scaler):\n",
    "    return scaler.transform(data)\n",
    "\n",
    "def split_by_row_and_save(data, patients, scaler, output_dir):\n",
    "    for patient in patients:\n",
    "        patient_data = data.loc[[patient]]\n",
    "        patient_data = apply_scaling_on_data(patient_data, scaler)\n",
    "        patient_data.to_csv(output_dir / f'{patient}.csv')\n",
    "\n"
   ],
   "metadata": {
    "collapsed": false
   }
  }
 ],
 "metadata": {
  "kernelspec": {
   "display_name": "Python 3",
   "language": "python",
   "name": "python3"
  },
  "language_info": {
   "codemirror_mode": {
    "name": "ipython",
    "version": 2
   },
   "file_extension": ".py",
   "mimetype": "text/x-python",
   "name": "python",
   "nbconvert_exporter": "python",
   "pygments_lexer": "ipython2",
   "version": "2.7.6"
  }
 },
 "nbformat": 4,
 "nbformat_minor": 0
}
