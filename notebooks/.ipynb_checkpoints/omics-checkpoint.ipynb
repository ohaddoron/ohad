{
 "cells": [
  {
   "cell_type": "code",
   "execution_count": 12,
   "metadata": {
    "collapsed": true
   },
   "outputs": [],
   "source": [
    "import math\n",
    "\n",
    "import numpy as np\n",
    "from common.database import init_cached_database, parse_mongodb_connection_string\n",
    "from src.utils import get_config\n",
    "import pandas as pd\n",
    "from tqdm import tqdm\n",
    "from dask import dataframe as dd\n",
    "from dask.delayed import delayed\n",
    "import pandas as pd"
   ]
  },
  {
   "cell_type": "code",
   "execution_count": 2,
   "metadata": {
    "pycharm": {
     "name": "#%%\n"
    }
   },
   "outputs": [
    {
     "name": "stderr",
     "output_type": "stream",
     "text": [
      "2021-11-18 19:14:46.950 | DEBUG    | src.utils:get_config:26 - Reading omics-database from C:\\Users\\ogdor\\Projects\\ohad\\src\\../config.toml\n"
     ]
    }
   ],
   "source": [
    "config = get_config('omics-database')\n",
    "db = init_cached_database(parse_mongodb_connection_string(\n",
    "    **config), db_name=config['db_name'])"
   ]
  },
  {
   "cell_type": "code",
   "execution_count": 19,
   "metadata": {
    "pycharm": {
     "name": "#%%\n"
    }
   },
   "outputs": [],
   "source": [
    "col_name = \"Phenotypes\"\n",
    "df = pd.read_csv(\n",
    "    r\"C:\\Users\\ogdor\\Projects\\data\\RawData\\20Phenotypes\\Extracted\\TCGA.BRCA.sampleMap_BRCA_clinicalMatrix\",\n",
    "    sep='\\t'\n",
    ")"
   ]
  },
  {
   "cell_type": "code",
   "execution_count": 20,
   "metadata": {
    "pycharm": {
     "name": "#%%\n"
    }
   },
   "outputs": [],
   "source": [
    "df = df.set_index('sample')"
   ]
  },
  {
   "cell_type": "code",
   "execution_count": 21,
   "metadata": {
    "pycharm": {
     "name": "#%%\n"
    }
   },
   "outputs": [
    {
     "data": {
      "text/html": [
       "<div>\n",
       "<style scoped>\n",
       "    .dataframe tbody tr th:only-of-type {\n",
       "        vertical-align: middle;\n",
       "    }\n",
       "\n",
       "    .dataframe tbody tr th {\n",
       "        vertical-align: top;\n",
       "    }\n",
       "\n",
       "    .dataframe thead th {\n",
       "        text-align: right;\n",
       "    }\n",
       "</style>\n",
       "<table border=\"1\" class=\"dataframe\">\n",
       "  <thead>\n",
       "    <tr style=\"text-align: right;\">\n",
       "      <th></th>\n",
       "      <th>AJCC_Stage_nature2012</th>\n",
       "      <th>Age_at_Initial_Pathologic_Diagnosis_nature2012</th>\n",
       "      <th>CN_Clusters_nature2012</th>\n",
       "      <th>Converted_Stage_nature2012</th>\n",
       "      <th>Days_to_Date_of_Last_Contact_nature2012</th>\n",
       "      <th>Days_to_date_of_Death_nature2012</th>\n",
       "      <th>ER_Status_nature2012</th>\n",
       "      <th>Gender_nature2012</th>\n",
       "      <th>HER2_Final_Status_nature2012</th>\n",
       "      <th>Integrated_Clusters_no_exp__nature2012</th>\n",
       "      <th>...</th>\n",
       "      <th>_GENOMIC_ID_TCGA_BRCA_mutation_wustl_gene</th>\n",
       "      <th>_GENOMIC_ID_TCGA_BRCA_miRNA_GA</th>\n",
       "      <th>_GENOMIC_ID_TCGA_BRCA_exp_HiSeqV2_percentile</th>\n",
       "      <th>_GENOMIC_ID_data/public/TCGA/BRCA/miRNA_GA_gene</th>\n",
       "      <th>_GENOMIC_ID_TCGA_BRCA_gistic2thd</th>\n",
       "      <th>_GENOMIC_ID_data/public/TCGA/BRCA/miRNA_HiSeq_gene</th>\n",
       "      <th>_GENOMIC_ID_TCGA_BRCA_G4502A_07_3</th>\n",
       "      <th>_GENOMIC_ID_TCGA_BRCA_exp_HiSeqV2</th>\n",
       "      <th>_GENOMIC_ID_TCGA_BRCA_gistic2</th>\n",
       "      <th>_GENOMIC_ID_TCGA_BRCA_PDMarray</th>\n",
       "    </tr>\n",
       "    <tr>\n",
       "      <th>sample</th>\n",
       "      <th></th>\n",
       "      <th></th>\n",
       "      <th></th>\n",
       "      <th></th>\n",
       "      <th></th>\n",
       "      <th></th>\n",
       "      <th></th>\n",
       "      <th></th>\n",
       "      <th></th>\n",
       "      <th></th>\n",
       "      <th></th>\n",
       "      <th></th>\n",
       "      <th></th>\n",
       "      <th></th>\n",
       "      <th></th>\n",
       "      <th></th>\n",
       "      <th></th>\n",
       "      <th></th>\n",
       "      <th></th>\n",
       "      <th></th>\n",
       "      <th></th>\n",
       "    </tr>\n",
       "  </thead>\n",
       "  <tbody>\n",
       "    <tr>\n",
       "      <th>TCGA-3C-AAAU-01</th>\n",
       "      <td>NaN</td>\n",
       "      <td>NaN</td>\n",
       "      <td>NaN</td>\n",
       "      <td>NaN</td>\n",
       "      <td>NaN</td>\n",
       "      <td>NaN</td>\n",
       "      <td>NaN</td>\n",
       "      <td>NaN</td>\n",
       "      <td>NaN</td>\n",
       "      <td>NaN</td>\n",
       "      <td>...</td>\n",
       "      <td>NaN</td>\n",
       "      <td>NaN</td>\n",
       "      <td>6ef883fc-81f3-4089-95e0-86904ffc0d38</td>\n",
       "      <td>NaN</td>\n",
       "      <td>TCGA-3C-AAAU-01A-11D-A41E-01</td>\n",
       "      <td>TCGA-3C-AAAU-01</td>\n",
       "      <td>NaN</td>\n",
       "      <td>6ef883fc-81f3-4089-95e0-86904ffc0d38</td>\n",
       "      <td>TCGA-3C-AAAU-01A-11D-A41E-01</td>\n",
       "      <td>NaN</td>\n",
       "    </tr>\n",
       "    <tr>\n",
       "      <th>TCGA-3C-AALI-01</th>\n",
       "      <td>NaN</td>\n",
       "      <td>NaN</td>\n",
       "      <td>NaN</td>\n",
       "      <td>NaN</td>\n",
       "      <td>NaN</td>\n",
       "      <td>NaN</td>\n",
       "      <td>NaN</td>\n",
       "      <td>NaN</td>\n",
       "      <td>NaN</td>\n",
       "      <td>NaN</td>\n",
       "      <td>...</td>\n",
       "      <td>NaN</td>\n",
       "      <td>NaN</td>\n",
       "      <td>dd8d3665-ec9d-45be-b7b9-a85dac3585e2</td>\n",
       "      <td>NaN</td>\n",
       "      <td>TCGA-3C-AALI-01A-11D-A41E-01</td>\n",
       "      <td>TCGA-3C-AALI-01</td>\n",
       "      <td>NaN</td>\n",
       "      <td>dd8d3665-ec9d-45be-b7b9-a85dac3585e2</td>\n",
       "      <td>TCGA-3C-AALI-01A-11D-A41E-01</td>\n",
       "      <td>NaN</td>\n",
       "    </tr>\n",
       "    <tr>\n",
       "      <th>TCGA-3C-AALJ-01</th>\n",
       "      <td>NaN</td>\n",
       "      <td>NaN</td>\n",
       "      <td>NaN</td>\n",
       "      <td>NaN</td>\n",
       "      <td>NaN</td>\n",
       "      <td>NaN</td>\n",
       "      <td>NaN</td>\n",
       "      <td>NaN</td>\n",
       "      <td>NaN</td>\n",
       "      <td>NaN</td>\n",
       "      <td>...</td>\n",
       "      <td>NaN</td>\n",
       "      <td>NaN</td>\n",
       "      <td>c924c2a8-ab41-4499-bb30-79705cc17d45</td>\n",
       "      <td>NaN</td>\n",
       "      <td>TCGA-3C-AALJ-01A-31D-A41E-01</td>\n",
       "      <td>TCGA-3C-AALJ-01</td>\n",
       "      <td>NaN</td>\n",
       "      <td>c924c2a8-ab41-4499-bb30-79705cc17d45</td>\n",
       "      <td>TCGA-3C-AALJ-01A-31D-A41E-01</td>\n",
       "      <td>NaN</td>\n",
       "    </tr>\n",
       "    <tr>\n",
       "      <th>TCGA-3C-AALK-01</th>\n",
       "      <td>NaN</td>\n",
       "      <td>NaN</td>\n",
       "      <td>NaN</td>\n",
       "      <td>NaN</td>\n",
       "      <td>NaN</td>\n",
       "      <td>NaN</td>\n",
       "      <td>NaN</td>\n",
       "      <td>NaN</td>\n",
       "      <td>NaN</td>\n",
       "      <td>NaN</td>\n",
       "      <td>...</td>\n",
       "      <td>NaN</td>\n",
       "      <td>NaN</td>\n",
       "      <td>1a19e068-d213-41ef-aebb-104017a883cc</td>\n",
       "      <td>NaN</td>\n",
       "      <td>TCGA-3C-AALK-01A-11D-A41E-01</td>\n",
       "      <td>TCGA-3C-AALK-01</td>\n",
       "      <td>NaN</td>\n",
       "      <td>1a19e068-d213-41ef-aebb-104017a883cc</td>\n",
       "      <td>TCGA-3C-AALK-01A-11D-A41E-01</td>\n",
       "      <td>NaN</td>\n",
       "    </tr>\n",
       "    <tr>\n",
       "      <th>TCGA-4H-AAAK-01</th>\n",
       "      <td>NaN</td>\n",
       "      <td>NaN</td>\n",
       "      <td>NaN</td>\n",
       "      <td>NaN</td>\n",
       "      <td>NaN</td>\n",
       "      <td>NaN</td>\n",
       "      <td>NaN</td>\n",
       "      <td>NaN</td>\n",
       "      <td>NaN</td>\n",
       "      <td>NaN</td>\n",
       "      <td>...</td>\n",
       "      <td>NaN</td>\n",
       "      <td>NaN</td>\n",
       "      <td>2ea9e472-a408-4ae0-975d-50a566f22b2a</td>\n",
       "      <td>NaN</td>\n",
       "      <td>TCGA-4H-AAAK-01A-12D-A41E-01</td>\n",
       "      <td>TCGA-4H-AAAK-01</td>\n",
       "      <td>NaN</td>\n",
       "      <td>2ea9e472-a408-4ae0-975d-50a566f22b2a</td>\n",
       "      <td>TCGA-4H-AAAK-01A-12D-A41E-01</td>\n",
       "      <td>NaN</td>\n",
       "    </tr>\n",
       "  </tbody>\n",
       "</table>\n",
       "<p>5 rows × 193 columns</p>\n",
       "</div>"
      ],
      "text/plain": [
       "                AJCC_Stage_nature2012  \\\n",
       "sample                                  \n",
       "TCGA-3C-AAAU-01                   NaN   \n",
       "TCGA-3C-AALI-01                   NaN   \n",
       "TCGA-3C-AALJ-01                   NaN   \n",
       "TCGA-3C-AALK-01                   NaN   \n",
       "TCGA-4H-AAAK-01                   NaN   \n",
       "\n",
       "                 Age_at_Initial_Pathologic_Diagnosis_nature2012  \\\n",
       "sample                                                            \n",
       "TCGA-3C-AAAU-01                                             NaN   \n",
       "TCGA-3C-AALI-01                                             NaN   \n",
       "TCGA-3C-AALJ-01                                             NaN   \n",
       "TCGA-3C-AALK-01                                             NaN   \n",
       "TCGA-4H-AAAK-01                                             NaN   \n",
       "\n",
       "                 CN_Clusters_nature2012 Converted_Stage_nature2012  \\\n",
       "sample                                                               \n",
       "TCGA-3C-AAAU-01                     NaN                        NaN   \n",
       "TCGA-3C-AALI-01                     NaN                        NaN   \n",
       "TCGA-3C-AALJ-01                     NaN                        NaN   \n",
       "TCGA-3C-AALK-01                     NaN                        NaN   \n",
       "TCGA-4H-AAAK-01                     NaN                        NaN   \n",
       "\n",
       "                 Days_to_Date_of_Last_Contact_nature2012  \\\n",
       "sample                                                     \n",
       "TCGA-3C-AAAU-01                                      NaN   \n",
       "TCGA-3C-AALI-01                                      NaN   \n",
       "TCGA-3C-AALJ-01                                      NaN   \n",
       "TCGA-3C-AALK-01                                      NaN   \n",
       "TCGA-4H-AAAK-01                                      NaN   \n",
       "\n",
       "                 Days_to_date_of_Death_nature2012 ER_Status_nature2012  \\\n",
       "sample                                                                   \n",
       "TCGA-3C-AAAU-01                               NaN                  NaN   \n",
       "TCGA-3C-AALI-01                               NaN                  NaN   \n",
       "TCGA-3C-AALJ-01                               NaN                  NaN   \n",
       "TCGA-3C-AALK-01                               NaN                  NaN   \n",
       "TCGA-4H-AAAK-01                               NaN                  NaN   \n",
       "\n",
       "                Gender_nature2012 HER2_Final_Status_nature2012  \\\n",
       "sample                                                           \n",
       "TCGA-3C-AAAU-01               NaN                          NaN   \n",
       "TCGA-3C-AALI-01               NaN                          NaN   \n",
       "TCGA-3C-AALJ-01               NaN                          NaN   \n",
       "TCGA-3C-AALK-01               NaN                          NaN   \n",
       "TCGA-4H-AAAK-01               NaN                          NaN   \n",
       "\n",
       "                 Integrated_Clusters_no_exp__nature2012  ...  \\\n",
       "sample                                                   ...   \n",
       "TCGA-3C-AAAU-01                                     NaN  ...   \n",
       "TCGA-3C-AALI-01                                     NaN  ...   \n",
       "TCGA-3C-AALJ-01                                     NaN  ...   \n",
       "TCGA-3C-AALK-01                                     NaN  ...   \n",
       "TCGA-4H-AAAK-01                                     NaN  ...   \n",
       "\n",
       "                 _GENOMIC_ID_TCGA_BRCA_mutation_wustl_gene  \\\n",
       "sample                                                       \n",
       "TCGA-3C-AAAU-01                                        NaN   \n",
       "TCGA-3C-AALI-01                                        NaN   \n",
       "TCGA-3C-AALJ-01                                        NaN   \n",
       "TCGA-3C-AALK-01                                        NaN   \n",
       "TCGA-4H-AAAK-01                                        NaN   \n",
       "\n",
       "                 _GENOMIC_ID_TCGA_BRCA_miRNA_GA  \\\n",
       "sample                                            \n",
       "TCGA-3C-AAAU-01                             NaN   \n",
       "TCGA-3C-AALI-01                             NaN   \n",
       "TCGA-3C-AALJ-01                             NaN   \n",
       "TCGA-3C-AALK-01                             NaN   \n",
       "TCGA-4H-AAAK-01                             NaN   \n",
       "\n",
       "                _GENOMIC_ID_TCGA_BRCA_exp_HiSeqV2_percentile  \\\n",
       "sample                                                         \n",
       "TCGA-3C-AAAU-01         6ef883fc-81f3-4089-95e0-86904ffc0d38   \n",
       "TCGA-3C-AALI-01         dd8d3665-ec9d-45be-b7b9-a85dac3585e2   \n",
       "TCGA-3C-AALJ-01         c924c2a8-ab41-4499-bb30-79705cc17d45   \n",
       "TCGA-3C-AALK-01         1a19e068-d213-41ef-aebb-104017a883cc   \n",
       "TCGA-4H-AAAK-01         2ea9e472-a408-4ae0-975d-50a566f22b2a   \n",
       "\n",
       "                _GENOMIC_ID_data/public/TCGA/BRCA/miRNA_GA_gene  \\\n",
       "sample                                                            \n",
       "TCGA-3C-AAAU-01                                             NaN   \n",
       "TCGA-3C-AALI-01                                             NaN   \n",
       "TCGA-3C-AALJ-01                                             NaN   \n",
       "TCGA-3C-AALK-01                                             NaN   \n",
       "TCGA-4H-AAAK-01                                             NaN   \n",
       "\n",
       "                _GENOMIC_ID_TCGA_BRCA_gistic2thd  \\\n",
       "sample                                             \n",
       "TCGA-3C-AAAU-01     TCGA-3C-AAAU-01A-11D-A41E-01   \n",
       "TCGA-3C-AALI-01     TCGA-3C-AALI-01A-11D-A41E-01   \n",
       "TCGA-3C-AALJ-01     TCGA-3C-AALJ-01A-31D-A41E-01   \n",
       "TCGA-3C-AALK-01     TCGA-3C-AALK-01A-11D-A41E-01   \n",
       "TCGA-4H-AAAK-01     TCGA-4H-AAAK-01A-12D-A41E-01   \n",
       "\n",
       "                _GENOMIC_ID_data/public/TCGA/BRCA/miRNA_HiSeq_gene  \\\n",
       "sample                                                               \n",
       "TCGA-3C-AAAU-01                                    TCGA-3C-AAAU-01   \n",
       "TCGA-3C-AALI-01                                    TCGA-3C-AALI-01   \n",
       "TCGA-3C-AALJ-01                                    TCGA-3C-AALJ-01   \n",
       "TCGA-3C-AALK-01                                    TCGA-3C-AALK-01   \n",
       "TCGA-4H-AAAK-01                                    TCGA-4H-AAAK-01   \n",
       "\n",
       "                 _GENOMIC_ID_TCGA_BRCA_G4502A_07_3  \\\n",
       "sample                                               \n",
       "TCGA-3C-AAAU-01                                NaN   \n",
       "TCGA-3C-AALI-01                                NaN   \n",
       "TCGA-3C-AALJ-01                                NaN   \n",
       "TCGA-3C-AALK-01                                NaN   \n",
       "TCGA-4H-AAAK-01                                NaN   \n",
       "\n",
       "                    _GENOMIC_ID_TCGA_BRCA_exp_HiSeqV2  \\\n",
       "sample                                                  \n",
       "TCGA-3C-AAAU-01  6ef883fc-81f3-4089-95e0-86904ffc0d38   \n",
       "TCGA-3C-AALI-01  dd8d3665-ec9d-45be-b7b9-a85dac3585e2   \n",
       "TCGA-3C-AALJ-01  c924c2a8-ab41-4499-bb30-79705cc17d45   \n",
       "TCGA-3C-AALK-01  1a19e068-d213-41ef-aebb-104017a883cc   \n",
       "TCGA-4H-AAAK-01  2ea9e472-a408-4ae0-975d-50a566f22b2a   \n",
       "\n",
       "                _GENOMIC_ID_TCGA_BRCA_gistic2 _GENOMIC_ID_TCGA_BRCA_PDMarray  \n",
       "sample                                                                        \n",
       "TCGA-3C-AAAU-01  TCGA-3C-AAAU-01A-11D-A41E-01                            NaN  \n",
       "TCGA-3C-AALI-01  TCGA-3C-AALI-01A-11D-A41E-01                            NaN  \n",
       "TCGA-3C-AALJ-01  TCGA-3C-AALJ-01A-31D-A41E-01                            NaN  \n",
       "TCGA-3C-AALK-01  TCGA-3C-AALK-01A-11D-A41E-01                            NaN  \n",
       "TCGA-4H-AAAK-01  TCGA-4H-AAAK-01A-12D-A41E-01                            NaN  \n",
       "\n",
       "[5 rows x 193 columns]"
      ]
     },
     "execution_count": 21,
     "metadata": {},
     "output_type": "execute_result"
    }
   ],
   "source": [
    "df.head()"
   ]
  },
  {
   "cell_type": "code",
   "execution_count": 22,
   "metadata": {
    "pycharm": {
     "name": "#%%\n"
    }
   },
   "outputs": [
    {
     "ename": "TypeError",
     "evalue": "Cannot index by location index with a non-integer key",
     "output_type": "error",
     "traceback": [
      "\u001b[1;31m---------------------------------------------------------------------------\u001b[0m",
      "\u001b[1;31mTypeError\u001b[0m                                 Traceback (most recent call last)",
      "\u001b[1;32m~\\AppData\\Local\\Temp/ipykernel_11968/1499762774.py\u001b[0m in \u001b[0;36m<module>\u001b[1;34m\u001b[0m\n\u001b[0;32m     13\u001b[0m     \u001b[1;32mfor\u001b[0m \u001b[0mcol_name\u001b[0m \u001b[1;32min\u001b[0m \u001b[0mdf\u001b[0m\u001b[1;33m.\u001b[0m\u001b[0mcolumns\u001b[0m\u001b[1;33m[\u001b[0m\u001b[1;36m1\u001b[0m\u001b[1;33m:\u001b[0m\u001b[1;33m]\u001b[0m\u001b[1;33m:\u001b[0m\u001b[1;33m\u001b[0m\u001b[1;33m\u001b[0m\u001b[0m\n\u001b[0;32m     14\u001b[0m         \u001b[1;31m# print(dict(col=val))\u001b[0m\u001b[1;33m\u001b[0m\u001b[1;33m\u001b[0m\u001b[0m\n\u001b[1;32m---> 15\u001b[1;33m         \u001b[0mval\u001b[0m \u001b[1;33m=\u001b[0m \u001b[0mdf\u001b[0m\u001b[1;33m[\u001b[0m\u001b[0mcol_name\u001b[0m\u001b[1;33m]\u001b[0m\u001b[1;33m.\u001b[0m\u001b[0miloc\u001b[0m\u001b[1;33m[\u001b[0m\u001b[0mi\u001b[0m\u001b[1;33m]\u001b[0m\u001b[1;33m\u001b[0m\u001b[1;33m\u001b[0m\u001b[0m\n\u001b[0m\u001b[0;32m     16\u001b[0m         \u001b[1;32mif\u001b[0m \u001b[1;32mnot\u001b[0m \u001b[0misinstance\u001b[0m\u001b[1;33m(\u001b[0m\u001b[0mval\u001b[0m\u001b[1;33m,\u001b[0m \u001b[0mstr\u001b[0m\u001b[1;33m)\u001b[0m\u001b[1;33m:\u001b[0m\u001b[1;33m\u001b[0m\u001b[1;33m\u001b[0m\u001b[0m\n\u001b[0;32m     17\u001b[0m             \u001b[1;32mif\u001b[0m \u001b[1;32mnot\u001b[0m \u001b[0mmath\u001b[0m\u001b[1;33m.\u001b[0m\u001b[0misnan\u001b[0m\u001b[1;33m(\u001b[0m\u001b[0mval\u001b[0m\u001b[1;33m)\u001b[0m\u001b[1;33m:\u001b[0m\u001b[1;33m\u001b[0m\u001b[1;33m\u001b[0m\u001b[0m\n",
      "\u001b[1;32m~\\anaconda3\\envs\\ohad\\lib\\site-packages\\pandas\\core\\indexing.py\u001b[0m in \u001b[0;36m__getitem__\u001b[1;34m(self, key)\u001b[0m\n\u001b[0;32m    929\u001b[0m \u001b[1;33m\u001b[0m\u001b[0m\n\u001b[0;32m    930\u001b[0m             \u001b[0mmaybe_callable\u001b[0m \u001b[1;33m=\u001b[0m \u001b[0mcom\u001b[0m\u001b[1;33m.\u001b[0m\u001b[0mapply_if_callable\u001b[0m\u001b[1;33m(\u001b[0m\u001b[0mkey\u001b[0m\u001b[1;33m,\u001b[0m \u001b[0mself\u001b[0m\u001b[1;33m.\u001b[0m\u001b[0mobj\u001b[0m\u001b[1;33m)\u001b[0m\u001b[1;33m\u001b[0m\u001b[1;33m\u001b[0m\u001b[0m\n\u001b[1;32m--> 931\u001b[1;33m             \u001b[1;32mreturn\u001b[0m \u001b[0mself\u001b[0m\u001b[1;33m.\u001b[0m\u001b[0m_getitem_axis\u001b[0m\u001b[1;33m(\u001b[0m\u001b[0mmaybe_callable\u001b[0m\u001b[1;33m,\u001b[0m \u001b[0maxis\u001b[0m\u001b[1;33m=\u001b[0m\u001b[0maxis\u001b[0m\u001b[1;33m)\u001b[0m\u001b[1;33m\u001b[0m\u001b[1;33m\u001b[0m\u001b[0m\n\u001b[0m\u001b[0;32m    932\u001b[0m \u001b[1;33m\u001b[0m\u001b[0m\n\u001b[0;32m    933\u001b[0m     \u001b[1;32mdef\u001b[0m \u001b[0m_is_scalar_access\u001b[0m\u001b[1;33m(\u001b[0m\u001b[0mself\u001b[0m\u001b[1;33m,\u001b[0m \u001b[0mkey\u001b[0m\u001b[1;33m:\u001b[0m \u001b[0mtuple\u001b[0m\u001b[1;33m)\u001b[0m\u001b[1;33m:\u001b[0m\u001b[1;33m\u001b[0m\u001b[1;33m\u001b[0m\u001b[0m\n",
      "\u001b[1;32m~\\anaconda3\\envs\\ohad\\lib\\site-packages\\pandas\\core\\indexing.py\u001b[0m in \u001b[0;36m_getitem_axis\u001b[1;34m(self, key, axis)\u001b[0m\n\u001b[0;32m   1561\u001b[0m             \u001b[0mkey\u001b[0m \u001b[1;33m=\u001b[0m \u001b[0mitem_from_zerodim\u001b[0m\u001b[1;33m(\u001b[0m\u001b[0mkey\u001b[0m\u001b[1;33m)\u001b[0m\u001b[1;33m\u001b[0m\u001b[1;33m\u001b[0m\u001b[0m\n\u001b[0;32m   1562\u001b[0m             \u001b[1;32mif\u001b[0m \u001b[1;32mnot\u001b[0m \u001b[0mis_integer\u001b[0m\u001b[1;33m(\u001b[0m\u001b[0mkey\u001b[0m\u001b[1;33m)\u001b[0m\u001b[1;33m:\u001b[0m\u001b[1;33m\u001b[0m\u001b[1;33m\u001b[0m\u001b[0m\n\u001b[1;32m-> 1563\u001b[1;33m                 \u001b[1;32mraise\u001b[0m \u001b[0mTypeError\u001b[0m\u001b[1;33m(\u001b[0m\u001b[1;34m\"Cannot index by location index with a non-integer key\"\u001b[0m\u001b[1;33m)\u001b[0m\u001b[1;33m\u001b[0m\u001b[1;33m\u001b[0m\u001b[0m\n\u001b[0m\u001b[0;32m   1564\u001b[0m \u001b[1;33m\u001b[0m\u001b[0m\n\u001b[0;32m   1565\u001b[0m             \u001b[1;31m# validate the location\u001b[0m\u001b[1;33m\u001b[0m\u001b[1;33m\u001b[0m\u001b[0m\n",
      "\u001b[1;31mTypeError\u001b[0m: Cannot index by location index with a non-integer key"
     ]
    }
   ],
   "source": [
    "import math\n",
    "\n",
    "col = db[col_name]\n",
    "col.drop()\n",
    "col.create_index([('patient', 1)])\n",
    "col.create_index([('name', 1)])\n",
    "col.create_index([('patient', 1), ('name', 1)], unique=True)\n",
    "aggregator = []\n",
    "\n",
    "for i, row in df.iterrows():\n",
    "    patient = row[0]\n",
    "    out_dict = dict()\n",
    "    for col_name in df.columns[1:]:\n",
    "        # print(dict(col=val))\n",
    "        val = df[col_name].iloc[i]\n",
    "        if not isinstance(val, str):\n",
    "            if not math.isnan(val):\n",
    "                out_dict = dict(patient=patient, name=col_name, value=val)\n",
    "            else:\n",
    "                continue\n",
    "\n",
    "        aggregator.append(out_dict)\n",
    "        print(out_dict)\n",
    "        if (len(aggregator) % 10000) == 0:\n",
    "            col.insert_many(aggregator)\n",
    "            # logger.info(f'Inserted {len(x.inserted_ids)} documents')\n",
    "            aggregator = []"
   ]
  },
  {
   "cell_type": "code",
   "execution_count": 7,
   "metadata": {
    "pycharm": {
     "name": "#%%\n"
    }
   },
   "outputs": [
    {
     "data": {
      "text/plain": [
       "{'_id': ObjectId('6175885f9d190068cb5a10d4')}"
      ]
     },
     "execution_count": 7,
     "metadata": {},
     "output_type": "execute_result"
    }
   ],
   "source": [
    "aggregator"
   ]
  },
  {
   "cell_type": "code",
   "execution_count": null,
   "metadata": {
    "pycharm": {
     "name": "#%%\n"
    }
   },
   "outputs": [],
   "source": [
    "col = db[col_name]\n",
    "col.drop()\n",
    "col.create_index([('patient', 1)])\n",
    "col.create_index([('name', 1)])\n",
    "col.create_index([('patient', 1), ('name', 1)], unique=True)\n",
    "\n",
    "aggregator = []\n",
    "for i in tqdm(range(len(df))):\n",
    "    patient = df[df.columns[0]].iloc[i]\n",
    "    name = df[df.columns[1]].iloc[i]\n",
    "    output_dict = {df.columns[j + 2]: df[df.columns[j + 2]].iloc[i].tolist() for j in range(len(df.columns[2:]))}\n",
    "    output_dict.update(name=name, patient=patient)\n",
    "    aggregator.append(output_dict)\n",
    "    if (len(aggregator) % 10000) == 0:\n",
    "        col.insert_many(aggregator)\n",
    "        # logger.info(f'Inserted {len(x.inserted_ids)} documents')\n",
    "        aggregator = []\n"
   ]
  },
  {
   "cell_type": "code",
   "execution_count": null,
   "metadata": {
    "pycharm": {
     "name": "#%%\n"
    }
   },
   "outputs": [],
   "source": [
    "patients = df.columns[1:]"
   ]
  },
  {
   "cell_type": "code",
   "execution_count": 9,
   "metadata": {
    "pycharm": {
     "name": "#%%\n"
    }
   },
   "outputs": [
    {
     "name": "stderr",
     "output_type": "stream",
     "text": [
      "  0%|          | 0/265242 [00:42<?, ?it/s]\n"
     ]
    },
    {
     "ename": "KeyboardInterrupt",
     "evalue": "",
     "output_type": "error",
     "traceback": [
      "\u001b[1;31m---------------------------------------------------------------------------\u001b[0m",
      "\u001b[1;31mKeyboardInterrupt\u001b[0m                         Traceback (most recent call last)",
      "\u001b[1;32m~\\AppData\\Local\\Temp/ipykernel_15664/2863451613.py\u001b[0m in \u001b[0;36m<module>\u001b[1;34m\u001b[0m\n\u001b[0;32m      7\u001b[0m \u001b[0mcol\u001b[0m\u001b[1;33m.\u001b[0m\u001b[0mcreate_index\u001b[0m\u001b[1;33m(\u001b[0m\u001b[1;33m[\u001b[0m\u001b[1;33m(\u001b[0m\u001b[1;34m'patient'\u001b[0m\u001b[1;33m,\u001b[0m  \u001b[1;36m1\u001b[0m\u001b[1;33m)\u001b[0m\u001b[1;33m,\u001b[0m \u001b[1;33m(\u001b[0m\u001b[1;34m'name'\u001b[0m\u001b[1;33m,\u001b[0m \u001b[1;36m1\u001b[0m\u001b[1;33m)\u001b[0m\u001b[1;33m]\u001b[0m\u001b[1;33m)\u001b[0m\u001b[1;33m\u001b[0m\u001b[1;33m\u001b[0m\u001b[0m\n\u001b[0;32m      8\u001b[0m \u001b[1;33m\u001b[0m\u001b[0m\n\u001b[1;32m----> 9\u001b[1;33m \u001b[0mparse_dataframe_to_database\u001b[0m\u001b[1;33m(\u001b[0m\u001b[0mcol\u001b[0m\u001b[1;33m=\u001b[0m\u001b[0mcol\u001b[0m\u001b[1;33m,\u001b[0m \u001b[0mdf\u001b[0m\u001b[1;33m=\u001b[0m\u001b[0mdf\u001b[0m\u001b[1;33m,\u001b[0m \u001b[0mpatients\u001b[0m\u001b[1;33m=\u001b[0m\u001b[0mpatients\u001b[0m\u001b[1;33m)\u001b[0m\u001b[1;33m\u001b[0m\u001b[1;33m\u001b[0m\u001b[0m\n\u001b[0m\u001b[0;32m     10\u001b[0m \u001b[1;33m\u001b[0m\u001b[0m\n",
      "\u001b[1;32m~\\Projects\\ohad\\src\\utils.py\u001b[0m in \u001b[0;36mparse_dataframe_to_database\u001b[1;34m(col, df, patients, num_rows_to_parse_before_dump)\u001b[0m\n\u001b[0;32m     78\u001b[0m         \u001b[1;32massert\u001b[0m \u001b[0misinstance\u001b[0m\u001b[1;33m(\u001b[0m\u001b[0mrow\u001b[0m\u001b[1;33m[\u001b[0m\u001b[1;36m0\u001b[0m\u001b[1;33m]\u001b[0m\u001b[1;33m,\u001b[0m \u001b[0mstr\u001b[0m\u001b[1;33m)\u001b[0m\u001b[1;33m,\u001b[0m \u001b[1;34m'first item in each row must be the feature name'\u001b[0m\u001b[1;33m\u001b[0m\u001b[1;33m\u001b[0m\u001b[0m\n\u001b[0;32m     79\u001b[0m         \u001b[1;32mfor\u001b[0m \u001b[0mpatient\u001b[0m\u001b[1;33m,\u001b[0m \u001b[0mvalue\u001b[0m \u001b[1;32min\u001b[0m \u001b[0mzip\u001b[0m\u001b[1;33m(\u001b[0m\u001b[0mpatients\u001b[0m\u001b[1;33m,\u001b[0m \u001b[0mrow\u001b[0m\u001b[1;33m[\u001b[0m\u001b[1;36m1\u001b[0m\u001b[1;33m:\u001b[0m\u001b[1;33m]\u001b[0m\u001b[1;33m)\u001b[0m\u001b[1;33m:\u001b[0m\u001b[1;33m\u001b[0m\u001b[1;33m\u001b[0m\u001b[0m\n\u001b[1;32m---> 80\u001b[1;33m             \u001b[1;32massert\u001b[0m \u001b[0misinstance\u001b[0m\u001b[1;33m(\u001b[0m\u001b[0mvalue\u001b[0m\u001b[1;33m,\u001b[0m \u001b[1;33m(\u001b[0m\u001b[0mint\u001b[0m\u001b[1;33m,\u001b[0m \u001b[0mfloat\u001b[0m\u001b[1;33m)\u001b[0m\u001b[1;33m)\u001b[0m\u001b[1;33m,\u001b[0m \u001b[1;34mf'Values must be floating point objects, got instead: {value}'\u001b[0m\u001b[1;33m\u001b[0m\u001b[1;33m\u001b[0m\u001b[0m\n\u001b[0m\u001b[0;32m     81\u001b[0m \u001b[1;33m\u001b[0m\u001b[0m\n\u001b[0;32m     82\u001b[0m             \u001b[0maggregator\u001b[0m\u001b[1;33m.\u001b[0m\u001b[0mappend\u001b[0m\u001b[1;33m(\u001b[0m\u001b[1;33m{\u001b[0m\u001b[1;34m\"patient\"\u001b[0m\u001b[1;33m:\u001b[0m \u001b[0mpatient\u001b[0m\u001b[1;33m,\u001b[0m \u001b[1;34m\"name\"\u001b[0m\u001b[1;33m:\u001b[0m \u001b[0mrow\u001b[0m\u001b[1;33m[\u001b[0m\u001b[1;36m0\u001b[0m\u001b[1;33m]\u001b[0m\u001b[1;33m,\u001b[0m \u001b[1;34m\"value\"\u001b[0m\u001b[1;33m:\u001b[0m \u001b[0mvalue\u001b[0m\u001b[1;33m}\u001b[0m\u001b[1;33m)\u001b[0m\u001b[1;33m\u001b[0m\u001b[1;33m\u001b[0m\u001b[0m\n",
      "\u001b[1;32m~\\Projects\\ohad\\src\\utils.py\u001b[0m in \u001b[0;36mparse_dataframe_to_database\u001b[1;34m(col, df, patients, num_rows_to_parse_before_dump)\u001b[0m\n\u001b[0;32m     78\u001b[0m         \u001b[1;32massert\u001b[0m \u001b[0misinstance\u001b[0m\u001b[1;33m(\u001b[0m\u001b[0mrow\u001b[0m\u001b[1;33m[\u001b[0m\u001b[1;36m0\u001b[0m\u001b[1;33m]\u001b[0m\u001b[1;33m,\u001b[0m \u001b[0mstr\u001b[0m\u001b[1;33m)\u001b[0m\u001b[1;33m,\u001b[0m \u001b[1;34m'first item in each row must be the feature name'\u001b[0m\u001b[1;33m\u001b[0m\u001b[1;33m\u001b[0m\u001b[0m\n\u001b[0;32m     79\u001b[0m         \u001b[1;32mfor\u001b[0m \u001b[0mpatient\u001b[0m\u001b[1;33m,\u001b[0m \u001b[0mvalue\u001b[0m \u001b[1;32min\u001b[0m \u001b[0mzip\u001b[0m\u001b[1;33m(\u001b[0m\u001b[0mpatients\u001b[0m\u001b[1;33m,\u001b[0m \u001b[0mrow\u001b[0m\u001b[1;33m[\u001b[0m\u001b[1;36m1\u001b[0m\u001b[1;33m:\u001b[0m\u001b[1;33m]\u001b[0m\u001b[1;33m)\u001b[0m\u001b[1;33m:\u001b[0m\u001b[1;33m\u001b[0m\u001b[1;33m\u001b[0m\u001b[0m\n\u001b[1;32m---> 80\u001b[1;33m             \u001b[1;32massert\u001b[0m \u001b[0misinstance\u001b[0m\u001b[1;33m(\u001b[0m\u001b[0mvalue\u001b[0m\u001b[1;33m,\u001b[0m \u001b[1;33m(\u001b[0m\u001b[0mint\u001b[0m\u001b[1;33m,\u001b[0m \u001b[0mfloat\u001b[0m\u001b[1;33m)\u001b[0m\u001b[1;33m)\u001b[0m\u001b[1;33m,\u001b[0m \u001b[1;34mf'Values must be floating point objects, got instead: {value}'\u001b[0m\u001b[1;33m\u001b[0m\u001b[1;33m\u001b[0m\u001b[0m\n\u001b[0m\u001b[0;32m     81\u001b[0m \u001b[1;33m\u001b[0m\u001b[0m\n\u001b[0;32m     82\u001b[0m             \u001b[0maggregator\u001b[0m\u001b[1;33m.\u001b[0m\u001b[0mappend\u001b[0m\u001b[1;33m(\u001b[0m\u001b[1;33m{\u001b[0m\u001b[1;34m\"patient\"\u001b[0m\u001b[1;33m:\u001b[0m \u001b[0mpatient\u001b[0m\u001b[1;33m,\u001b[0m \u001b[1;34m\"name\"\u001b[0m\u001b[1;33m:\u001b[0m \u001b[0mrow\u001b[0m\u001b[1;33m[\u001b[0m\u001b[1;36m0\u001b[0m\u001b[1;33m]\u001b[0m\u001b[1;33m,\u001b[0m \u001b[1;34m\"value\"\u001b[0m\u001b[1;33m:\u001b[0m \u001b[0mvalue\u001b[0m\u001b[1;33m}\u001b[0m\u001b[1;33m)\u001b[0m\u001b[1;33m\u001b[0m\u001b[1;33m\u001b[0m\u001b[0m\n",
      "\u001b[1;32m_pydevd_bundle\\pydevd_cython_win32_39_64.pyx\u001b[0m in \u001b[0;36m_pydevd_bundle.pydevd_cython_win32_39_64.SafeCallWrapper.__call__\u001b[1;34m()\u001b[0m\n",
      "\u001b[1;32m_pydevd_bundle\\pydevd_cython_win32_39_64.pyx\u001b[0m in \u001b[0;36m_pydevd_bundle.pydevd_cython_win32_39_64.PyDBFrame.trace_dispatch\u001b[1;34m()\u001b[0m\n",
      "\u001b[1;32m_pydevd_bundle\\pydevd_cython_win32_39_64.pyx\u001b[0m in \u001b[0;36m_pydevd_bundle.pydevd_cython_win32_39_64.PyDBFrame.trace_dispatch\u001b[1;34m()\u001b[0m\n",
      "\u001b[1;32m_pydevd_bundle\\pydevd_cython_win32_39_64.pyx\u001b[0m in \u001b[0;36m_pydevd_bundle.pydevd_cython_win32_39_64.PyDBFrame.trace_dispatch\u001b[1;34m()\u001b[0m\n",
      "\u001b[1;32mC:\\Program Files\\JetBrains\\PyCharm 2021.2.3\\plugins\\python\\helpers-pro\\jupyter_debug\\pydev_jupyter_plugin.py\u001b[0m in \u001b[0;36mstop\u001b[1;34m(plugin, pydb, frame, event, args, stop_info, arg, step_cmd)\u001b[0m\n\u001b[0;32m    163\u001b[0m         \u001b[0mframe\u001b[0m \u001b[1;33m=\u001b[0m \u001b[0msuspend_jupyter\u001b[0m\u001b[1;33m(\u001b[0m\u001b[0mmain_debugger\u001b[0m\u001b[1;33m,\u001b[0m \u001b[0mthread\u001b[0m\u001b[1;33m,\u001b[0m \u001b[0mframe\u001b[0m\u001b[1;33m,\u001b[0m \u001b[0mstep_cmd\u001b[0m\u001b[1;33m)\u001b[0m\u001b[1;33m\u001b[0m\u001b[1;33m\u001b[0m\u001b[0m\n\u001b[0;32m    164\u001b[0m         \u001b[1;32mif\u001b[0m \u001b[0mframe\u001b[0m\u001b[1;33m:\u001b[0m\u001b[1;33m\u001b[0m\u001b[1;33m\u001b[0m\u001b[0m\n\u001b[1;32m--> 165\u001b[1;33m             \u001b[0mmain_debugger\u001b[0m\u001b[1;33m.\u001b[0m\u001b[0mdo_wait_suspend\u001b[0m\u001b[1;33m(\u001b[0m\u001b[0mthread\u001b[0m\u001b[1;33m,\u001b[0m \u001b[0mframe\u001b[0m\u001b[1;33m,\u001b[0m \u001b[0mevent\u001b[0m\u001b[1;33m,\u001b[0m \u001b[0marg\u001b[0m\u001b[1;33m)\u001b[0m\u001b[1;33m\u001b[0m\u001b[1;33m\u001b[0m\u001b[0m\n\u001b[0m\u001b[0;32m    166\u001b[0m             \u001b[1;32mreturn\u001b[0m \u001b[1;32mTrue\u001b[0m\u001b[1;33m\u001b[0m\u001b[1;33m\u001b[0m\u001b[0m\n\u001b[0;32m    167\u001b[0m     \u001b[1;32mreturn\u001b[0m \u001b[1;32mFalse\u001b[0m\u001b[1;33m\u001b[0m\u001b[1;33m\u001b[0m\u001b[0m\n",
      "\u001b[1;32mC:\\Program Files\\JetBrains\\PyCharm 2021.2.3\\plugins\\python\\helpers\\pydev\\pydevd.py\u001b[0m in \u001b[0;36mdo_wait_suspend\u001b[1;34m(self, thread, frame, event, arg, send_suspend_message, is_unhandled_exception)\u001b[0m\n\u001b[0;32m   1145\u001b[0m \u001b[1;33m\u001b[0m\u001b[0m\n\u001b[0;32m   1146\u001b[0m         \u001b[1;32mwith\u001b[0m \u001b[0mself\u001b[0m\u001b[1;33m.\u001b[0m\u001b[0m_threads_suspended_single_notification\u001b[0m\u001b[1;33m.\u001b[0m\u001b[0mnotify_thread_suspended\u001b[0m\u001b[1;33m(\u001b[0m\u001b[0mthread_id\u001b[0m\u001b[1;33m,\u001b[0m \u001b[0mstop_reason\u001b[0m\u001b[1;33m)\u001b[0m\u001b[1;33m:\u001b[0m\u001b[1;33m\u001b[0m\u001b[1;33m\u001b[0m\u001b[0m\n\u001b[1;32m-> 1147\u001b[1;33m             \u001b[0mself\u001b[0m\u001b[1;33m.\u001b[0m\u001b[0m_do_wait_suspend\u001b[0m\u001b[1;33m(\u001b[0m\u001b[0mthread\u001b[0m\u001b[1;33m,\u001b[0m \u001b[0mframe\u001b[0m\u001b[1;33m,\u001b[0m \u001b[0mevent\u001b[0m\u001b[1;33m,\u001b[0m \u001b[0marg\u001b[0m\u001b[1;33m,\u001b[0m \u001b[0msuspend_type\u001b[0m\u001b[1;33m,\u001b[0m \u001b[0mfrom_this_thread\u001b[0m\u001b[1;33m)\u001b[0m\u001b[1;33m\u001b[0m\u001b[1;33m\u001b[0m\u001b[0m\n\u001b[0m\u001b[0;32m   1148\u001b[0m \u001b[1;33m\u001b[0m\u001b[0m\n\u001b[0;32m   1149\u001b[0m     \u001b[1;32mdef\u001b[0m \u001b[0m_do_wait_suspend\u001b[0m\u001b[1;33m(\u001b[0m\u001b[0mself\u001b[0m\u001b[1;33m,\u001b[0m \u001b[0mthread\u001b[0m\u001b[1;33m,\u001b[0m \u001b[0mframe\u001b[0m\u001b[1;33m,\u001b[0m \u001b[0mevent\u001b[0m\u001b[1;33m,\u001b[0m \u001b[0marg\u001b[0m\u001b[1;33m,\u001b[0m \u001b[0msuspend_type\u001b[0m\u001b[1;33m,\u001b[0m \u001b[0mfrom_this_thread\u001b[0m\u001b[1;33m)\u001b[0m\u001b[1;33m:\u001b[0m\u001b[1;33m\u001b[0m\u001b[1;33m\u001b[0m\u001b[0m\n",
      "\u001b[1;32mC:\\Program Files\\JetBrains\\PyCharm 2021.2.3\\plugins\\python\\helpers\\pydev\\pydevd.py\u001b[0m in \u001b[0;36m_do_wait_suspend\u001b[1;34m(self, thread, frame, event, arg, suspend_type, from_this_thread)\u001b[0m\n\u001b[0;32m   1160\u001b[0m \u001b[1;33m\u001b[0m\u001b[0m\n\u001b[0;32m   1161\u001b[0m                 \u001b[0mself\u001b[0m\u001b[1;33m.\u001b[0m\u001b[0mprocess_internal_commands\u001b[0m\u001b[1;33m(\u001b[0m\u001b[1;33m)\u001b[0m\u001b[1;33m\u001b[0m\u001b[1;33m\u001b[0m\u001b[0m\n\u001b[1;32m-> 1162\u001b[1;33m                 \u001b[0mtime\u001b[0m\u001b[1;33m.\u001b[0m\u001b[0msleep\u001b[0m\u001b[1;33m(\u001b[0m\u001b[1;36m0.01\u001b[0m\u001b[1;33m)\u001b[0m\u001b[1;33m\u001b[0m\u001b[1;33m\u001b[0m\u001b[0m\n\u001b[0m\u001b[0;32m   1163\u001b[0m \u001b[1;33m\u001b[0m\u001b[0m\n\u001b[0;32m   1164\u001b[0m         \u001b[0mself\u001b[0m\u001b[1;33m.\u001b[0m\u001b[0mcancel_async_evaluation\u001b[0m\u001b[1;33m(\u001b[0m\u001b[0mget_current_thread_id\u001b[0m\u001b[1;33m(\u001b[0m\u001b[0mthread\u001b[0m\u001b[1;33m)\u001b[0m\u001b[1;33m,\u001b[0m \u001b[0mstr\u001b[0m\u001b[1;33m(\u001b[0m\u001b[0mid\u001b[0m\u001b[1;33m(\u001b[0m\u001b[0mframe\u001b[0m\u001b[1;33m)\u001b[0m\u001b[1;33m)\u001b[0m\u001b[1;33m)\u001b[0m\u001b[1;33m\u001b[0m\u001b[1;33m\u001b[0m\u001b[0m\n",
      "\u001b[1;31mKeyboardInterrupt\u001b[0m: "
     ]
    }
   ],
   "source": [
    "\n",
    "\n",
    "col.drop()\n",
    "col.create_index([('patient', 1)])\n",
    "col.create_index([('name', 1)])\n",
    "col.create_index([('patient', 1), ('name', 1)])\n",
    "\n",
    "parse_dataframe_to_database(col=col, df=df, patients=patients)"
   ]
  },
  {
   "cell_type": "code",
   "execution_count": null,
   "metadata": {
    "pycharm": {
     "name": "#%%\n"
    }
   },
   "outputs": [],
   "source": [
    "patients"
   ]
  },
  {
   "cell_type": "code",
   "execution_count": null,
   "metadata": {
    "pycharm": {
     "name": "#%%\n"
    }
   },
   "outputs": [],
   "source": []
  }
 ],
 "metadata": {
  "kernelspec": {
   "display_name": "Python 3 (ipykernel)",
   "language": "python",
   "name": "python3"
  },
  "language_info": {
   "codemirror_mode": {
    "name": "ipython",
    "version": 3
   },
   "file_extension": ".py",
   "mimetype": "text/x-python",
   "name": "python",
   "nbconvert_exporter": "python",
   "pygments_lexer": "ipython3",
   "version": "3.9.7"
  }
 },
 "nbformat": 4,
 "nbformat_minor": 1
}
