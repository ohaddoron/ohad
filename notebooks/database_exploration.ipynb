{
 "cells": [
  {
   "cell_type": "code",
   "execution_count": 5,
   "metadata": {},
   "outputs": [
    {
     "name": "stdout",
     "output_type": "stream",
     "text": [
      "Populating the interactive namespace from numpy and matplotlib\n"
     ]
    }
   ],
   "source": [
    "%pylab inline\n",
    "import pandas as pd\n",
    "from glob2 import glob\n",
    "from pathlib import Path\n",
    "from sqlalchemy import create_engine\n",
    "from common.utils import init_cached_database, parse_mongodb_connection_string\n",
    "from src.utils import get_config\n",
    "import os"
   ]
  },
  {
   "cell_type": "code",
   "execution_count": 6,
   "metadata": {},
   "outputs": [
    {
     "name": "stderr",
     "output_type": "stream",
     "text": [
      "2021-07-25 12:30:09.516 | DEBUG    | src.utils:get_config:10 - Reading brca-database from /home/ohad/Projects/ohad/src/../config.toml\n"
     ]
    }
   ],
   "source": [
    "config = get_config('brca-database')"
   ]
  },
  {
   "cell_type": "code",
   "execution_count": 7,
   "metadata": {},
   "outputs": [],
   "source": [
    "xlsx_files = glob(\n",
    "    \"/data/Database/Human/TCGA-BRCA_Online/Clinical Data (CSV)/*.xlsx\")\n"
   ]
  },
  {
   "cell_type": "code",
   "execution_count": 8,
   "metadata": {},
   "outputs": [],
   "source": [
    "db = init_cached_database(parse_mongodb_connection_string(**config), db_name=config['db_name'])"
   ]
  },
  {
   "cell_type": "code",
   "execution_count": 17,
   "metadata": {},
   "outputs": [],
   "source": [
    "def split_name(name):\n",
    "    return Path(name).name.split('org_')[-1].split('.xlsx')[0]\n",
    "\n",
    "def replace_not_available_with_none(item):\n",
    "    for key, value in item.items():\n",
    "        if item[key] in ['[Not Available]', '[Not Applicable]']:\n",
    "            item[key] = None\n",
    "    return item\n"
   ]
  },
  {
   "cell_type": "code",
   "execution_count": 20,
   "metadata": {},
   "outputs": [],
   "source": [
    "for xlsx_file in xlsx_files:\n",
    "    table_name = split_name(xlsx_file)\n",
    "    df = pd.read_excel(xlsx_file,engine='openpyxl')[2:]\n",
    "    # df.to_sql(table_name, con=engine, if_exists='replace')\n",
    "    items = [row.to_dict() for _, row in df.iterrows()]\n",
    "    items = [replace_not_available_with_none(item) for item in items]\n",
    "    db[table_name].insert_many(items)\n",
    "\n"
   ]
  },
  {
   "cell_type": "code",
   "execution_count": 19,
   "metadata": {},
   "outputs": [
    {
     "data": {
      "text/plain": [
       "{'bcr_patient_uuid': 'e17c565c-9857-4df3-a352-903b53093c85',\n",
       " 'bcr_patient_barcode': 'TCGA-AO-A0JI',\n",
       " 'bcr_omf_barcode': 'TCGA-AO-A0JI-O7952',\n",
       " 'bcr_omf_uuid': '2EB50E2A-F7D5-4CF1-B85D-2935532A495B',\n",
       " 'form_completion_date': datetime.datetime(2011, 2, 18, 0, 0),\n",
       " 'malignancy_type': 'Prior Malignancy',\n",
       " 'other_malignancy_dx_days_to': None,\n",
       " 'surgery_indicator': None,\n",
       " 'other_malignancy_surgery_type': None,\n",
       " 'other_malignancy_surgery_days_to': -731,\n",
       " 'pharmaceutical_therapy_indicator': 'NO',\n",
       " 'pharmaceutical_therapy_extent': None,\n",
       " 'pharmaceutical_therapy_drug_name': None,\n",
       " 'pharmaceutical_tx_started_days_to': None,\n",
       " 'radiation_therapy_indicator': 'NO',\n",
       " 'radiation_therapy_extent': None,\n",
       " 'history_rt_tx_to_site_of_tcga_tumor': None,\n",
       " 'radiation_therapy_started_days_to': None,\n",
       " 'ajcc_staging_edition': None,\n",
       " 'ajcc_tumor_pathologic_pt': None,\n",
       " 'ajcc_nodes_pathologic_pn': None,\n",
       " 'ajcc_metastasis_pathologic_pm': None,\n",
       " 'ajcc_pathologic_tumor_stage': 'Stage IA',\n",
       " 'clinical_stage': None,\n",
       " 'other_malignancy_anatomic_site': 'Breast',\n",
       " 'other_malignancy_anatomic_site_text': None,\n",
       " 'other_malignancy_histological_type': 'Other, specify',\n",
       " 'other_malignancy_histological_type_text': 'Invasive Ductal Carcinoma, NOS',\n",
       " 'other_malignancy_laterality': 'Right',\n",
       " 'stage_other': None}"
      ]
     },
     "execution_count": 19,
     "metadata": {},
     "output_type": "execute_result"
    }
   ],
   "source": [
    "items[0]"
   ]
  },
  {
   "cell_type": "code",
   "execution_count": 1,
   "metadata": {},
   "outputs": [],
   "source": [
    "base_dir = '/data/Database/Human/TCGA-BRCA_Online/MRI Scans/TCGA-BRCA'\n"
   ]
  },
  {
   "cell_type": "code",
   "execution_count": 14,
   "metadata": {},
   "outputs": [],
   "source": [
    "files = glob(f'{base_dir}/**/*.dcm', recursive=True)"
   ]
  },
  {
   "cell_type": "code",
   "execution_count": 31,
   "metadata": {},
   "outputs": [],
   "source": [
    "dcm_dirs = ['/'.join(file.split('/')[:-1]) for file in files]"
   ]
  },
  {
   "cell_type": "code",
   "execution_count": 35,
   "metadata": {},
   "outputs": [
    {
     "data": {
      "text/plain": [
       "['TCGA-OL-A66L']"
      ]
     },
     "execution_count": 35,
     "metadata": {},
     "output_type": "execute_result"
    }
   ],
   "source": []
  },
  {
   "cell_type": "code",
   "execution_count": 47,
   "metadata": {},
   "outputs": [],
   "source": [
    "dcm_items = []\n",
    "for dcm_dir in dcm_dirs:\n",
    "    patient_barcode = [barcode for barcode in bcr_patient_barcode if barcode in dcm_dir][0]\n",
    "    dcm_items.append(\n",
    "        dict(bcr_patient_barcode=patient_barcode, dcm_dir=dcm_dir))\n"
   ]
  },
  {
   "cell_type": "code",
   "execution_count": 54,
   "metadata": {},
   "outputs": [
    {
     "data": {
      "text/plain": [
       "{'bcr_patient_barcode': 'TCGA-OL-A5RU',\n",
       " 'dcm_dir': '/data/Database/Human/TCGA-BRCA_Online/MRI Scans/TCGA-BRCA/TCGA-OL-A5RU/1.3.6.1.4.1.14519.5.2.1.5382.4002.621050843457519255436782462563/1.3.6.1.4.1.14519.5.2.1.5382.4002.173625326281036136333326088660',\n",
       " '_id': ObjectId('60fd367ce1f70bec86d605e5')}"
      ]
     },
     "execution_count": 54,
     "metadata": {},
     "output_type": "execute_result"
    }
   ],
   "source": [
    "dcm_items[10000]"
   ]
  },
  {
   "cell_type": "code",
   "execution_count": 55,
   "metadata": {},
   "outputs": [
    {
     "data": {
      "text/plain": [
       "<pymongo.results.InsertManyResult at 0x7f14d5b38380>"
      ]
     },
     "execution_count": 55,
     "metadata": {},
     "output_type": "execute_result"
    }
   ],
   "source": [
    "db['dcm_files'].insert_many(dcm_items)"
   ]
  },
  {
   "cell_type": "code",
   "execution_count": 23,
   "metadata": {},
   "outputs": [],
   "source": [
    "bcr_patient_barcode = [Path(file).name for file in list(set(['/'.join(file.split('/')[:-3]) for file in files]))]"
   ]
  },
  {
   "cell_type": "code",
   "execution_count": 43,
   "metadata": {},
   "outputs": [],
   "source": [
    "les_files = glob(\"/data/TCGA_Segmented_Lesions_UofC/*.les\")\n"
   ]
  },
  {
   "cell_type": "code",
   "execution_count": 60,
   "metadata": {},
   "outputs": [],
   "source": [
    "segmentation_files = []\n",
    "for les_file in les_files:\n",
    "    patient_barcode = [\n",
    "        barcode for barcode in bcr_patient_barcode if barcode in les_file][0]\n",
    "    segmentation_files.append(\n",
    "        dict(bcr_patient_barcode=patient_barcode, segmentation_file=les_file)\n",
    "        )\n"
   ]
  },
  {
   "cell_type": "code",
   "execution_count": 61,
   "metadata": {},
   "outputs": [
    {
     "data": {
      "text/plain": [
       "[{'bcr_patient_barcode': 'TCGA-AO-A12D',\n",
       "  'segmentation_file': '/data/TCGA_Segmented_Lesions_UofC/TCGA-AO-A12D-S2-1.les'},\n",
       " {'bcr_patient_barcode': 'TCGA-BH-A0H7',\n",
       "  'segmentation_file': '/data/TCGA_Segmented_Lesions_UofC/TCGA-BH-A0H7-1.les'},\n",
       " {'bcr_patient_barcode': 'TCGA-E2-A1IJ',\n",
       "  'segmentation_file': '/data/TCGA_Segmented_Lesions_UofC/TCGA-E2-A1IJ-1.les'},\n",
       " {'bcr_patient_barcode': 'TCGA-BH-A0BT',\n",
       "  'segmentation_file': '/data/TCGA_Segmented_Lesions_UofC/TCGA-BH-A0BT-1.les'},\n",
       " {'bcr_patient_barcode': 'TCGA-BH-A0E2',\n",
       "  'segmentation_file': '/data/TCGA_Segmented_Lesions_UofC/TCGA-BH-A0E2-1.les'},\n",
       " {'bcr_patient_barcode': 'TCGA-BH-A0BG',\n",
       "  'segmentation_file': '/data/TCGA_Segmented_Lesions_UofC/TCGA-BH-A0BG-1.les'},\n",
       " {'bcr_patient_barcode': 'TCGA-BH-A0BM',\n",
       "  'segmentation_file': '/data/TCGA_Segmented_Lesions_UofC/TCGA-BH-A0BM-1.les'},\n",
       " {'bcr_patient_barcode': 'TCGA-BH-A0W3',\n",
       "  'segmentation_file': '/data/TCGA_Segmented_Lesions_UofC/TCGA-BH-A0W3-1.les'},\n",
       " {'bcr_patient_barcode': 'TCGA-BH-A0GY',\n",
       "  'segmentation_file': '/data/TCGA_Segmented_Lesions_UofC/TCGA-BH-A0GY-1.les'},\n",
       " {'bcr_patient_barcode': 'TCGA-BH-A0HI',\n",
       "  'segmentation_file': '/data/TCGA_Segmented_Lesions_UofC/TCGA-BH-A0HI-1.les'},\n",
       " {'bcr_patient_barcode': 'TCGA-BH-A0DG',\n",
       "  'segmentation_file': '/data/TCGA_Segmented_Lesions_UofC/TCGA-BH-A0DG-1.les'},\n",
       " {'bcr_patient_barcode': 'TCGA-BH-A0B3',\n",
       "  'segmentation_file': '/data/TCGA_Segmented_Lesions_UofC/TCGA-BH-A0B3-1.les'},\n",
       " {'bcr_patient_barcode': 'TCGA-BH-A0HX',\n",
       "  'segmentation_file': '/data/TCGA_Segmented_Lesions_UofC/TCGA-BH-A0HX-1.les'},\n",
       " {'bcr_patient_barcode': 'TCGA-BH-A0DV',\n",
       "  'segmentation_file': '/data/TCGA_Segmented_Lesions_UofC/TCGA-BH-A0DV-1.les'},\n",
       " {'bcr_patient_barcode': 'TCGA-BH-A0H9',\n",
       "  'segmentation_file': '/data/TCGA_Segmented_Lesions_UofC/TCGA-BH-A0H9-1.les'},\n",
       " {'bcr_patient_barcode': 'TCGA-BH-A0HY',\n",
       "  'segmentation_file': '/data/TCGA_Segmented_Lesions_UofC/TCGA-BH-A0HY-1.les'},\n",
       " {'bcr_patient_barcode': 'TCGA-E2-A15K',\n",
       "  'segmentation_file': '/data/TCGA_Segmented_Lesions_UofC/TCGA-E2-A15K-1.les'},\n",
       " {'bcr_patient_barcode': 'TCGA-E2-A15H',\n",
       "  'segmentation_file': '/data/TCGA_Segmented_Lesions_UofC/TCGA-E2-A15H-1.les'},\n",
       " {'bcr_patient_barcode': 'TCGA-AR-A24S',\n",
       "  'segmentation_file': '/data/TCGA_Segmented_Lesions_UofC/TCGA-AR-A24S-1.les'},\n",
       " {'bcr_patient_barcode': 'TCGA-BH-A0DX',\n",
       "  'segmentation_file': '/data/TCGA_Segmented_Lesions_UofC/TCGA-BH-A0DX-1.les'},\n",
       " {'bcr_patient_barcode': 'TCGA-E2-A14P',\n",
       "  'segmentation_file': '/data/TCGA_Segmented_Lesions_UofC/TCGA-E2-A14P-1.les'},\n",
       " {'bcr_patient_barcode': 'TCGA-BH-A0E0',\n",
       "  'segmentation_file': '/data/TCGA_Segmented_Lesions_UofC/TCGA-BH-A0E0-1.les'},\n",
       " {'bcr_patient_barcode': 'TCGA-E2-A1IE',\n",
       "  'segmentation_file': '/data/TCGA_Segmented_Lesions_UofC/TCGA-E2-A1IE-1.les'},\n",
       " {'bcr_patient_barcode': 'TCGA-AO-A0J9',\n",
       "  'segmentation_file': '/data/TCGA_Segmented_Lesions_UofC/TCGA-AO-A0J9-S2-1.les'},\n",
       " {'bcr_patient_barcode': 'TCGA-E2-A10F',\n",
       "  'segmentation_file': '/data/TCGA_Segmented_Lesions_UofC/TCGA-E2-A10F-1.les'},\n",
       " {'bcr_patient_barcode': 'TCGA-E2-A1L9',\n",
       "  'segmentation_file': '/data/TCGA_Segmented_Lesions_UofC/TCGA-E2-A1L9-1.les'},\n",
       " {'bcr_patient_barcode': 'TCGA-E2-A1II',\n",
       "  'segmentation_file': '/data/TCGA_Segmented_Lesions_UofC/TCGA-E2-A1II-1.les'},\n",
       " {'bcr_patient_barcode': 'TCGA-BH-A0AW',\n",
       "  'segmentation_file': '/data/TCGA_Segmented_Lesions_UofC/TCGA-BH-A0AW-1.les'},\n",
       " {'bcr_patient_barcode': 'TCGA-E2-A1B6',\n",
       "  'segmentation_file': '/data/TCGA_Segmented_Lesions_UofC/TCGA-E2-A1B6-1.les'},\n",
       " {'bcr_patient_barcode': 'TCGA-BH-A0E1',\n",
       "  'segmentation_file': '/data/TCGA_Segmented_Lesions_UofC/TCGA-BH-A0E1-1.les'},\n",
       " {'bcr_patient_barcode': 'TCGA-E2-A108',\n",
       "  'segmentation_file': '/data/TCGA_Segmented_Lesions_UofC/TCGA-E2-A108-1.les'},\n",
       " {'bcr_patient_barcode': 'TCGA-BH-A202',\n",
       "  'segmentation_file': '/data/TCGA_Segmented_Lesions_UofC/TCGA-BH-A202-1.les'},\n",
       " {'bcr_patient_barcode': 'TCGA-E2-A1IK',\n",
       "  'segmentation_file': '/data/TCGA_Segmented_Lesions_UofC/TCGA-E2-A1IK-1.les'},\n",
       " {'bcr_patient_barcode': 'TCGA-AO-A0JM',\n",
       "  'segmentation_file': '/data/TCGA_Segmented_Lesions_UofC/TCGA-AO-A0JM-1.les'},\n",
       " {'bcr_patient_barcode': 'TCGA-AO-A12G',\n",
       "  'segmentation_file': '/data/TCGA_Segmented_Lesions_UofC/TCGA-AO-A12G-S1-1.les'},\n",
       " {'bcr_patient_barcode': 'TCGA-E2-A14S',\n",
       "  'segmentation_file': '/data/TCGA_Segmented_Lesions_UofC/TCGA-E2-A14S-1.les'},\n",
       " {'bcr_patient_barcode': 'TCGA-BH-A28Q',\n",
       "  'segmentation_file': '/data/TCGA_Segmented_Lesions_UofC/TCGA-BH-A28Q-1.les'},\n",
       " {'bcr_patient_barcode': 'TCGA-E2-A150',\n",
       "  'segmentation_file': '/data/TCGA_Segmented_Lesions_UofC/TCGA-E2-A150-1.les'},\n",
       " {'bcr_patient_barcode': 'TCGA-AO-A03V',\n",
       "  'segmentation_file': '/data/TCGA_Segmented_Lesions_UofC/TCGA-AO-A03V-1.les'},\n",
       " {'bcr_patient_barcode': 'TCGA-BH-A0DK',\n",
       "  'segmentation_file': '/data/TCGA_Segmented_Lesions_UofC/TCGA-BH-A0DK-1.les'},\n",
       " {'bcr_patient_barcode': 'TCGA-E2-A15J',\n",
       "  'segmentation_file': '/data/TCGA_Segmented_Lesions_UofC/TCGA-E2-A15J-1.les'},\n",
       " {'bcr_patient_barcode': 'TCGA-BH-A0B1',\n",
       "  'segmentation_file': '/data/TCGA_Segmented_Lesions_UofC/TCGA-BH-A0B1-1.les'},\n",
       " {'bcr_patient_barcode': 'TCGA-AR-A1AN',\n",
       "  'segmentation_file': '/data/TCGA_Segmented_Lesions_UofC/TCGA-AR-A1AN-1.les'},\n",
       " {'bcr_patient_barcode': 'TCGA-E2-A1IG',\n",
       "  'segmentation_file': '/data/TCGA_Segmented_Lesions_UofC/TCGA-E2-A1IG-1.les'},\n",
       " {'bcr_patient_barcode': 'TCGA-BH-A0DT',\n",
       "  'segmentation_file': '/data/TCGA_Segmented_Lesions_UofC/TCGA-BH-A0DT-1.les'},\n",
       " {'bcr_patient_barcode': 'TCGA-E2-A109',\n",
       "  'segmentation_file': '/data/TCGA_Segmented_Lesions_UofC/TCGA-E2-A109-1.les'},\n",
       " {'bcr_patient_barcode': 'TCGA-E2-A15E',\n",
       "  'segmentation_file': '/data/TCGA_Segmented_Lesions_UofC/TCGA-E2-A15E-2.les'},\n",
       " {'bcr_patient_barcode': 'TCGA-AR-A24X',\n",
       "  'segmentation_file': '/data/TCGA_Segmented_Lesions_UofC/TCGA-AR-A24X-1.les'},\n",
       " {'bcr_patient_barcode': 'TCGA-BH-A0EI',\n",
       "  'segmentation_file': '/data/TCGA_Segmented_Lesions_UofC/TCGA-BH-A0EI-1.les'},\n",
       " {'bcr_patient_barcode': 'TCGA-BH-A0W5',\n",
       "  'segmentation_file': '/data/TCGA_Segmented_Lesions_UofC/TCGA-BH-A0W5-1.les'},\n",
       " {'bcr_patient_barcode': 'TCGA-BH-A0E9',\n",
       "  'segmentation_file': '/data/TCGA_Segmented_Lesions_UofC/TCGA-BH-A0E9-1.les'},\n",
       " {'bcr_patient_barcode': 'TCGA-BH-A0B5',\n",
       "  'segmentation_file': '/data/TCGA_Segmented_Lesions_UofC/TCGA-BH-A0B5-1.les'},\n",
       " {'bcr_patient_barcode': 'TCGA-AO-A12E',\n",
       "  'segmentation_file': '/data/TCGA_Segmented_Lesions_UofC/TCGA-AO-A12E-S2-1.les'},\n",
       " {'bcr_patient_barcode': 'TCGA-BH-A0H6',\n",
       "  'segmentation_file': '/data/TCGA_Segmented_Lesions_UofC/TCGA-BH-A0H6-1.les'},\n",
       " {'bcr_patient_barcode': 'TCGA-BH-A0H3',\n",
       "  'segmentation_file': '/data/TCGA_Segmented_Lesions_UofC/TCGA-BH-A0H3-1.les'},\n",
       " {'bcr_patient_barcode': 'TCGA-AO-A12F',\n",
       "  'segmentation_file': '/data/TCGA_Segmented_Lesions_UofC/TCGA-AO-A12F-S2-1.les'},\n",
       " {'bcr_patient_barcode': 'TCGA-E2-A159',\n",
       "  'segmentation_file': '/data/TCGA_Segmented_Lesions_UofC/TCGA-E2-A159-1.les'},\n",
       " {'bcr_patient_barcode': 'TCGA-E2-A1B1',\n",
       "  'segmentation_file': '/data/TCGA_Segmented_Lesions_UofC/TCGA-E2-A1B1-1.les'},\n",
       " {'bcr_patient_barcode': 'TCGA-E2-A15M',\n",
       "  'segmentation_file': '/data/TCGA_Segmented_Lesions_UofC/TCGA-E2-A15M-1.les'},\n",
       " {'bcr_patient_barcode': 'TCGA-BH-A0B6',\n",
       "  'segmentation_file': '/data/TCGA_Segmented_Lesions_UofC/TCGA-BH-A0B6-1.les'},\n",
       " {'bcr_patient_barcode': 'TCGA-BH-A0RX',\n",
       "  'segmentation_file': '/data/TCGA_Segmented_Lesions_UofC/TCGA-BH-A0RX-S1-1.les'},\n",
       " {'bcr_patient_barcode': 'TCGA-BH-A0BJ',\n",
       "  'segmentation_file': '/data/TCGA_Segmented_Lesions_UofC/TCGA-BH-A0BJ-1.les'},\n",
       " {'bcr_patient_barcode': 'TCGA-AR-A1AX',\n",
       "  'segmentation_file': '/data/TCGA_Segmented_Lesions_UofC/TCGA-AR-A1AX-S2-1.les'},\n",
       " {'bcr_patient_barcode': 'TCGA-E2-A14V',\n",
       "  'segmentation_file': '/data/TCGA_Segmented_Lesions_UofC/TCGA-E2-A14V-1.les'},\n",
       " {'bcr_patient_barcode': 'TCGA-BH-A0BQ',\n",
       "  'segmentation_file': '/data/TCGA_Segmented_Lesions_UofC/TCGA-BH-A0BQ-1.les'},\n",
       " {'bcr_patient_barcode': 'TCGA-BH-A0HA',\n",
       "  'segmentation_file': '/data/TCGA_Segmented_Lesions_UofC/TCGA-BH-A0HA-1.les'},\n",
       " {'bcr_patient_barcode': 'TCGA-E2-A15L',\n",
       "  'segmentation_file': '/data/TCGA_Segmented_Lesions_UofC/TCGA-E2-A15L-1.les'},\n",
       " {'bcr_patient_barcode': 'TCGA-AO-A03M',\n",
       "  'segmentation_file': '/data/TCGA_Segmented_Lesions_UofC/TCGA-AO-A03M-1.les'},\n",
       " {'bcr_patient_barcode': 'TCGA-BH-A0C0',\n",
       "  'segmentation_file': '/data/TCGA_Segmented_Lesions_UofC/TCGA-BH-A0C0-1.les'},\n",
       " {'bcr_patient_barcode': 'TCGA-AR-A1AQ',\n",
       "  'segmentation_file': '/data/TCGA_Segmented_Lesions_UofC/TCGA-AR-A1AQ-S2-1.les'},\n",
       " {'bcr_patient_barcode': 'TCGA-BH-A0H5',\n",
       "  'segmentation_file': '/data/TCGA_Segmented_Lesions_UofC/TCGA-BH-A0H5-1.les'},\n",
       " {'bcr_patient_barcode': 'TCGA-BH-A0AZ',\n",
       "  'segmentation_file': '/data/TCGA_Segmented_Lesions_UofC/TCGA-BH-A0AZ-1.les'},\n",
       " {'bcr_patient_barcode': 'TCGA-E2-A1IN',\n",
       "  'segmentation_file': '/data/TCGA_Segmented_Lesions_UofC/TCGA-E2-A1IN-1.les'},\n",
       " {'bcr_patient_barcode': 'TCGA-E2-A14T',\n",
       "  'segmentation_file': '/data/TCGA_Segmented_Lesions_UofC/TCGA-E2-A14T-2.les'},\n",
       " {'bcr_patient_barcode': 'TCGA-BH-A0GZ',\n",
       "  'segmentation_file': '/data/TCGA_Segmented_Lesions_UofC/TCGA-BH-A0GZ-1.les'},\n",
       " {'bcr_patient_barcode': 'TCGA-BH-A18I',\n",
       "  'segmentation_file': '/data/TCGA_Segmented_Lesions_UofC/TCGA-BH-A18I-1.les'},\n",
       " {'bcr_patient_barcode': 'TCGA-AO-A0JI',\n",
       "  'segmentation_file': '/data/TCGA_Segmented_Lesions_UofC/TCGA-AO-A0JI-1.les'},\n",
       " {'bcr_patient_barcode': 'TCGA-BH-A201',\n",
       "  'segmentation_file': '/data/TCGA_Segmented_Lesions_UofC/TCGA-BH-A201-1.les'},\n",
       " {'bcr_patient_barcode': 'TCGA-BH-A0DH',\n",
       "  'segmentation_file': '/data/TCGA_Segmented_Lesions_UofC/TCGA-BH-A0DH-1.les'},\n",
       " {'bcr_patient_barcode': 'TCGA-BH-A0DZ',\n",
       "  'segmentation_file': '/data/TCGA_Segmented_Lesions_UofC/TCGA-BH-A0DZ-1.les'},\n",
       " {'bcr_patient_barcode': 'TCGA-E2-A15F',\n",
       "  'segmentation_file': '/data/TCGA_Segmented_Lesions_UofC/TCGA-E2-A15F-1.les'},\n",
       " {'bcr_patient_barcode': 'TCGA-E2-A1LG',\n",
       "  'segmentation_file': '/data/TCGA_Segmented_Lesions_UofC/TCGA-E2-A1LG-S2-1.les'},\n",
       " {'bcr_patient_barcode': 'TCGA-E2-A14Y',\n",
       "  'segmentation_file': '/data/TCGA_Segmented_Lesions_UofC/TCGA-E2-A14Y-1.les'},\n",
       " {'bcr_patient_barcode': 'TCGA-E2-A15A',\n",
       "  'segmentation_file': '/data/TCGA_Segmented_Lesions_UofC/TCGA-E2-A15A-1.les'},\n",
       " {'bcr_patient_barcode': 'TCGA-E2-A15I',\n",
       "  'segmentation_file': '/data/TCGA_Segmented_Lesions_UofC/TCGA-E2-A15I-1.les'},\n",
       " {'bcr_patient_barcode': 'TCGA-E2-A1B5',\n",
       "  'segmentation_file': '/data/TCGA_Segmented_Lesions_UofC/TCGA-E2-A1B5-1.les'},\n",
       " {'bcr_patient_barcode': 'TCGA-BH-A0DE',\n",
       "  'segmentation_file': '/data/TCGA_Segmented_Lesions_UofC/TCGA-BH-A0DE-1.les'},\n",
       " {'bcr_patient_barcode': 'TCGA-BH-A0DI',\n",
       "  'segmentation_file': '/data/TCGA_Segmented_Lesions_UofC/TCGA-BH-A0DI-1.les'},\n",
       " {'bcr_patient_barcode': 'TCGA-BH-A18F',\n",
       "  'segmentation_file': '/data/TCGA_Segmented_Lesions_UofC/TCGA-BH-A18F-1.les'},\n",
       " {'bcr_patient_barcode': 'TCGA-BH-A18H',\n",
       "  'segmentation_file': '/data/TCGA_Segmented_Lesions_UofC/TCGA-BH-A18H-1.les'},\n",
       " {'bcr_patient_barcode': 'TCGA-E2-A1L7',\n",
       "  'segmentation_file': '/data/TCGA_Segmented_Lesions_UofC/TCGA-E2-A1L7-1.les'}]"
      ]
     },
     "execution_count": 61,
     "metadata": {},
     "output_type": "execute_result"
    }
   ],
   "source": [
    "segmentation_files"
   ]
  },
  {
   "cell_type": "code",
   "execution_count": 62,
   "metadata": {},
   "outputs": [
    {
     "data": {
      "text/plain": [
       "<pymongo.results.InsertManyResult at 0x7f14d520e980>"
      ]
     },
     "execution_count": 62,
     "metadata": {},
     "output_type": "execute_result"
    }
   ],
   "source": [
    "db['segmentation_files'].insert_many(segmentation_files)"
   ]
  },
  {
   "cell_type": "code",
   "execution_count": 71,
   "metadata": {},
   "outputs": [],
   "source": [
    "for col in db.list_collection_names():\n",
    "    try:\n",
    "        db[col].create_index('bcr_patient_barcode')\n",
    "    except:\n",
    "        pass\n"
   ]
  },
  {
   "cell_type": "code",
   "execution_count": null,
   "metadata": {},
   "outputs": [],
   "source": [
    "bcr_patient_barcode"
   ]
  },
  {
   "cell_type": "code",
   "execution_count": null,
   "metadata": {},
   "outputs": [],
   "source": []
  }
 ],
 "metadata": {
  "interpreter": {
   "hash": "013ebd2da54bca7dcabb611dca97c4db9faa972236e31ead53f8ac5e7ed3c5e4"
  },
  "kernelspec": {
   "display_name": "Python 3.8.10 64-bit ('ohad': virtualenvwrapper)",
   "name": "python3"
  },
  "language_info": {
   "codemirror_mode": {
    "name": "ipython",
    "version": 3
   },
   "file_extension": ".py",
   "mimetype": "text/x-python",
   "name": "python",
   "nbconvert_exporter": "python",
   "pygments_lexer": "ipython3",
   "version": "3.8.10"
  },
  "orig_nbformat": 4
 },
 "nbformat": 4,
 "nbformat_minor": 2
}