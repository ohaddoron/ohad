{
 "cells": [
  {
   "cell_type": "code",
   "execution_count": 1,
   "metadata": {},
   "outputs": [
    {
     "name": "stdout",
     "output_type": "stream",
     "text": [
      "Populating the interactive namespace from numpy and matplotlib\n"
     ]
    }
   ],
   "source": [
    "%pylab inline\n",
    "import pandas as pd\n",
    "from glob2 import glob\n",
    "from pathlib import Path\n",
    "from sqlalchemy import create_engine\n",
    "from common.utils import init_cached_database, parse_mongodb_connection_string\n",
    "from src.utils import get_config"
   ]
  },
  {
   "cell_type": "code",
   "execution_count": 2,
   "metadata": {},
   "outputs": [
    {
     "name": "stderr",
     "output_type": "stream",
     "text": [
      "2021-07-25 10:31:58.388 | DEBUG    | src.utils:get_config:10 - Reading brca-database from /home/ohad/Projects/ohad/src/../config.toml\n"
     ]
    }
   ],
   "source": [
    "config = get_config('brca-database')"
   ]
  },
  {
   "cell_type": "code",
   "execution_count": 3,
   "metadata": {},
   "outputs": [],
   "source": [
    "xlsx_files = glob(\n",
    "    \"/data/Database/Human/TCGA-BRCA_Online/Clinical Data (CSV)/*.xlsx\")\n"
   ]
  },
  {
   "cell_type": "code",
   "execution_count": 5,
   "metadata": {},
   "outputs": [],
   "source": [
    "db = init_cached_database(parse_mongodb_connection_string(**config), db_name=config['db_name'])"
   ]
  },
  {
   "cell_type": "code",
   "execution_count": 17,
   "metadata": {},
   "outputs": [],
   "source": [
    "def split_name(name):\n",
    "    return Path(name).name.split('org_')[-1].split('.xlsx')[0]\n",
    "\n",
    "def replace_not_available_with_none(item):\n",
    "    for key, value in item.items():\n",
    "        if item[key] in ['[Not Available]', '[Not Applicable]']:\n",
    "            item[key] = None\n",
    "    return item\n"
   ]
  },
  {
   "cell_type": "code",
   "execution_count": 20,
   "metadata": {},
   "outputs": [],
   "source": [
    "for xlsx_file in xlsx_files:\n",
    "    table_name = split_name(xlsx_file)\n",
    "    df = pd.read_excel(xlsx_file,engine='openpyxl')[2:]\n",
    "    # df.to_sql(table_name, con=engine, if_exists='replace')\n",
    "    items = [row.to_dict() for _, row in df.iterrows()]\n",
    "    items = [replace_not_available_with_none(item) for item in items]\n",
    "    db[table_name].insert_many(items)\n",
    "\n"
   ]
  },
  {
   "cell_type": "code",
   "execution_count": 19,
   "metadata": {},
   "outputs": [
    {
     "data": {
      "text/plain": [
       "{'bcr_patient_uuid': 'e17c565c-9857-4df3-a352-903b53093c85',\n",
       " 'bcr_patient_barcode': 'TCGA-AO-A0JI',\n",
       " 'bcr_omf_barcode': 'TCGA-AO-A0JI-O7952',\n",
       " 'bcr_omf_uuid': '2EB50E2A-F7D5-4CF1-B85D-2935532A495B',\n",
       " 'form_completion_date': datetime.datetime(2011, 2, 18, 0, 0),\n",
       " 'malignancy_type': 'Prior Malignancy',\n",
       " 'other_malignancy_dx_days_to': None,\n",
       " 'surgery_indicator': None,\n",
       " 'other_malignancy_surgery_type': None,\n",
       " 'other_malignancy_surgery_days_to': -731,\n",
       " 'pharmaceutical_therapy_indicator': 'NO',\n",
       " 'pharmaceutical_therapy_extent': None,\n",
       " 'pharmaceutical_therapy_drug_name': None,\n",
       " 'pharmaceutical_tx_started_days_to': None,\n",
       " 'radiation_therapy_indicator': 'NO',\n",
       " 'radiation_therapy_extent': None,\n",
       " 'history_rt_tx_to_site_of_tcga_tumor': None,\n",
       " 'radiation_therapy_started_days_to': None,\n",
       " 'ajcc_staging_edition': None,\n",
       " 'ajcc_tumor_pathologic_pt': None,\n",
       " 'ajcc_nodes_pathologic_pn': None,\n",
       " 'ajcc_metastasis_pathologic_pm': None,\n",
       " 'ajcc_pathologic_tumor_stage': 'Stage IA',\n",
       " 'clinical_stage': None,\n",
       " 'other_malignancy_anatomic_site': 'Breast',\n",
       " 'other_malignancy_anatomic_site_text': None,\n",
       " 'other_malignancy_histological_type': 'Other, specify',\n",
       " 'other_malignancy_histological_type_text': 'Invasive Ductal Carcinoma, NOS',\n",
       " 'other_malignancy_laterality': 'Right',\n",
       " 'stage_other': None}"
      ]
     },
     "execution_count": 19,
     "metadata": {},
     "output_type": "execute_result"
    }
   ],
   "source": [
    "items[0]"
   ]
  },
  {
   "cell_type": "code",
   "execution_count": 47,
   "metadata": {},
   "outputs": [],
   "source": [
    "patients = pd.concat([pd.read_excel(xlsx_file, engine='openpyxl')[2:] for xlsx_file in xlsx_files])\n",
    "patients = pd.concat((patients['bcr_patient_uuid'],\n",
    "                     patients['bcr_patient_barcode']), axis=1).drop_duplicates()\n",
    "\n",
    "    \n"
   ]
  },
  {
   "cell_type": "code",
   "execution_count": 49,
   "metadata": {},
   "outputs": [
    {
     "data": {
      "text/html": [
       "<div>\n",
       "<style scoped>\n",
       "    .dataframe tbody tr th:only-of-type {\n",
       "        vertical-align: middle;\n",
       "    }\n",
       "\n",
       "    .dataframe tbody tr th {\n",
       "        vertical-align: top;\n",
       "    }\n",
       "\n",
       "    .dataframe thead th {\n",
       "        text-align: right;\n",
       "    }\n",
       "</style>\n",
       "<table border=\"1\" class=\"dataframe\">\n",
       "  <thead>\n",
       "    <tr style=\"text-align: right;\">\n",
       "      <th></th>\n",
       "      <th>bcr_patient_uuid</th>\n",
       "      <th>bcr_patient_barcode</th>\n",
       "    </tr>\n",
       "  </thead>\n",
       "  <tbody>\n",
       "    <tr>\n",
       "      <th>2</th>\n",
       "      <td>095c7985-3842-494f-b591-706ad1cd2133</td>\n",
       "      <td>TCGA-AO-A03M</td>\n",
       "    </tr>\n",
       "    <tr>\n",
       "      <th>3</th>\n",
       "      <td>a6cb373a-1604-4e25-bd81-da6c3e4f06ee</td>\n",
       "      <td>TCGA-AO-A03V</td>\n",
       "    </tr>\n",
       "    <tr>\n",
       "      <th>4</th>\n",
       "      <td>02bf5203-f9cd-4c5a-97b4-e5584dc22325</td>\n",
       "      <td>TCGA-AO-A0J8</td>\n",
       "    </tr>\n",
       "    <tr>\n",
       "      <th>5</th>\n",
       "      <td>a4903de8-6cf5-4541-8ec7-065beace8b44</td>\n",
       "      <td>TCGA-AO-A0J9</td>\n",
       "    </tr>\n",
       "    <tr>\n",
       "      <th>6</th>\n",
       "      <td>3ea9412b-429e-4dcf-90cd-c53be06885a1</td>\n",
       "      <td>TCGA-AO-A0JB</td>\n",
       "    </tr>\n",
       "    <tr>\n",
       "      <th>...</th>\n",
       "      <td>...</td>\n",
       "      <td>...</td>\n",
       "    </tr>\n",
       "    <tr>\n",
       "      <th>110</th>\n",
       "      <td>5ff12cbe-a3e0-4ce6-8452-12b984a1baaf</td>\n",
       "      <td>TCGA-EW-A1IY</td>\n",
       "    </tr>\n",
       "    <tr>\n",
       "      <th>112</th>\n",
       "      <td>a381275f-8858-4793-a8a2-0ca9db7274c8</td>\n",
       "      <td>TCGA-EW-A1J2</td>\n",
       "    </tr>\n",
       "    <tr>\n",
       "      <th>113</th>\n",
       "      <td>87281a89-91d2-44f7-9f80-668567ad5c72</td>\n",
       "      <td>TCGA-EW-A1J6</td>\n",
       "    </tr>\n",
       "    <tr>\n",
       "      <th>115</th>\n",
       "      <td>8f912a40-3251-4e1f-ae65-1f93d71f9881</td>\n",
       "      <td>TCGA-EW-A1OZ</td>\n",
       "    </tr>\n",
       "    <tr>\n",
       "      <th>120</th>\n",
       "      <td>F45210D3-9E66-4F5E-BEF1-5EE5547CC893</td>\n",
       "      <td>TCGA-EW-A1PC</td>\n",
       "    </tr>\n",
       "  </tbody>\n",
       "</table>\n",
       "<p>140 rows × 2 columns</p>\n",
       "</div>"
      ],
      "text/plain": [
       "                         bcr_patient_uuid bcr_patient_barcode\n",
       "2    095c7985-3842-494f-b591-706ad1cd2133        TCGA-AO-A03M\n",
       "3    a6cb373a-1604-4e25-bd81-da6c3e4f06ee        TCGA-AO-A03V\n",
       "4    02bf5203-f9cd-4c5a-97b4-e5584dc22325        TCGA-AO-A0J8\n",
       "5    a4903de8-6cf5-4541-8ec7-065beace8b44        TCGA-AO-A0J9\n",
       "6    3ea9412b-429e-4dcf-90cd-c53be06885a1        TCGA-AO-A0JB\n",
       "..                                    ...                 ...\n",
       "110  5ff12cbe-a3e0-4ce6-8452-12b984a1baaf        TCGA-EW-A1IY\n",
       "112  a381275f-8858-4793-a8a2-0ca9db7274c8        TCGA-EW-A1J2\n",
       "113  87281a89-91d2-44f7-9f80-668567ad5c72        TCGA-EW-A1J6\n",
       "115  8f912a40-3251-4e1f-ae65-1f93d71f9881        TCGA-EW-A1OZ\n",
       "120  F45210D3-9E66-4F5E-BEF1-5EE5547CC893        TCGA-EW-A1PC\n",
       "\n",
       "[140 rows x 2 columns]"
      ]
     },
     "execution_count": 49,
     "metadata": {},
     "output_type": "execute_result"
    }
   ],
   "source": [
    "patients"
   ]
  },
  {
   "cell_type": "code",
   "execution_count": 51,
   "metadata": {},
   "outputs": [],
   "source": [
    "# patients.to_sql('patients', con=engine, if_exists='replace')\n"
   ]
  },
  {
   "cell_type": "code",
   "execution_count": 54,
   "metadata": {},
   "outputs": [
    {
     "data": {
      "text/plain": [
       "12"
      ]
     },
     "execution_count": 54,
     "metadata": {},
     "output_type": "execute_result"
    }
   ],
   "source": [
    "len('TCGA-AO-A03M')\n"
   ]
  },
  {
   "cell_type": "code",
   "execution_count": null,
   "metadata": {},
   "outputs": [],
   "source": []
  }
 ],
 "metadata": {
  "interpreter": {
   "hash": "013ebd2da54bca7dcabb611dca97c4db9faa972236e31ead53f8ac5e7ed3c5e4"
  },
  "kernelspec": {
   "display_name": "Python 3.8.10 64-bit ('ohad': virtualenvwrapper)",
   "name": "python3"
  },
  "language_info": {
   "codemirror_mode": {
    "name": "ipython",
    "version": 3
   },
   "file_extension": ".py",
   "mimetype": "text/x-python",
   "name": "python",
   "nbconvert_exporter": "python",
   "pygments_lexer": "ipython3",
   "version": "3.8.10"
  },
  "orig_nbformat": 4
 },
 "nbformat": 4,
 "nbformat_minor": 2
}