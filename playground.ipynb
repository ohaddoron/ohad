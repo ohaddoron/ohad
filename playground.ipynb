{
 "cells": [
  {
   "cell_type": "code",
   "execution_count": 2,
   "metadata": {
    "collapsed": true
   },
   "outputs": [],
   "source": [
    "import pandas as pd\n",
    "from xgboost import XGBClassifier\n",
    "import numpy as np\n",
    "\n",
    "from sklearn.datasets import load_iris\n",
    "\n"
   ]
  },
  {
   "cell_type": "code",
   "execution_count": 3,
   "metadata": {},
   "outputs": [],
   "source": [
    "data = pd.read_csv('surv_pred/Clinical.csv').set_index('patient').dropna()"
   ]
  },
  {
   "cell_type": "code",
   "execution_count": 4,
   "metadata": {},
   "outputs": [],
   "source": [
    "y = list(np.arange(len(data)))"
   ]
  },
  {
   "cell_type": "code",
   "execution_count": 5,
   "metadata": {},
   "outputs": [],
   "source": [
    "X = data.to_numpy()"
   ]
  },
  {
   "cell_type": "code",
   "execution_count": 7,
   "metadata": {},
   "outputs": [],
   "source": [
    "bst = XGBClassifier(n_estimators=1, max_depth=2, learning_rate=1, objective='binary:logistic')"
   ]
  },
  {
   "cell_type": "code",
   "execution_count": 8,
   "metadata": {},
   "outputs": [],
   "source": [
    "bst.fit(X, y, verbose=1)"
   ]
  },
  {
   "cell_type": "code",
   "execution_count": 1,
   "metadata": {},
   "outputs": [
    {
     "ename": "NameError",
     "evalue": "name 'bst' is not defined",
     "output_type": "error",
     "traceback": [
      "\u001B[0;31m---------------------------------------------------------------------------\u001B[0m",
      "\u001B[0;31mNameError\u001B[0m                                 Traceback (most recent call last)",
      "\u001B[0;32m/tmp/ipykernel_1865/2488524297.py\u001B[0m in \u001B[0;36m<module>\u001B[0;34m\u001B[0m\n\u001B[0;32m----> 1\u001B[0;31m \u001B[0mpreds\u001B[0m \u001B[0;34m=\u001B[0m \u001B[0mbst\u001B[0m\u001B[0;34m.\u001B[0m\u001B[0mpredict\u001B[0m\u001B[0;34m(\u001B[0m\u001B[0mX\u001B[0m\u001B[0;34m)\u001B[0m\u001B[0;34m\u001B[0m\u001B[0;34m\u001B[0m\u001B[0m\n\u001B[0m",
      "\u001B[0;31mNameError\u001B[0m: name 'bst' is not defined"
     ]
    }
   ],
   "source": [
    "preds = bst.predict(X)"
   ]
  },
  {
   "cell_type": "code",
   "execution_count": 135,
   "metadata": {},
   "outputs": [],
   "source": [
    "import pandas as pd"
   ]
  },
  {
   "cell_type": "code",
   "execution_count": 199,
   "outputs": [
    {
     "name": "stderr",
     "output_type": "stream",
     "text": [
      "/mnt/drive1/home/ohaddoron1/.virtualenvs/ohad/lib/python3.9/site-packages/IPython/core/interactiveshell.py:3441: DtypeWarning: Columns (5,31,70,71,72,73,86,108,117,119) have mixed types.Specify dtype option on import or set low_memory=False.\n",
      "  exec(code_obj, self.user_global_ns, self.user_ns)\n"
     ]
    },
    {
     "data": {
      "text/plain": "         project  submitter_id synchronous_malignancy ajcc_pathologic_stage  \\\n0      TCGA-BRCA  TCGA-E2-A154                     No               Stage I   \n1      TCGA-BRCA  TCGA-LL-A5YM                     No            Stage IIIB   \n2      TCGA-BRCA  TCGA-AO-A0J6                     No             Stage IIA   \n3      TCGA-BRCA  TCGA-D8-A1XA                     No              Stage IA   \n4      TCGA-BRCA  TCGA-E9-A1R7                     No             Stage IIA   \n...          ...           ...                    ...                   ...   \n11310  TCGA-STAD  TCGA-BR-7851                     No             Stage IIB   \n11311  TCGA-STAD  TCGA-EQ-A4SO                     No            Stage IIIB   \n11312  TCGA-STAD  TCGA-CD-8530                     No              Stage II   \n11313  TCGA-STAD  TCGA-FP-A4BF                     No            Stage IIIA   \n11314  TCGA-STAD  TCGA-CD-5802                     No              Stage II   \n\n       days_to_diagnosis created_datetime  last_known_disease_status  \\\n0                    0.0              NaN                        NaN   \n1                    0.0              NaN                        NaN   \n2                    0.0              NaN                        NaN   \n3                    0.0              NaN                        NaN   \n4                    0.0              NaN                        NaN   \n...                  ...              ...                        ...   \n11310                0.0              NaN                        NaN   \n11311                0.0              NaN                        NaN   \n11312                0.0              NaN                        NaN   \n11313                0.0              NaN                        NaN   \n11314                0.0              NaN                        NaN   \n\n      tissue_or_organ_of_origin  days_to_last_follow_up  age_at_diagnosis  \\\n0                   Breast, NOS                   591.0           24999.0   \n1                   Breast, NOS                   394.0           32478.0   \n2                   Breast, NOS                  1140.0           22462.0   \n3                   Breast, NOS                   839.0           23387.0   \n4                   Breast, NOS                  1467.0           23397.0   \n...                         ...                     ...               ...   \n11310           Body of stomach                   574.0           27091.0   \n11311            Gastric antrum                   494.0           25897.0   \n11312         Fundus of stomach                   377.0           18992.0   \n11313               Cardia, NOS                    47.0           25030.0   \n11314               Cardia, NOS                   406.0           21331.0   \n\n       ... asbestos_exposure tobacco_smoking_quit_year tobacco_smoking_status  \\\n0      ...               NaN                       NaN                    NaN   \n1      ...               NaN                       NaN                    NaN   \n2      ...               NaN                       NaN                    NaN   \n3      ...               NaN                       NaN                    NaN   \n4      ...               NaN                       NaN                    NaN   \n...    ...               ...                       ...                    ...   \n11310  ...               NaN                       NaN                    NaN   \n11311  ...               NaN                       NaN                    NaN   \n11312  ...               NaN                       NaN                    NaN   \n11313  ...               NaN                       NaN                    NaN   \n11314  ...               NaN                       NaN                    NaN   \n\n       tobacco_smoking_onset_year respirable_crystalline_silica_exposure  \\\n0                             NaN                                    NaN   \n1                             NaN                                    NaN   \n2                             NaN                                    NaN   \n3                             NaN                                    NaN   \n4                             NaN                                    NaN   \n...                           ...                                    ...   \n11310                         NaN                                    NaN   \n11311                         NaN                                    NaN   \n11312                         NaN                                    NaN   \n11313                         NaN                                    NaN   \n11314                         NaN                                    NaN   \n\n      time_between_waking_and_first_smoke  coal_dust_exposure cause_of_death  \\\n0                                     NaN                 NaN            NaN   \n1                                     NaN                 NaN            NaN   \n2                                     NaN                 NaN            NaN   \n3                                     NaN                 NaN            NaN   \n4                                     NaN                 NaN            NaN   \n...                                   ...                 ...            ...   \n11310                                 NaN                 NaN            NaN   \n11311                                 NaN                 NaN            NaN   \n11312                                 NaN                 NaN            NaN   \n11313                                 NaN                 NaN            NaN   \n11314                                 NaN                 NaN            NaN   \n\n      premature_at_birth  weeks_gestation_at_birth  \n0                    NaN                       NaN  \n1                    NaN                       NaN  \n2                    NaN                       NaN  \n3                    NaN                       NaN  \n4                    NaN                       NaN  \n...                  ...                       ...  \n11310                NaN                       NaN  \n11311                NaN                       NaN  \n11312                NaN                       NaN  \n11313                NaN                       NaN  \n11314                NaN                       NaN  \n\n[11315 rows x 141 columns]",
      "text/html": "<div>\n<style scoped>\n    .dataframe tbody tr th:only-of-type {\n        vertical-align: middle;\n    }\n\n    .dataframe tbody tr th {\n        vertical-align: top;\n    }\n\n    .dataframe thead th {\n        text-align: right;\n    }\n</style>\n<table border=\"1\" class=\"dataframe\">\n  <thead>\n    <tr style=\"text-align: right;\">\n      <th></th>\n      <th>project</th>\n      <th>submitter_id</th>\n      <th>synchronous_malignancy</th>\n      <th>ajcc_pathologic_stage</th>\n      <th>days_to_diagnosis</th>\n      <th>created_datetime</th>\n      <th>last_known_disease_status</th>\n      <th>tissue_or_organ_of_origin</th>\n      <th>days_to_last_follow_up</th>\n      <th>age_at_diagnosis</th>\n      <th>...</th>\n      <th>asbestos_exposure</th>\n      <th>tobacco_smoking_quit_year</th>\n      <th>tobacco_smoking_status</th>\n      <th>tobacco_smoking_onset_year</th>\n      <th>respirable_crystalline_silica_exposure</th>\n      <th>time_between_waking_and_first_smoke</th>\n      <th>coal_dust_exposure</th>\n      <th>cause_of_death</th>\n      <th>premature_at_birth</th>\n      <th>weeks_gestation_at_birth</th>\n    </tr>\n  </thead>\n  <tbody>\n    <tr>\n      <th>0</th>\n      <td>TCGA-BRCA</td>\n      <td>TCGA-E2-A154</td>\n      <td>No</td>\n      <td>Stage I</td>\n      <td>0.0</td>\n      <td>NaN</td>\n      <td>NaN</td>\n      <td>Breast, NOS</td>\n      <td>591.0</td>\n      <td>24999.0</td>\n      <td>...</td>\n      <td>NaN</td>\n      <td>NaN</td>\n      <td>NaN</td>\n      <td>NaN</td>\n      <td>NaN</td>\n      <td>NaN</td>\n      <td>NaN</td>\n      <td>NaN</td>\n      <td>NaN</td>\n      <td>NaN</td>\n    </tr>\n    <tr>\n      <th>1</th>\n      <td>TCGA-BRCA</td>\n      <td>TCGA-LL-A5YM</td>\n      <td>No</td>\n      <td>Stage IIIB</td>\n      <td>0.0</td>\n      <td>NaN</td>\n      <td>NaN</td>\n      <td>Breast, NOS</td>\n      <td>394.0</td>\n      <td>32478.0</td>\n      <td>...</td>\n      <td>NaN</td>\n      <td>NaN</td>\n      <td>NaN</td>\n      <td>NaN</td>\n      <td>NaN</td>\n      <td>NaN</td>\n      <td>NaN</td>\n      <td>NaN</td>\n      <td>NaN</td>\n      <td>NaN</td>\n    </tr>\n    <tr>\n      <th>2</th>\n      <td>TCGA-BRCA</td>\n      <td>TCGA-AO-A0J6</td>\n      <td>No</td>\n      <td>Stage IIA</td>\n      <td>0.0</td>\n      <td>NaN</td>\n      <td>NaN</td>\n      <td>Breast, NOS</td>\n      <td>1140.0</td>\n      <td>22462.0</td>\n      <td>...</td>\n      <td>NaN</td>\n      <td>NaN</td>\n      <td>NaN</td>\n      <td>NaN</td>\n      <td>NaN</td>\n      <td>NaN</td>\n      <td>NaN</td>\n      <td>NaN</td>\n      <td>NaN</td>\n      <td>NaN</td>\n    </tr>\n    <tr>\n      <th>3</th>\n      <td>TCGA-BRCA</td>\n      <td>TCGA-D8-A1XA</td>\n      <td>No</td>\n      <td>Stage IA</td>\n      <td>0.0</td>\n      <td>NaN</td>\n      <td>NaN</td>\n      <td>Breast, NOS</td>\n      <td>839.0</td>\n      <td>23387.0</td>\n      <td>...</td>\n      <td>NaN</td>\n      <td>NaN</td>\n      <td>NaN</td>\n      <td>NaN</td>\n      <td>NaN</td>\n      <td>NaN</td>\n      <td>NaN</td>\n      <td>NaN</td>\n      <td>NaN</td>\n      <td>NaN</td>\n    </tr>\n    <tr>\n      <th>4</th>\n      <td>TCGA-BRCA</td>\n      <td>TCGA-E9-A1R7</td>\n      <td>No</td>\n      <td>Stage IIA</td>\n      <td>0.0</td>\n      <td>NaN</td>\n      <td>NaN</td>\n      <td>Breast, NOS</td>\n      <td>1467.0</td>\n      <td>23397.0</td>\n      <td>...</td>\n      <td>NaN</td>\n      <td>NaN</td>\n      <td>NaN</td>\n      <td>NaN</td>\n      <td>NaN</td>\n      <td>NaN</td>\n      <td>NaN</td>\n      <td>NaN</td>\n      <td>NaN</td>\n      <td>NaN</td>\n    </tr>\n    <tr>\n      <th>...</th>\n      <td>...</td>\n      <td>...</td>\n      <td>...</td>\n      <td>...</td>\n      <td>...</td>\n      <td>...</td>\n      <td>...</td>\n      <td>...</td>\n      <td>...</td>\n      <td>...</td>\n      <td>...</td>\n      <td>...</td>\n      <td>...</td>\n      <td>...</td>\n      <td>...</td>\n      <td>...</td>\n      <td>...</td>\n      <td>...</td>\n      <td>...</td>\n      <td>...</td>\n      <td>...</td>\n    </tr>\n    <tr>\n      <th>11310</th>\n      <td>TCGA-STAD</td>\n      <td>TCGA-BR-7851</td>\n      <td>No</td>\n      <td>Stage IIB</td>\n      <td>0.0</td>\n      <td>NaN</td>\n      <td>NaN</td>\n      <td>Body of stomach</td>\n      <td>574.0</td>\n      <td>27091.0</td>\n      <td>...</td>\n      <td>NaN</td>\n      <td>NaN</td>\n      <td>NaN</td>\n      <td>NaN</td>\n      <td>NaN</td>\n      <td>NaN</td>\n      <td>NaN</td>\n      <td>NaN</td>\n      <td>NaN</td>\n      <td>NaN</td>\n    </tr>\n    <tr>\n      <th>11311</th>\n      <td>TCGA-STAD</td>\n      <td>TCGA-EQ-A4SO</td>\n      <td>No</td>\n      <td>Stage IIIB</td>\n      <td>0.0</td>\n      <td>NaN</td>\n      <td>NaN</td>\n      <td>Gastric antrum</td>\n      <td>494.0</td>\n      <td>25897.0</td>\n      <td>...</td>\n      <td>NaN</td>\n      <td>NaN</td>\n      <td>NaN</td>\n      <td>NaN</td>\n      <td>NaN</td>\n      <td>NaN</td>\n      <td>NaN</td>\n      <td>NaN</td>\n      <td>NaN</td>\n      <td>NaN</td>\n    </tr>\n    <tr>\n      <th>11312</th>\n      <td>TCGA-STAD</td>\n      <td>TCGA-CD-8530</td>\n      <td>No</td>\n      <td>Stage II</td>\n      <td>0.0</td>\n      <td>NaN</td>\n      <td>NaN</td>\n      <td>Fundus of stomach</td>\n      <td>377.0</td>\n      <td>18992.0</td>\n      <td>...</td>\n      <td>NaN</td>\n      <td>NaN</td>\n      <td>NaN</td>\n      <td>NaN</td>\n      <td>NaN</td>\n      <td>NaN</td>\n      <td>NaN</td>\n      <td>NaN</td>\n      <td>NaN</td>\n      <td>NaN</td>\n    </tr>\n    <tr>\n      <th>11313</th>\n      <td>TCGA-STAD</td>\n      <td>TCGA-FP-A4BF</td>\n      <td>No</td>\n      <td>Stage IIIA</td>\n      <td>0.0</td>\n      <td>NaN</td>\n      <td>NaN</td>\n      <td>Cardia, NOS</td>\n      <td>47.0</td>\n      <td>25030.0</td>\n      <td>...</td>\n      <td>NaN</td>\n      <td>NaN</td>\n      <td>NaN</td>\n      <td>NaN</td>\n      <td>NaN</td>\n      <td>NaN</td>\n      <td>NaN</td>\n      <td>NaN</td>\n      <td>NaN</td>\n      <td>NaN</td>\n    </tr>\n    <tr>\n      <th>11314</th>\n      <td>TCGA-STAD</td>\n      <td>TCGA-CD-5802</td>\n      <td>No</td>\n      <td>Stage II</td>\n      <td>0.0</td>\n      <td>NaN</td>\n      <td>NaN</td>\n      <td>Cardia, NOS</td>\n      <td>406.0</td>\n      <td>21331.0</td>\n      <td>...</td>\n      <td>NaN</td>\n      <td>NaN</td>\n      <td>NaN</td>\n      <td>NaN</td>\n      <td>NaN</td>\n      <td>NaN</td>\n      <td>NaN</td>\n      <td>NaN</td>\n      <td>NaN</td>\n      <td>NaN</td>\n    </tr>\n  </tbody>\n</table>\n<p>11315 rows × 141 columns</p>\n</div>"
     },
     "execution_count": 199,
     "metadata": {},
     "output_type": "execute_result"
    }
   ],
   "source": [
    "df = pd.read_csv('/mnt/drive1/home/ohaddoron1/Projects/ohad/clinical_data_new.tsv', sep='\\t',\n",
    "                 na_values=['not reported', 'Not Reported'])\n",
    "df"
   ],
   "metadata": {
    "collapsed": false
   }
  },
  {
   "cell_type": "code",
   "execution_count": 200,
   "outputs": [],
   "source": [
    "info = [{'name': col, 'value': len(df[col].value_counts()) == df.shape[0]} for col in df.columns]"
   ],
   "metadata": {
    "collapsed": false
   }
  },
  {
   "cell_type": "code",
   "execution_count": 201,
   "outputs": [
    {
     "data": {
      "text/plain": "[{'name': 'submitter_id', 'value': True},\n {'name': 'bcr_patient_barcode', 'value': True}]"
     },
     "execution_count": 201,
     "metadata": {},
     "output_type": "execute_result"
    }
   ],
   "source": [
    "list(filter(lambda x: x['value'], info))"
   ],
   "metadata": {
    "collapsed": false
   }
  },
  {
   "cell_type": "code",
   "execution_count": 202,
   "outputs": [
    {
     "data": {
      "text/plain": "array([nan])"
     },
     "execution_count": 202,
     "metadata": {},
     "output_type": "execute_result"
    }
   ],
   "source": [
    "df.last_known_disease_status.unique()"
   ],
   "metadata": {
    "collapsed": false
   }
  },
  {
   "cell_type": "code",
   "execution_count": 203,
   "outputs": [
    {
     "name": "stdout",
     "output_type": "stream",
     "text": [
      "~~ MISSING DATA ~~\n",
      "\n",
      "project: 0 (0.0%)\n",
      "synchronous_malignancy: 2075 (18.34%)\n",
      "ajcc_pathologic_stage: 4368 (38.6%)\n",
      "days_to_diagnosis: 276 (2.44%)\n",
      "tissue_or_organ_of_origin: 148 (1.31%)\n",
      "primary_diagnosis: 148 (1.31%)\n",
      "updated_datetime: 148 (1.31%)\n",
      "prior_malignancy: 1294 (11.44%)\n",
      "year_of_diagnosis: 281 (2.48%)\n",
      "state: 148 (1.31%)\n",
      "prior_treatment: 156 (1.38%)\n",
      "ajcc_staging_system_edition: 4918 (43.46%)\n",
      "ajcc_pathologic_t: 3426 (30.28%)\n",
      "morphology: 148 (1.31%)\n",
      "ajcc_pathologic_n: 3474 (30.7%)\n",
      "ajcc_pathologic_m: 4346 (38.41%)\n",
      "diagnosis_id: 148 (1.31%)\n",
      "icd_10_code: 352 (3.11%)\n",
      "site_of_resection_or_biopsy: 148 (1.31%)\n",
      "exposure_id: 148 (1.31%)\n",
      "race: 1147 (10.14%)\n",
      "gender: 152 (1.34%)\n",
      "ethnicity: 2519 (22.26%)\n",
      "age_at_index: 205 (1.81%)\n",
      "days_to_birth: 273 (2.41%)\n",
      "year_of_birth: 321 (2.84%)\n",
      "demographic_id: 148 (1.31%)\n",
      "year_of_death: 8610 (76.09%)\n",
      "treatments_pharmaceutical_treatment_id: 148 (1.31%)\n",
      "treatments_pharmaceutical_treatment_type: 148 (1.31%)\n",
      "treatments_pharmaceutical_treatment_or_therapy: 1448 (12.8%)\n",
      "treatments_radiation_treatment_id: 148 (1.31%)\n",
      "treatments_radiation_treatment_type: 148 (1.31%)\n",
      "treatments_radiation_treatment_or_therapy: 1388 (12.27%)\n"
     ]
    }
   ],
   "source": [
    "print('~~ MISSING DATA ~~')\n",
    "print()\n",
    "\n",
    "n = df.shape[0]\n",
    "\n",
    "for col in df.columns:\n",
    "    if col in ['submitter_id', 'days_to_death', 'days_to_last_follow_up', 'vital_status', 'age_at_diagnosis']:\n",
    "        continue\n",
    "\n",
    "    n_levels = len(df[col].value_counts())\n",
    "\n",
    "    if n_levels == n:\n",
    "        df = df.drop(columns=[col])\n",
    "    else:\n",
    "        n_missing = sum(df[col].isnull())\n",
    "        if round(n_missing / n * 100, 2) > 80:\n",
    "            df = df.drop(columns=[col])\n",
    "        else:\n",
    "            print(f'{col}: {n_missing} ({round(n_missing / n * 100, 2)}%)')\n",
    "for col in df.columns:\n",
    "    if len(df[col].value_counts()) == 1:\n",
    "        df.drop(columns=[col], inplace=True)\n"
   ],
   "metadata": {
    "collapsed": false
   }
  },
  {
   "cell_type": "code",
   "execution_count": 203,
   "outputs": [],
   "source": [],
   "metadata": {
    "collapsed": false
   }
  },
  {
   "cell_type": "code",
   "execution_count": 204,
   "outputs": [],
   "source": [
    "clinical = df.copy()"
   ],
   "metadata": {
    "collapsed": false
   }
  },
  {
   "cell_type": "code",
   "execution_count": 205,
   "outputs": [
    {
     "name": "stdout",
     "output_type": "stream",
     "text": [
      "~~ MISSING DATA ~~\n",
      "\n",
      "synchronous_malignancy: 2075 (18.34%)\n",
      "ajcc_pathologic_stage: 4368 (38.6%)\n",
      "tissue_or_organ_of_origin: 148 (1.31%)\n",
      "days_to_last_follow_up: 2182 (19.28%)\n",
      "age_at_diagnosis: 273 (2.41%)\n",
      "primary_diagnosis: 148 (1.31%)\n",
      "updated_datetime: 148 (1.31%)\n",
      "prior_malignancy: 1294 (11.44%)\n",
      "year_of_diagnosis: 281 (2.48%)\n",
      "prior_treatment: 156 (1.38%)\n",
      "ajcc_staging_system_edition: 4918 (43.46%)\n",
      "ajcc_pathologic_t: 3426 (30.28%)\n",
      "morphology: 148 (1.31%)\n",
      "ajcc_pathologic_n: 3474 (30.7%)\n",
      "ajcc_pathologic_m: 4346 (38.41%)\n",
      "diagnosis_id: 148 (1.31%)\n",
      "icd_10_code: 352 (3.11%)\n",
      "site_of_resection_or_biopsy: 148 (1.31%)\n",
      "exposure_id: 148 (1.31%)\n",
      "race: 1147 (10.14%)\n",
      "gender: 152 (1.34%)\n",
      "ethnicity: 2519 (22.26%)\n",
      "vital_status: 164 (1.45%)\n",
      "age_at_index: 205 (1.81%)\n",
      "days_to_birth: 273 (2.41%)\n",
      "year_of_birth: 321 (2.84%)\n",
      "demographic_id: 148 (1.31%)\n",
      "year_of_death: 8610 (76.09%)\n",
      "days_to_death: 7713 (68.17%)\n",
      "treatments_pharmaceutical_treatment_id: 148 (1.31%)\n",
      "treatments_pharmaceutical_treatment_or_therapy: 1448 (12.8%)\n",
      "treatments_radiation_treatment_id: 148 (1.31%)\n",
      "treatments_radiation_treatment_or_therapy: 1388 (12.27%)\n"
     ]
    }
   ],
   "source": [
    "\n",
    "print('~~ MISSING DATA ~~')\n",
    "print()\n",
    "\n",
    "n = clinical.shape[0]\n",
    "\n",
    "for v in clinical.columns:\n",
    "    n_missing = sum(clinical[v].isnull())\n",
    "    if n_missing > 0:\n",
    "        if n_missing == n:\n",
    "            clinical = clinical.drop(columns=[v])\n",
    "        else:\n",
    "            print(f'{v}: {n_missing} ({round(n_missing / n * 100, 2)}%)')"
   ],
   "metadata": {
    "collapsed": false
   }
  },
  {
   "cell_type": "code",
   "execution_count": 206,
   "outputs": [
    {
     "name": "stdout",
     "output_type": "stream",
     "text": [
      "<class 'pandas.core.frame.DataFrame'>\n",
      "RangeIndex: 11315 entries, 0 to 11314\n",
      "Data columns (total 35 columns):\n",
      " #   Column                                          Non-Null Count  Dtype  \n",
      "---  ------                                          --------------  -----  \n",
      " 0   project                                         11315 non-null  object \n",
      " 1   submitter_id                                    11315 non-null  object \n",
      " 2   synchronous_malignancy                          9240 non-null   object \n",
      " 3   ajcc_pathologic_stage                           6947 non-null   object \n",
      " 4   tissue_or_organ_of_origin                       11167 non-null  object \n",
      " 5   days_to_last_follow_up                          9133 non-null   float64\n",
      " 6   age_at_diagnosis                                11042 non-null  float64\n",
      " 7   primary_diagnosis                               11167 non-null  object \n",
      " 8   updated_datetime                                11167 non-null  object \n",
      " 9   prior_malignancy                                10021 non-null  object \n",
      " 10  year_of_diagnosis                               11034 non-null  float64\n",
      " 11  prior_treatment                                 11159 non-null  object \n",
      " 12  ajcc_staging_system_edition                     6397 non-null   object \n",
      " 13  ajcc_pathologic_t                               7889 non-null   object \n",
      " 14  morphology                                      11167 non-null  object \n",
      " 15  ajcc_pathologic_n                               7841 non-null   object \n",
      " 16  ajcc_pathologic_m                               6969 non-null   object \n",
      " 17  diagnosis_id                                    11167 non-null  object \n",
      " 18  icd_10_code                                     10963 non-null  object \n",
      " 19  site_of_resection_or_biopsy                     11167 non-null  object \n",
      " 20  exposure_id                                     11167 non-null  object \n",
      " 21  race                                            10168 non-null  object \n",
      " 22  gender                                          11163 non-null  object \n",
      " 23  ethnicity                                       8796 non-null   object \n",
      " 24  vital_status                                    11151 non-null  object \n",
      " 25  age_at_index                                    11110 non-null  float64\n",
      " 26  days_to_birth                                   11042 non-null  float64\n",
      " 27  year_of_birth                                   10994 non-null  float64\n",
      " 28  demographic_id                                  11167 non-null  object \n",
      " 29  year_of_death                                   2705 non-null   float64\n",
      " 30  days_to_death                                   3602 non-null   float64\n",
      " 31  treatments_pharmaceutical_treatment_id          11167 non-null  object \n",
      " 32  treatments_pharmaceutical_treatment_or_therapy  9867 non-null   object \n",
      " 33  treatments_radiation_treatment_id               11167 non-null  object \n",
      " 34  treatments_radiation_treatment_or_therapy       9927 non-null   object \n",
      "dtypes: float64(8), object(27)\n",
      "memory usage: 3.0+ MB\n"
     ]
    }
   ],
   "source": [
    "clinical.info()"
   ],
   "metadata": {
    "collapsed": false
   }
  },
  {
   "cell_type": "code",
   "execution_count": 207,
   "outputs": [
    {
     "data": {
      "text/plain": "female    5817\nmale      5346\nName: gender, dtype: int64"
     },
     "execution_count": 207,
     "metadata": {},
     "output_type": "execute_result"
    }
   ],
   "source": [
    "clinical['gender'].value_counts()"
   ],
   "metadata": {
    "collapsed": false
   }
  },
  {
   "cell_type": "code",
   "execution_count": 208,
   "outputs": [
    {
     "data": {
      "text/plain": "white                                        8457\nblack or african american                     985\nasian                                         685\namerican indian or alaska native               28\nnative hawaiian or other pacific islander      13\nName: race, dtype: int64"
     },
     "execution_count": 208,
     "metadata": {},
     "output_type": "execute_result"
    }
   ],
   "source": [
    "clinical['race'].value_counts()"
   ],
   "metadata": {
    "collapsed": false
   }
  },
  {
   "cell_type": "code",
   "execution_count": 209,
   "outputs": [
    {
     "data": {
      "text/plain": "not hispanic or latino    8412\nhispanic or latino         384\nName: ethnicity, dtype: int64"
     },
     "execution_count": 209,
     "metadata": {},
     "output_type": "execute_result"
    }
   ],
   "source": [
    "clinical['ethnicity'].value_counts()\n"
   ],
   "metadata": {
    "collapsed": false
   }
  },
  {
   "cell_type": "code",
   "execution_count": 210,
   "outputs": [
    {
     "data": {
      "text/plain": "no     9092\nyes     929\nName: prior_malignancy, dtype: int64"
     },
     "execution_count": 210,
     "metadata": {},
     "output_type": "execute_result"
    }
   ],
   "source": [
    "clinical['prior_malignancy'].value_counts()\n"
   ],
   "metadata": {
    "collapsed": false
   }
  },
  {
   "cell_type": "code",
   "execution_count": 211,
   "outputs": [
    {
     "data": {
      "text/plain": "Alive    7510\nDead     3641\nName: vital_status, dtype: int64"
     },
     "execution_count": 211,
     "metadata": {},
     "output_type": "execute_result"
    }
   ],
   "source": [
    "clinical['vital_status'].value_counts()\n"
   ],
   "metadata": {
    "collapsed": false
   }
  },
  {
   "cell_type": "code",
   "execution_count": 212,
   "outputs": [
    {
     "data": {
      "text/plain": "<AxesSubplot:ylabel='Frequency'>"
     },
     "execution_count": 212,
     "metadata": {},
     "output_type": "execute_result"
    },
    {
     "data": {
      "text/plain": "<Figure size 432x288 with 1 Axes>",
      "image/png": "[encoded data removed]"
     },
     "metadata": {
      "needs_background": "light"
     },
     "output_type": "display_data"
    }
   ],
   "source": [
    "clinical['days_to_last_follow_up'].plot(kind='hist')\n"
   ],
   "metadata": {
    "collapsed": false
   }
  },
  {
   "cell_type": "code",
   "execution_count": 213,
   "outputs": [
    {
     "data": {
      "text/plain": "<AxesSubplot:>"
     },
     "execution_count": 213,
     "metadata": {},
     "output_type": "execute_result"
    },
    {
     "data": {
      "text/plain": "<Figure size 432x288 with 1 Axes>",
      "image/png": "[encoded data removed]"
     },
     "metadata": {
      "needs_background": "light"
     },
     "output_type": "display_data"
    }
   ],
   "source": [
    "clinical['days_to_death'].plot(kind='box')\n"
   ],
   "metadata": {
    "collapsed": false
   }
  },
  {
   "cell_type": "code",
   "execution_count": 214,
   "outputs": [
    {
     "data": {
      "text/plain": "<AxesSubplot:>"
     },
     "execution_count": 214,
     "metadata": {},
     "output_type": "execute_result"
    },
    {
     "data": {
      "text/plain": "<Figure size 432x288 with 1 Axes>",
      "image/png": "[encoded data removed]"
     },
     "metadata": {
      "needs_background": "light"
     },
     "output_type": "display_data"
    }
   ],
   "source": [
    "clinical['days_to_death'].sort_values(ascending=False).plot(use_index=False)\n"
   ],
   "metadata": {
    "collapsed": false
   }
  },
  {
   "cell_type": "code",
   "execution_count": 215,
   "outputs": [
    {
     "data": {
      "text/plain": "<AxesSubplot:>"
     },
     "execution_count": 215,
     "metadata": {},
     "output_type": "execute_result"
    },
    {
     "data": {
      "text/plain": "<Figure size 432x288 with 1 Axes>",
      "image/png": "[encoded data removed]"
     },
     "metadata": {
      "needs_background": "light"
     },
     "output_type": "display_data"
    }
   ],
   "source": [
    "clinical['days_to_last_follow_up'].plot(kind='box')\n"
   ],
   "metadata": {
    "collapsed": false
   }
  },
  {
   "cell_type": "code",
   "execution_count": 216,
   "outputs": [
    {
     "data": {
      "text/plain": "<AxesSubplot:>"
     },
     "execution_count": 216,
     "metadata": {},
     "output_type": "execute_result"
    },
    {
     "data": {
      "text/plain": "<Figure size 432x288 with 1 Axes>",
      "image/png": "[encoded data removed]"
     },
     "metadata": {
      "needs_background": "light"
     },
     "output_type": "display_data"
    }
   ],
   "source": [
    "clinical['age_at_diagnosis'].apply(lambda x: -x / 365).plot(kind='box')\n"
   ],
   "metadata": {
    "collapsed": false
   }
  },
  {
   "cell_type": "code",
   "execution_count": 217,
   "outputs": [
    {
     "data": {
      "text/plain": "<AxesSubplot:>"
     },
     "execution_count": 217,
     "metadata": {},
     "output_type": "execute_result"
    },
    {
     "data": {
      "text/plain": "<Figure size 432x288 with 1 Axes>",
      "image/png": "[encoded data removed]"
     },
     "metadata": {
      "needs_background": "light"
     },
     "output_type": "display_data"
    }
   ],
   "source": [
    "clinical['age_at_diagnosis'].sort_values(ascending=False).plot(use_index=False)\n"
   ],
   "metadata": {
    "collapsed": false
   }
  },
  {
   "cell_type": "code",
   "execution_count": 218,
   "outputs": [
    {
     "data": {
      "text/plain": "       days_to_last_follow_up  age_at_diagnosis  year_of_diagnosis  \\\ncount             9133.000000      11042.000000       11034.000000   \nmean              1034.453411      21763.424380        2008.034620   \nstd               1048.312617       5266.400415           4.321537   \nmin                -64.000000       3982.000000        1978.000000   \n25%                375.000000      18516.250000        2006.000000   \n50%                717.000000      22223.500000        2009.000000   \n75%               1373.000000      25611.250000        2011.000000   \nmax              11252.000000      32872.000000        2013.000000   \n\n       age_at_index  days_to_birth  year_of_birth  year_of_death  \\\ncount  11110.000000   11042.000000   10994.000000    2705.000000   \nmean      59.100360  -21763.424380    1948.998090    2006.194455   \nstd       14.415485    5266.400415      14.951509       4.426408   \nmin       10.000000  -32872.000000    1902.000000    1990.000000   \n25%       50.000000  -25611.250000    1938.000000    2004.000000   \n50%       60.000000  -22223.500000    1948.000000    2007.000000   \n75%       70.000000  -18516.250000    1958.000000    2009.000000   \nmax       90.000000   -3982.000000    1997.000000    2014.000000   \n\n       days_to_death  \ncount    3602.000000  \nmean      842.895614  \nstd       943.257919  \nmin         0.000000  \n25%       273.000000  \n50%       545.000000  \n75%      1088.000000  \nmax     10870.000000  ",
      "text/html": "<div>\n<style scoped>\n    .dataframe tbody tr th:only-of-type {\n        vertical-align: middle;\n    }\n\n    .dataframe tbody tr th {\n        vertical-align: top;\n    }\n\n    .dataframe thead th {\n        text-align: right;\n    }\n</style>\n<table border=\"1\" class=\"dataframe\">\n  <thead>\n    <tr style=\"text-align: right;\">\n      <th></th>\n      <th>days_to_last_follow_up</th>\n      <th>age_at_diagnosis</th>\n      <th>year_of_diagnosis</th>\n      <th>age_at_index</th>\n      <th>days_to_birth</th>\n      <th>year_of_birth</th>\n      <th>year_of_death</th>\n      <th>days_to_death</th>\n    </tr>\n  </thead>\n  <tbody>\n    <tr>\n      <th>count</th>\n      <td>9133.000000</td>\n      <td>11042.000000</td>\n      <td>11034.000000</td>\n      <td>11110.000000</td>\n      <td>11042.000000</td>\n      <td>10994.000000</td>\n      <td>2705.000000</td>\n      <td>3602.000000</td>\n    </tr>\n    <tr>\n      <th>mean</th>\n      <td>1034.453411</td>\n      <td>21763.424380</td>\n      <td>2008.034620</td>\n      <td>59.100360</td>\n      <td>-21763.424380</td>\n      <td>1948.998090</td>\n      <td>2006.194455</td>\n      <td>842.895614</td>\n    </tr>\n    <tr>\n      <th>std</th>\n      <td>1048.312617</td>\n      <td>5266.400415</td>\n      <td>4.321537</td>\n      <td>14.415485</td>\n      <td>5266.400415</td>\n      <td>14.951509</td>\n      <td>4.426408</td>\n      <td>943.257919</td>\n    </tr>\n    <tr>\n      <th>min</th>\n      <td>-64.000000</td>\n      <td>3982.000000</td>\n      <td>1978.000000</td>\n      <td>10.000000</td>\n      <td>-32872.000000</td>\n      <td>1902.000000</td>\n      <td>1990.000000</td>\n      <td>0.000000</td>\n    </tr>\n    <tr>\n      <th>25%</th>\n      <td>375.000000</td>\n      <td>18516.250000</td>\n      <td>2006.000000</td>\n      <td>50.000000</td>\n      <td>-25611.250000</td>\n      <td>1938.000000</td>\n      <td>2004.000000</td>\n      <td>273.000000</td>\n    </tr>\n    <tr>\n      <th>50%</th>\n      <td>717.000000</td>\n      <td>22223.500000</td>\n      <td>2009.000000</td>\n      <td>60.000000</td>\n      <td>-22223.500000</td>\n      <td>1948.000000</td>\n      <td>2007.000000</td>\n      <td>545.000000</td>\n    </tr>\n    <tr>\n      <th>75%</th>\n      <td>1373.000000</td>\n      <td>25611.250000</td>\n      <td>2011.000000</td>\n      <td>70.000000</td>\n      <td>-18516.250000</td>\n      <td>1958.000000</td>\n      <td>2009.000000</td>\n      <td>1088.000000</td>\n    </tr>\n    <tr>\n      <th>max</th>\n      <td>11252.000000</td>\n      <td>32872.000000</td>\n      <td>2013.000000</td>\n      <td>90.000000</td>\n      <td>-3982.000000</td>\n      <td>1997.000000</td>\n      <td>2014.000000</td>\n      <td>10870.000000</td>\n    </tr>\n  </tbody>\n</table>\n</div>"
     },
     "execution_count": 218,
     "metadata": {},
     "output_type": "execute_result"
    }
   ],
   "source": [
    "clinical.describe()\n"
   ],
   "metadata": {
    "collapsed": false
   }
  },
  {
   "cell_type": "code",
   "execution_count": 219,
   "outputs": [],
   "source": [
    "import numpy as np\n",
    "\n",
    "clinical.drop(columns=['days_to_birth', 'year_of_birth'], inplace=True)"
   ],
   "metadata": {
    "collapsed": false
   }
  },
  {
   "cell_type": "code",
   "execution_count": 220,
   "outputs": [
    {
     "data": {
      "text/plain": "       days_to_last_follow_up  age_at_diagnosis  year_of_diagnosis  \\\ncount             9133.000000      11042.000000       11034.000000   \nmean              1034.453411      21763.424380        2008.034620   \nstd               1048.312617       5266.400415           4.321537   \nmin                -64.000000       3982.000000        1978.000000   \n25%                375.000000      18516.250000        2006.000000   \n50%                717.000000      22223.500000        2009.000000   \n75%               1373.000000      25611.250000        2011.000000   \nmax              11252.000000      32872.000000        2013.000000   \n\n       age_at_index  year_of_death  days_to_death  \ncount  11110.000000    2705.000000    3602.000000  \nmean      59.100360    2006.194455     842.895614  \nstd       14.415485       4.426408     943.257919  \nmin       10.000000    1990.000000       0.000000  \n25%       50.000000    2004.000000     273.000000  \n50%       60.000000    2007.000000     545.000000  \n75%       70.000000    2009.000000    1088.000000  \nmax       90.000000    2014.000000   10870.000000  ",
      "text/html": "<div>\n<style scoped>\n    .dataframe tbody tr th:only-of-type {\n        vertical-align: middle;\n    }\n\n    .dataframe tbody tr th {\n        vertical-align: top;\n    }\n\n    .dataframe thead th {\n        text-align: right;\n    }\n</style>\n<table border=\"1\" class=\"dataframe\">\n  <thead>\n    <tr style=\"text-align: right;\">\n      <th></th>\n      <th>days_to_last_follow_up</th>\n      <th>age_at_diagnosis</th>\n      <th>year_of_diagnosis</th>\n      <th>age_at_index</th>\n      <th>year_of_death</th>\n      <th>days_to_death</th>\n    </tr>\n  </thead>\n  <tbody>\n    <tr>\n      <th>count</th>\n      <td>9133.000000</td>\n      <td>11042.000000</td>\n      <td>11034.000000</td>\n      <td>11110.000000</td>\n      <td>2705.000000</td>\n      <td>3602.000000</td>\n    </tr>\n    <tr>\n      <th>mean</th>\n      <td>1034.453411</td>\n      <td>21763.424380</td>\n      <td>2008.034620</td>\n      <td>59.100360</td>\n      <td>2006.194455</td>\n      <td>842.895614</td>\n    </tr>\n    <tr>\n      <th>std</th>\n      <td>1048.312617</td>\n      <td>5266.400415</td>\n      <td>4.321537</td>\n      <td>14.415485</td>\n      <td>4.426408</td>\n      <td>943.257919</td>\n    </tr>\n    <tr>\n      <th>min</th>\n      <td>-64.000000</td>\n      <td>3982.000000</td>\n      <td>1978.000000</td>\n      <td>10.000000</td>\n      <td>1990.000000</td>\n      <td>0.000000</td>\n    </tr>\n    <tr>\n      <th>25%</th>\n      <td>375.000000</td>\n      <td>18516.250000</td>\n      <td>2006.000000</td>\n      <td>50.000000</td>\n      <td>2004.000000</td>\n      <td>273.000000</td>\n    </tr>\n    <tr>\n      <th>50%</th>\n      <td>717.000000</td>\n      <td>22223.500000</td>\n      <td>2009.000000</td>\n      <td>60.000000</td>\n      <td>2007.000000</td>\n      <td>545.000000</td>\n    </tr>\n    <tr>\n      <th>75%</th>\n      <td>1373.000000</td>\n      <td>25611.250000</td>\n      <td>2011.000000</td>\n      <td>70.000000</td>\n      <td>2009.000000</td>\n      <td>1088.000000</td>\n    </tr>\n    <tr>\n      <th>max</th>\n      <td>11252.000000</td>\n      <td>32872.000000</td>\n      <td>2013.000000</td>\n      <td>90.000000</td>\n      <td>2014.000000</td>\n      <td>10870.000000</td>\n    </tr>\n  </tbody>\n</table>\n</div>"
     },
     "execution_count": 220,
     "metadata": {},
     "output_type": "execute_result"
    }
   ],
   "source": [
    "clinical.describe()"
   ],
   "metadata": {
    "collapsed": false
   }
  },
  {
   "cell_type": "code",
   "execution_count": 221,
   "outputs": [],
   "source": [
    "clinical['project'].value_counts()\n",
    "clinical = clinical.set_index('submitter_id')"
   ],
   "metadata": {
    "collapsed": false
   }
  },
  {
   "cell_type": "code",
   "execution_count": 222,
   "outputs": [],
   "source": [
    "race_subset = clinical['race'].isnull()\n",
    "ethnicity_subset = ~clinical['ethnicity'].isnull()\n",
    "subset = race_subset & ethnicity_subset\n",
    "clinical.loc[subset, 'race'] = clinical.loc[subset, 'ethnicity']"
   ],
   "metadata": {
    "collapsed": false
   }
  },
  {
   "cell_type": "code",
   "execution_count": 223,
   "outputs": [],
   "source": [
    "race_subset = (clinical['race'] == 'white')\n",
    "ethnicity_subset = (~clinical['ethnicity'].isnull() &\n",
    "                    (clinical['ethnicity'] == 'hispanic or latino'))\n",
    "subset = race_subset & ethnicity_subset\n",
    "clinical.loc[subset, 'race'] = clinical.loc[subset, 'ethnicity']"
   ],
   "metadata": {
    "collapsed": false
   }
  },
  {
   "cell_type": "code",
   "execution_count": 224,
   "outputs": [
    {
     "data": {
      "text/plain": "white                                        8144\nblack or african american                     985\nasian                                         685\nhispanic or latino                            355\nnot hispanic or latino                         38\namerican indian or alaska native               28\nnative hawaiian or other pacific islander      13\nName: race, dtype: int64"
     },
     "execution_count": 224,
     "metadata": {},
     "output_type": "execute_result"
    }
   ],
   "source": [
    "clinical['race'].value_counts()\n"
   ],
   "metadata": {
    "collapsed": false
   }
  },
  {
   "cell_type": "code",
   "execution_count": 225,
   "outputs": [],
   "source": [
    "clinical = clinical.drop('ethnicity', axis=1)"
   ],
   "metadata": {
    "collapsed": false
   }
  },
  {
   "cell_type": "code",
   "execution_count": 226,
   "outputs": [],
   "source": [
    "subset = ~clinical.vital_status.isna()\n",
    "clinical = clinical.loc[subset]"
   ],
   "metadata": {
    "collapsed": false
   }
  },
  {
   "cell_type": "code",
   "execution_count": 227,
   "outputs": [
    {
     "name": "stdout",
     "output_type": "stream",
     "text": [
      "# patients missing both duration columns: 53\n"
     ]
    }
   ],
   "source": [
    "missing_duration_data = clinical[\n",
    "    clinical['days_to_death'].isna() &\n",
    "    clinical['days_to_last_follow_up'].isna()]\n",
    "\n",
    "print('# patients missing both duration columns:', missing_duration_data.shape[0])"
   ],
   "metadata": {
    "collapsed": false
   }
  },
  {
   "cell_type": "markdown",
   "source": [],
   "metadata": {
    "collapsed": false
   }
  },
  {
   "cell_type": "code",
   "execution_count": 228,
   "outputs": [
    {
     "data": {
      "text/plain": "                project synchronous_malignancy ajcc_pathologic_stage  \\\nsubmitter_id                                                           \nTCGA-AJ-A3BH  TCGA-UCEC                     No                   NaN   \nTCGA-AA-3521  TCGA-COAD                    NaN              Stage II   \nTCGA-GV-A3QG  TCGA-BLCA                    NaN              Stage IV   \nTCGA-KN-8430  TCGA-KICH                     No               Stage I   \nTCGA-CQ-A4CA  TCGA-HNSC                     No              Stage II   \n\n                   tissue_or_organ_of_origin  days_to_last_follow_up  \\\nsubmitter_id                                                           \nTCGA-AJ-A3BH                     Endometrium                     NaN   \nTCGA-AA-3521                   Sigmoid colon                     NaN   \nTCGA-GV-A3QG       Posterior wall of bladder                     NaN   \nTCGA-KN-8430                     Kidney, NOS                     NaN   \nTCGA-CQ-A4CA  Ventral surface of tongue, NOS                     NaN   \n\n              age_at_diagnosis                       primary_diagnosis  \\\nsubmitter_id                                                             \nTCGA-AJ-A3BH               NaN        Endometrioid adenocarcinoma, NOS   \nTCGA-AA-3521           31805.0                     Adenocarcinoma, NOS   \nTCGA-GV-A3QG           23847.0             Transitional cell carcinoma   \nTCGA-KN-8430           27467.0  Renal cell carcinoma, chromophobe type   \nTCGA-CQ-A4CA               NaN            Squamous cell carcinoma, NOS   \n\n                              updated_datetime prior_malignancy  \\\nsubmitter_id                                                      \nTCGA-AJ-A3BH  2019-08-27T13:07:47.348739-05:00               no   \nTCGA-AA-3521  2019-08-08T16:34:13.342472-05:00              yes   \nTCGA-GV-A3QG  2019-08-08T16:18:08.484365-05:00              yes   \nTCGA-KN-8430  2019-08-08T16:49:14.932349-05:00              yes   \nTCGA-CQ-A4CA  2019-08-08T16:45:33.461938-05:00               no   \n\n              year_of_diagnosis  ...  gender vital_status age_at_index  \\\nsubmitter_id                     ...                                     \nTCGA-AJ-A3BH             2011.0  ...  female        Alive          NaN   \nTCGA-AA-3521             2007.0  ...    male        Alive         87.0   \nTCGA-GV-A3QG             2011.0  ...    male         Dead         65.0   \nTCGA-KN-8430             2007.0  ...    male         Dead         75.0   \nTCGA-CQ-A4CA             2011.0  ...    male        Alive          NaN   \n\n                                    demographic_id year_of_death  \\\nsubmitter_id                                                       \nTCGA-AJ-A3BH  1974fb64-2bf1-5ae4-a1d3-549373310899           NaN   \nTCGA-AA-3521  ec8b85ac-6080-5adc-b5ae-6b0bc24312e6           NaN   \nTCGA-GV-A3QG  4bb44c58-e698-5724-b813-cce20ea33af4           NaN   \nTCGA-KN-8430  09aac3cf-d29f-5975-9a97-16b8cd81e9b3           NaN   \nTCGA-CQ-A4CA  6ec5867b-aae8-5612-87e9-2faee4216447           NaN   \n\n             days_to_death treatments_pharmaceutical_treatment_id  \\\nsubmitter_id                                                        \nTCGA-AJ-A3BH           NaN   3f0aeb62-af22-5068-8b8c-ecaa102689eb   \nTCGA-AA-3521           NaN   eaadd834-b435-55fc-9017-732f6ec5ae53   \nTCGA-GV-A3QG           NaN   85e9f634-405c-5619-a625-dfb561828d27   \nTCGA-KN-8430           NaN   203b2282-e20c-5860-b015-97476ea5386d   \nTCGA-CQ-A4CA           NaN   095887bb-b293-5d75-9ff8-bcebf006be83   \n\n             treatments_pharmaceutical_treatment_or_therapy  \\\nsubmitter_id                                                  \nTCGA-AJ-A3BH                                            NaN   \nTCGA-AA-3521                                            NaN   \nTCGA-GV-A3QG                                             no   \nTCGA-KN-8430                                             no   \nTCGA-CQ-A4CA                                             no   \n\n                 treatments_radiation_treatment_id  \\\nsubmitter_id                                         \nTCGA-AJ-A3BH  712d6c72-03e3-563c-a608-66fac6735f30   \nTCGA-AA-3521  0a949d3f-fef3-545a-8358-dfa078ea6843   \nTCGA-GV-A3QG  571db996-6eb7-5755-943f-1aa53e48e398   \nTCGA-KN-8430  a50e4d44-0e9a-5130-8d0a-1956db244ce0   \nTCGA-CQ-A4CA  721fb227-d59e-5c04-b605-6e8bcc460bae   \n\n             treatments_radiation_treatment_or_therapy  \nsubmitter_id                                            \nTCGA-AJ-A3BH                                       NaN  \nTCGA-AA-3521                                       NaN  \nTCGA-GV-A3QG                                        no  \nTCGA-KN-8430                                        no  \nTCGA-CQ-A4CA                                        no  \n\n[5 rows x 31 columns]",
      "text/html": "<div>\n<style scoped>\n    .dataframe tbody tr th:only-of-type {\n        vertical-align: middle;\n    }\n\n    .dataframe tbody tr th {\n        vertical-align: top;\n    }\n\n    .dataframe thead th {\n        text-align: right;\n    }\n</style>\n<table border=\"1\" class=\"dataframe\">\n  <thead>\n    <tr style=\"text-align: right;\">\n      <th></th>\n      <th>project</th>\n      <th>synchronous_malignancy</th>\n      <th>ajcc_pathologic_stage</th>\n      <th>tissue_or_organ_of_origin</th>\n      <th>days_to_last_follow_up</th>\n      <th>age_at_diagnosis</th>\n      <th>primary_diagnosis</th>\n      <th>updated_datetime</th>\n      <th>prior_malignancy</th>\n      <th>year_of_diagnosis</th>\n      <th>...</th>\n      <th>gender</th>\n      <th>vital_status</th>\n      <th>age_at_index</th>\n      <th>demographic_id</th>\n      <th>year_of_death</th>\n      <th>days_to_death</th>\n      <th>treatments_pharmaceutical_treatment_id</th>\n      <th>treatments_pharmaceutical_treatment_or_therapy</th>\n      <th>treatments_radiation_treatment_id</th>\n      <th>treatments_radiation_treatment_or_therapy</th>\n    </tr>\n    <tr>\n      <th>submitter_id</th>\n      <th></th>\n      <th></th>\n      <th></th>\n      <th></th>\n      <th></th>\n      <th></th>\n      <th></th>\n      <th></th>\n      <th></th>\n      <th></th>\n      <th></th>\n      <th></th>\n      <th></th>\n      <th></th>\n      <th></th>\n      <th></th>\n      <th></th>\n      <th></th>\n      <th></th>\n      <th></th>\n      <th></th>\n    </tr>\n  </thead>\n  <tbody>\n    <tr>\n      <th>TCGA-AJ-A3BH</th>\n      <td>TCGA-UCEC</td>\n      <td>No</td>\n      <td>NaN</td>\n      <td>Endometrium</td>\n      <td>NaN</td>\n      <td>NaN</td>\n      <td>Endometrioid adenocarcinoma, NOS</td>\n      <td>2019-08-27T13:07:47.348739-05:00</td>\n      <td>no</td>\n      <td>2011.0</td>\n      <td>...</td>\n      <td>female</td>\n      <td>Alive</td>\n      <td>NaN</td>\n      <td>1974fb64-2bf1-5ae4-a1d3-549373310899</td>\n      <td>NaN</td>\n      <td>NaN</td>\n      <td>3f0aeb62-af22-5068-8b8c-ecaa102689eb</td>\n      <td>NaN</td>\n      <td>712d6c72-03e3-563c-a608-66fac6735f30</td>\n      <td>NaN</td>\n    </tr>\n    <tr>\n      <th>TCGA-AA-3521</th>\n      <td>TCGA-COAD</td>\n      <td>NaN</td>\n      <td>Stage II</td>\n      <td>Sigmoid colon</td>\n      <td>NaN</td>\n      <td>31805.0</td>\n      <td>Adenocarcinoma, NOS</td>\n      <td>2019-08-08T16:34:13.342472-05:00</td>\n      <td>yes</td>\n      <td>2007.0</td>\n      <td>...</td>\n      <td>male</td>\n      <td>Alive</td>\n      <td>87.0</td>\n      <td>ec8b85ac-6080-5adc-b5ae-6b0bc24312e6</td>\n      <td>NaN</td>\n      <td>NaN</td>\n      <td>eaadd834-b435-55fc-9017-732f6ec5ae53</td>\n      <td>NaN</td>\n      <td>0a949d3f-fef3-545a-8358-dfa078ea6843</td>\n      <td>NaN</td>\n    </tr>\n    <tr>\n      <th>TCGA-GV-A3QG</th>\n      <td>TCGA-BLCA</td>\n      <td>NaN</td>\n      <td>Stage IV</td>\n      <td>Posterior wall of bladder</td>\n      <td>NaN</td>\n      <td>23847.0</td>\n      <td>Transitional cell carcinoma</td>\n      <td>2019-08-08T16:18:08.484365-05:00</td>\n      <td>yes</td>\n      <td>2011.0</td>\n      <td>...</td>\n      <td>male</td>\n      <td>Dead</td>\n      <td>65.0</td>\n      <td>4bb44c58-e698-5724-b813-cce20ea33af4</td>\n      <td>NaN</td>\n      <td>NaN</td>\n      <td>85e9f634-405c-5619-a625-dfb561828d27</td>\n      <td>no</td>\n      <td>571db996-6eb7-5755-943f-1aa53e48e398</td>\n      <td>no</td>\n    </tr>\n    <tr>\n      <th>TCGA-KN-8430</th>\n      <td>TCGA-KICH</td>\n      <td>No</td>\n      <td>Stage I</td>\n      <td>Kidney, NOS</td>\n      <td>NaN</td>\n      <td>27467.0</td>\n      <td>Renal cell carcinoma, chromophobe type</td>\n      <td>2019-08-08T16:49:14.932349-05:00</td>\n      <td>yes</td>\n      <td>2007.0</td>\n      <td>...</td>\n      <td>male</td>\n      <td>Dead</td>\n      <td>75.0</td>\n      <td>09aac3cf-d29f-5975-9a97-16b8cd81e9b3</td>\n      <td>NaN</td>\n      <td>NaN</td>\n      <td>203b2282-e20c-5860-b015-97476ea5386d</td>\n      <td>no</td>\n      <td>a50e4d44-0e9a-5130-8d0a-1956db244ce0</td>\n      <td>no</td>\n    </tr>\n    <tr>\n      <th>TCGA-CQ-A4CA</th>\n      <td>TCGA-HNSC</td>\n      <td>No</td>\n      <td>Stage II</td>\n      <td>Ventral surface of tongue, NOS</td>\n      <td>NaN</td>\n      <td>NaN</td>\n      <td>Squamous cell carcinoma, NOS</td>\n      <td>2019-08-08T16:45:33.461938-05:00</td>\n      <td>no</td>\n      <td>2011.0</td>\n      <td>...</td>\n      <td>male</td>\n      <td>Alive</td>\n      <td>NaN</td>\n      <td>6ec5867b-aae8-5612-87e9-2faee4216447</td>\n      <td>NaN</td>\n      <td>NaN</td>\n      <td>095887bb-b293-5d75-9ff8-bcebf006be83</td>\n      <td>no</td>\n      <td>721fb227-d59e-5c04-b605-6e8bcc460bae</td>\n      <td>no</td>\n    </tr>\n  </tbody>\n</table>\n<p>5 rows × 31 columns</p>\n</div>"
     },
     "execution_count": 228,
     "metadata": {},
     "output_type": "execute_result"
    }
   ],
   "source": [
    "missing_duration_data.head()"
   ],
   "metadata": {
    "collapsed": false
   }
  },
  {
   "cell_type": "code",
   "execution_count": 252,
   "outputs": [],
   "source": [
    "clinical.rename(columns={'project': 'project_id'}, inplace=True)"
   ],
   "metadata": {
    "collapsed": false
   }
  },
  {
   "cell_type": "code",
   "execution_count": 229,
   "outputs": [],
   "source": [
    "subset = ~(clinical['days_to_death'].isna() &\n",
    "           clinical['days_to_last_follow_up'].isna())\n",
    "clinical = clinical.loc[subset]"
   ],
   "metadata": {
    "collapsed": false
   }
  },
  {
   "cell_type": "code",
   "execution_count": 230,
   "outputs": [
    {
     "data": {
      "text/plain": "(11098, 31)"
     },
     "execution_count": 230,
     "metadata": {},
     "output_type": "execute_result"
    }
   ],
   "source": [
    "clinical.shape"
   ],
   "metadata": {
    "collapsed": false
   }
  },
  {
   "cell_type": "code",
   "execution_count": 231,
   "outputs": [
    {
     "name": "stdout",
     "output_type": "stream",
     "text": [
      "# patients missing \"days_to_last_follow_up\" when \"vital_status\" is \"Alive\": 0\n"
     ]
    }
   ],
   "source": [
    "print('# patients missing \"days_to_last_follow_up\" when \"vital_status\" is \"Alive\":',\n",
    "      clinical[(clinical.vital_status == 'Alive') &\n",
    "               clinical.days_to_last_follow_up.isna()].shape[0])"
   ],
   "metadata": {
    "collapsed": false
   }
  },
  {
   "cell_type": "code",
   "execution_count": 232,
   "outputs": [
    {
     "name": "stdout",
     "output_type": "stream",
     "text": [
      "# patients missing \"days_to_death\" when \"vital_status\" is \"Dead\": 11\n"
     ]
    }
   ],
   "source": [
    "print('# patients missing \"days_to_death\" when \"vital_status\" is \"Dead\":',\n",
    "      clinical[(clinical.vital_status == 'Dead') &\n",
    "               clinical.days_to_death.isna()].shape[0])"
   ],
   "metadata": {
    "collapsed": false
   }
  },
  {
   "cell_type": "code",
   "execution_count": 233,
   "outputs": [],
   "source": [
    "# Remove missing data\n",
    "subset = ~((clinical.vital_status == 'Dead') &\n",
    "           clinical.days_to_death.isna())\n",
    "clinical = clinical.loc[subset]"
   ],
   "metadata": {
    "collapsed": false
   }
  },
  {
   "cell_type": "code",
   "execution_count": 234,
   "outputs": [
    {
     "name": "stdout",
     "output_type": "stream",
     "text": [
      "\"Days to death\" variable missing for all patients still alive? True\n"
     ]
    }
   ],
   "source": [
    "print('\"Days to death\" variable missing for all patients still alive?',\n",
    "      all(clinical[clinical.vital_status == 'Alive'].days_to_death.isna()))"
   ],
   "metadata": {
    "collapsed": false
   }
  },
  {
   "cell_type": "code",
   "execution_count": 235,
   "outputs": [
    {
     "name": "stdout",
     "output_type": "stream",
     "text": [
      "\"Days to last follow up\" variable missing for all dead patients? False\n"
     ]
    }
   ],
   "source": [
    "print('\"Days to last follow up\" variable missing for all dead patients?',\n",
    "      all(clinical[clinical.vital_status == 'Dead'].days_to_last_follow_up.isna()))"
   ],
   "metadata": {
    "collapsed": false
   }
  },
  {
   "cell_type": "code",
   "execution_count": 236,
   "outputs": [],
   "source": [
    "# Insert \"NaN\" in \"days_to_last_follow_up\" when \"vital_status\" is \"Dead\"\n",
    "subset = clinical.vital_status == 'Dead'\n",
    "clinical.loc[subset, 'days_to_last_follow_up'] = None"
   ],
   "metadata": {
    "collapsed": false
   }
  },
  {
   "cell_type": "code",
   "execution_count": 237,
   "outputs": [
    {
     "name": "stdout",
     "output_type": "stream",
     "text": [
      "\"Days to last follow up\" variable missing for all dead patients? True\n"
     ]
    }
   ],
   "source": [
    "print('\"Days to last follow up\" variable missing for all dead patients?',\n",
    "      all(clinical[clinical.vital_status == 'Dead'].days_to_last_follow_up.isna()))\n"
   ],
   "metadata": {
    "collapsed": false
   }
  },
  {
   "cell_type": "code",
   "execution_count": 238,
   "outputs": [
    {
     "data": {
      "text/plain": "                project synchronous_malignancy ajcc_pathologic_stage  \\\nsubmitter_id                                                           \nTCGA-PL-A8LV  TCGA-BRCA                     No            Stage IIIB   \nTCGA-AX-A3FV  TCGA-UCEC                     No                   NaN   \nTCGA-CF-A9FH  TCGA-BLCA                     No              Stage II   \nTCGA-NQ-A638  TCGA-MESO                     No              Stage II   \nTCGA-TQ-A7RS   TCGA-LGG                     No                   NaN   \nTCGA-EB-A430  TCGA-SKCM                     No             Stage IIC   \n\n             tissue_or_organ_of_origin  days_to_last_follow_up  \\\nsubmitter_id                                                     \nTCGA-PL-A8LV               Breast, NOS                    -7.0   \nTCGA-AX-A3FV               Endometrium                    -6.0   \nTCGA-CF-A9FH              Bladder, NOS                   -64.0   \nTCGA-NQ-A638               Pleura, NOS                    -8.0   \nTCGA-TQ-A7RS                  Cerebrum                    -1.0   \nTCGA-EB-A430                 Skin, NOS                    -2.0   \n\n              age_at_diagnosis                      primary_diagnosis  \\\nsubmitter_id                                                            \nTCGA-PL-A8LV           19746.0               Medullary carcinoma, NOS   \nTCGA-AX-A3FV           22752.0       Endometrioid adenocarcinoma, NOS   \nTCGA-CF-A9FH           31236.0  Papillary transitional cell carcinoma   \nTCGA-NQ-A638           24410.0                Mesothelioma, malignant   \nTCGA-TQ-A7RS            9172.0                 Oligodendroglioma, NOS   \nTCGA-EB-A430           30344.0                       Nodular melanoma   \n\n                              updated_datetime prior_malignancy  \\\nsubmitter_id                                                      \nTCGA-PL-A8LV  2019-08-08T16:30:14.878156-05:00               no   \nTCGA-AX-A3FV  2019-08-27T13:08:55.229228-05:00               no   \nTCGA-CF-A9FH  2019-08-08T16:15:48.249297-05:00               no   \nTCGA-NQ-A638  2019-08-08T17:15:03.198560-05:00               no   \nTCGA-TQ-A7RS  2019-08-08T17:04:26.950565-05:00               no   \nTCGA-EB-A430  2019-08-08T17:30:38.814901-05:00               no   \n\n              year_of_diagnosis  ...  gender vital_status age_at_index  \\\nsubmitter_id                     ...                                     \nTCGA-PL-A8LV             2013.0  ...  female        Alive         54.0   \nTCGA-AX-A3FV             2009.0  ...  female        Alive         62.0   \nTCGA-CF-A9FH             2013.0  ...    male        Alive         85.0   \nTCGA-NQ-A638             2012.0  ...    male        Alive         66.0   \nTCGA-TQ-A7RS             2012.0  ...  female        Alive         25.0   \nTCGA-EB-A430             2012.0  ...    male        Alive         83.0   \n\n                                    demographic_id year_of_death  \\\nsubmitter_id                                                       \nTCGA-PL-A8LV  53fb5a5f-60d3-55d7-9777-3ed3ef240243           NaN   \nTCGA-AX-A3FV  68eeb680-0c16-5cd2-ad66-077e1551696c           NaN   \nTCGA-CF-A9FH  4eae84b6-4952-5ba9-9ab4-49aab283b882           NaN   \nTCGA-NQ-A638  f5385979-be48-594b-99a1-e9f68888b0f3           NaN   \nTCGA-TQ-A7RS  f0da64d6-1535-5270-a4e3-0d0adc458e89           NaN   \nTCGA-EB-A430  4a4515a2-19f4-56d1-b99e-e6e28d21e508           NaN   \n\n             days_to_death treatments_pharmaceutical_treatment_id  \\\nsubmitter_id                                                        \nTCGA-PL-A8LV           NaN   97e527cf-2fd2-5434-8476-098d84da8aa9   \nTCGA-AX-A3FV           NaN   825bcf89-04f6-5d73-b31f-537a3f43b279   \nTCGA-CF-A9FH           NaN   1dfbf1c2-173e-5790-9acb-28127248e419   \nTCGA-NQ-A638           NaN   919e4885-2b1a-5a6d-a840-887c5c54a9dc   \nTCGA-TQ-A7RS           NaN   f72dcd95-2511-5da8-930f-9b9da61fa25c   \nTCGA-EB-A430           NaN   4c4924f8-a46c-5182-9002-a98e00abb375   \n\n             treatments_pharmaceutical_treatment_or_therapy  \\\nsubmitter_id                                                  \nTCGA-PL-A8LV                                            NaN   \nTCGA-AX-A3FV                                            NaN   \nTCGA-CF-A9FH                                             no   \nTCGA-NQ-A638                                            NaN   \nTCGA-TQ-A7RS                                             no   \nTCGA-EB-A430                                             no   \n\n                 treatments_radiation_treatment_id  \\\nsubmitter_id                                         \nTCGA-PL-A8LV  5c4e2c67-cd11-579d-9013-27e79fac9af3   \nTCGA-AX-A3FV  521523e4-353b-5e8d-bf02-62daef0086d1   \nTCGA-CF-A9FH  84fe61c4-54b3-57e0-822a-5fbe7397425c   \nTCGA-NQ-A638  11665120-db3e-53fa-9e40-a7a149631696   \nTCGA-TQ-A7RS  c5a0a602-9def-54be-b4a3-be1aa8ffc8c1   \nTCGA-EB-A430  524a9ace-c0cf-51c9-bd48-052be0193908   \n\n             treatments_radiation_treatment_or_therapy  \nsubmitter_id                                            \nTCGA-PL-A8LV                                        no  \nTCGA-AX-A3FV                                       NaN  \nTCGA-CF-A9FH                                        no  \nTCGA-NQ-A638                                       NaN  \nTCGA-TQ-A7RS                                        no  \nTCGA-EB-A430                                        no  \n\n[6 rows x 31 columns]",
      "text/html": "<div>\n<style scoped>\n    .dataframe tbody tr th:only-of-type {\n        vertical-align: middle;\n    }\n\n    .dataframe tbody tr th {\n        vertical-align: top;\n    }\n\n    .dataframe thead th {\n        text-align: right;\n    }\n</style>\n<table border=\"1\" class=\"dataframe\">\n  <thead>\n    <tr style=\"text-align: right;\">\n      <th></th>\n      <th>project</th>\n      <th>synchronous_malignancy</th>\n      <th>ajcc_pathologic_stage</th>\n      <th>tissue_or_organ_of_origin</th>\n      <th>days_to_last_follow_up</th>\n      <th>age_at_diagnosis</th>\n      <th>primary_diagnosis</th>\n      <th>updated_datetime</th>\n      <th>prior_malignancy</th>\n      <th>year_of_diagnosis</th>\n      <th>...</th>\n      <th>gender</th>\n      <th>vital_status</th>\n      <th>age_at_index</th>\n      <th>demographic_id</th>\n      <th>year_of_death</th>\n      <th>days_to_death</th>\n      <th>treatments_pharmaceutical_treatment_id</th>\n      <th>treatments_pharmaceutical_treatment_or_therapy</th>\n      <th>treatments_radiation_treatment_id</th>\n      <th>treatments_radiation_treatment_or_therapy</th>\n    </tr>\n    <tr>\n      <th>submitter_id</th>\n      <th></th>\n      <th></th>\n      <th></th>\n      <th></th>\n      <th></th>\n      <th></th>\n      <th></th>\n      <th></th>\n      <th></th>\n      <th></th>\n      <th></th>\n      <th></th>\n      <th></th>\n      <th></th>\n      <th></th>\n      <th></th>\n      <th></th>\n      <th></th>\n      <th></th>\n      <th></th>\n      <th></th>\n    </tr>\n  </thead>\n  <tbody>\n    <tr>\n      <th>TCGA-PL-A8LV</th>\n      <td>TCGA-BRCA</td>\n      <td>No</td>\n      <td>Stage IIIB</td>\n      <td>Breast, NOS</td>\n      <td>-7.0</td>\n      <td>19746.0</td>\n      <td>Medullary carcinoma, NOS</td>\n      <td>2019-08-08T16:30:14.878156-05:00</td>\n      <td>no</td>\n      <td>2013.0</td>\n      <td>...</td>\n      <td>female</td>\n      <td>Alive</td>\n      <td>54.0</td>\n      <td>53fb5a5f-60d3-55d7-9777-3ed3ef240243</td>\n      <td>NaN</td>\n      <td>NaN</td>\n      <td>97e527cf-2fd2-5434-8476-098d84da8aa9</td>\n      <td>NaN</td>\n      <td>5c4e2c67-cd11-579d-9013-27e79fac9af3</td>\n      <td>no</td>\n    </tr>\n    <tr>\n      <th>TCGA-AX-A3FV</th>\n      <td>TCGA-UCEC</td>\n      <td>No</td>\n      <td>NaN</td>\n      <td>Endometrium</td>\n      <td>-6.0</td>\n      <td>22752.0</td>\n      <td>Endometrioid adenocarcinoma, NOS</td>\n      <td>2019-08-27T13:08:55.229228-05:00</td>\n      <td>no</td>\n      <td>2009.0</td>\n      <td>...</td>\n      <td>female</td>\n      <td>Alive</td>\n      <td>62.0</td>\n      <td>68eeb680-0c16-5cd2-ad66-077e1551696c</td>\n      <td>NaN</td>\n      <td>NaN</td>\n      <td>825bcf89-04f6-5d73-b31f-537a3f43b279</td>\n      <td>NaN</td>\n      <td>521523e4-353b-5e8d-bf02-62daef0086d1</td>\n      <td>NaN</td>\n    </tr>\n    <tr>\n      <th>TCGA-CF-A9FH</th>\n      <td>TCGA-BLCA</td>\n      <td>No</td>\n      <td>Stage II</td>\n      <td>Bladder, NOS</td>\n      <td>-64.0</td>\n      <td>31236.0</td>\n      <td>Papillary transitional cell carcinoma</td>\n      <td>2019-08-08T16:15:48.249297-05:00</td>\n      <td>no</td>\n      <td>2013.0</td>\n      <td>...</td>\n      <td>male</td>\n      <td>Alive</td>\n      <td>85.0</td>\n      <td>4eae84b6-4952-5ba9-9ab4-49aab283b882</td>\n      <td>NaN</td>\n      <td>NaN</td>\n      <td>1dfbf1c2-173e-5790-9acb-28127248e419</td>\n      <td>no</td>\n      <td>84fe61c4-54b3-57e0-822a-5fbe7397425c</td>\n      <td>no</td>\n    </tr>\n    <tr>\n      <th>TCGA-NQ-A638</th>\n      <td>TCGA-MESO</td>\n      <td>No</td>\n      <td>Stage II</td>\n      <td>Pleura, NOS</td>\n      <td>-8.0</td>\n      <td>24410.0</td>\n      <td>Mesothelioma, malignant</td>\n      <td>2019-08-08T17:15:03.198560-05:00</td>\n      <td>no</td>\n      <td>2012.0</td>\n      <td>...</td>\n      <td>male</td>\n      <td>Alive</td>\n      <td>66.0</td>\n      <td>f5385979-be48-594b-99a1-e9f68888b0f3</td>\n      <td>NaN</td>\n      <td>NaN</td>\n      <td>919e4885-2b1a-5a6d-a840-887c5c54a9dc</td>\n      <td>NaN</td>\n      <td>11665120-db3e-53fa-9e40-a7a149631696</td>\n      <td>NaN</td>\n    </tr>\n    <tr>\n      <th>TCGA-TQ-A7RS</th>\n      <td>TCGA-LGG</td>\n      <td>No</td>\n      <td>NaN</td>\n      <td>Cerebrum</td>\n      <td>-1.0</td>\n      <td>9172.0</td>\n      <td>Oligodendroglioma, NOS</td>\n      <td>2019-08-08T17:04:26.950565-05:00</td>\n      <td>no</td>\n      <td>2012.0</td>\n      <td>...</td>\n      <td>female</td>\n      <td>Alive</td>\n      <td>25.0</td>\n      <td>f0da64d6-1535-5270-a4e3-0d0adc458e89</td>\n      <td>NaN</td>\n      <td>NaN</td>\n      <td>f72dcd95-2511-5da8-930f-9b9da61fa25c</td>\n      <td>no</td>\n      <td>c5a0a602-9def-54be-b4a3-be1aa8ffc8c1</td>\n      <td>no</td>\n    </tr>\n    <tr>\n      <th>TCGA-EB-A430</th>\n      <td>TCGA-SKCM</td>\n      <td>No</td>\n      <td>Stage IIC</td>\n      <td>Skin, NOS</td>\n      <td>-2.0</td>\n      <td>30344.0</td>\n      <td>Nodular melanoma</td>\n      <td>2019-08-08T17:30:38.814901-05:00</td>\n      <td>no</td>\n      <td>2012.0</td>\n      <td>...</td>\n      <td>male</td>\n      <td>Alive</td>\n      <td>83.0</td>\n      <td>4a4515a2-19f4-56d1-b99e-e6e28d21e508</td>\n      <td>NaN</td>\n      <td>NaN</td>\n      <td>4c4924f8-a46c-5182-9002-a98e00abb375</td>\n      <td>no</td>\n      <td>524a9ace-c0cf-51c9-bd48-052be0193908</td>\n      <td>no</td>\n    </tr>\n  </tbody>\n</table>\n<p>6 rows × 31 columns</p>\n</div>"
     },
     "execution_count": 238,
     "metadata": {},
     "output_type": "execute_result"
    }
   ],
   "source": [
    "clinical[clinical.days_to_last_follow_up < 0]\n"
   ],
   "metadata": {
    "collapsed": false
   }
  },
  {
   "cell_type": "code",
   "execution_count": 239,
   "outputs": [],
   "source": [
    "subset = ~((clinical.days_to_last_follow_up < 0) &\n",
    "           (clinical.vital_status == 'Alive'))\n",
    "clinical = clinical.loc[subset]"
   ],
   "metadata": {
    "collapsed": false
   }
  },
  {
   "cell_type": "code",
   "execution_count": 240,
   "outputs": [
    {
     "data": {
      "text/plain": "(11081, 31)"
     },
     "execution_count": 240,
     "metadata": {},
     "output_type": "execute_result"
    }
   ],
   "source": [
    "clinical.shape"
   ],
   "metadata": {
    "collapsed": false
   }
  },
  {
   "cell_type": "code",
   "execution_count": 241,
   "outputs": [],
   "source": [
    "def get_duration(vital_status, days_to_death, days_to_last_follow_up):\n",
    "    if vital_status == 'Dead':\n",
    "        return days_to_death\n",
    "    elif vital_status == 'Alive':\n",
    "        return days_to_last_follow_up\n",
    "    else:\n",
    "        print('Found NaN in duration!')\n",
    "\n",
    "\n",
    "def get_events(vital_status):\n",
    "    if vital_status in ['1', 'Dead']:\n",
    "        return 1\n",
    "    elif vital_status in ['0', 'Alive']:\n",
    "        return 0\n",
    "    else:\n",
    "        print('Found NaN in vital status!')"
   ],
   "metadata": {
    "collapsed": false
   }
  },
  {
   "cell_type": "code",
   "execution_count": 242,
   "outputs": [],
   "source": [
    "d = {'submitter_id': clinical.index,\n",
    "     'time': clinical.apply(\n",
    "         lambda x: get_duration(x['vital_status'], x['days_to_death'],\n",
    "                                x['days_to_last_follow_up']), axis=1).values,\n",
    "     'event': clinical.apply(\n",
    "         lambda x: get_events(x['vital_status']), axis=1).values}"
   ],
   "metadata": {
    "collapsed": false
   }
  },
  {
   "cell_type": "code",
   "execution_count": 243,
   "outputs": [
    {
     "data": {
      "text/plain": "{'submitter_id': Index(['TCGA-E2-A154', 'TCGA-LL-A5YM', 'TCGA-AO-A0J6', 'TCGA-D8-A1XA',\n        'TCGA-E9-A1R7', 'TCGA-B6-A1KN', 'TCGA-A2-A25B', 'TCGA-A2-A0ER',\n        'TCGA-BH-A18G', 'TCGA-A2-A0CM',\n        ...\n        'TCGA-CD-A4MG', 'TCGA-BR-8679', 'TCGA-BR-8484', 'TCGA-IP-7968',\n        'TCGA-BR-6457', 'TCGA-BR-A4PE', 'TCGA-EQ-A4SO', 'TCGA-CD-8530',\n        'TCGA-FP-A4BF', 'TCGA-CD-5802'],\n       dtype='object', name='submitter_id', length=11081),\n 'time': array([ 591.,  394., 1140., ...,  377.,  168.,  406.]),\n 'event': array([0, 0, 0, ..., 0, 1, 0])}"
     },
     "execution_count": 243,
     "metadata": {},
     "output_type": "execute_result"
    }
   ],
   "source": [
    "d"
   ],
   "metadata": {
    "collapsed": false
   }
  },
  {
   "cell_type": "code",
   "execution_count": 244,
   "outputs": [],
   "source": [
    "survival = pd.DataFrame.from_dict(d).astype(\n",
    "    {'submitter_id': 'object', 'time': 'int64', 'event': 'int64'})"
   ],
   "metadata": {
    "collapsed": false
   }
  },
  {
   "cell_type": "code",
   "execution_count": 245,
   "outputs": [
    {
     "data": {
      "text/plain": "       submitter_id  time  event\n0      TCGA-E2-A154   591      0\n1      TCGA-LL-A5YM   394      0\n2      TCGA-AO-A0J6  1140      0\n3      TCGA-D8-A1XA   839      0\n4      TCGA-E9-A1R7  1467      0\n...             ...   ...    ...\n11076  TCGA-BR-A4PE   621      0\n11077  TCGA-EQ-A4SO   494      0\n11078  TCGA-CD-8530   377      0\n11079  TCGA-FP-A4BF   168      1\n11080  TCGA-CD-5802   406      0\n\n[11081 rows x 3 columns]",
      "text/html": "<div>\n<style scoped>\n    .dataframe tbody tr th:only-of-type {\n        vertical-align: middle;\n    }\n\n    .dataframe tbody tr th {\n        vertical-align: top;\n    }\n\n    .dataframe thead th {\n        text-align: right;\n    }\n</style>\n<table border=\"1\" class=\"dataframe\">\n  <thead>\n    <tr style=\"text-align: right;\">\n      <th></th>\n      <th>submitter_id</th>\n      <th>time</th>\n      <th>event</th>\n    </tr>\n  </thead>\n  <tbody>\n    <tr>\n      <th>0</th>\n      <td>TCGA-E2-A154</td>\n      <td>591</td>\n      <td>0</td>\n    </tr>\n    <tr>\n      <th>1</th>\n      <td>TCGA-LL-A5YM</td>\n      <td>394</td>\n      <td>0</td>\n    </tr>\n    <tr>\n      <th>2</th>\n      <td>TCGA-AO-A0J6</td>\n      <td>1140</td>\n      <td>0</td>\n    </tr>\n    <tr>\n      <th>3</th>\n      <td>TCGA-D8-A1XA</td>\n      <td>839</td>\n      <td>0</td>\n    </tr>\n    <tr>\n      <th>4</th>\n      <td>TCGA-E9-A1R7</td>\n      <td>1467</td>\n      <td>0</td>\n    </tr>\n    <tr>\n      <th>...</th>\n      <td>...</td>\n      <td>...</td>\n      <td>...</td>\n    </tr>\n    <tr>\n      <th>11076</th>\n      <td>TCGA-BR-A4PE</td>\n      <td>621</td>\n      <td>0</td>\n    </tr>\n    <tr>\n      <th>11077</th>\n      <td>TCGA-EQ-A4SO</td>\n      <td>494</td>\n      <td>0</td>\n    </tr>\n    <tr>\n      <th>11078</th>\n      <td>TCGA-CD-8530</td>\n      <td>377</td>\n      <td>0</td>\n    </tr>\n    <tr>\n      <th>11079</th>\n      <td>TCGA-FP-A4BF</td>\n      <td>168</td>\n      <td>1</td>\n    </tr>\n    <tr>\n      <th>11080</th>\n      <td>TCGA-CD-5802</td>\n      <td>406</td>\n      <td>0</td>\n    </tr>\n  </tbody>\n</table>\n<p>11081 rows × 3 columns</p>\n</div>"
     },
     "execution_count": 245,
     "metadata": {},
     "output_type": "execute_result"
    }
   ],
   "source": [
    "survival"
   ],
   "metadata": {
    "collapsed": false
   }
  },
  {
   "cell_type": "code",
   "execution_count": 253,
   "outputs": [],
   "source": [
    "clinical_with_survival = clinical.copy().join(survival.set_index('submitter_id'))"
   ],
   "metadata": {
    "collapsed": false
   }
  },
  {
   "cell_type": "code",
   "execution_count": 254,
   "outputs": [
    {
     "data": {
      "text/plain": "             project_id synchronous_malignancy ajcc_pathologic_stage  \\\nsubmitter_id                                                           \nTCGA-E2-A154  TCGA-BRCA                     No               Stage I   \nTCGA-LL-A5YM  TCGA-BRCA                     No            Stage IIIB   \nTCGA-AO-A0J6  TCGA-BRCA                     No             Stage IIA   \nTCGA-D8-A1XA  TCGA-BRCA                     No              Stage IA   \nTCGA-E9-A1R7  TCGA-BRCA                     No             Stage IIA   \n\n             tissue_or_organ_of_origin  days_to_last_follow_up  \\\nsubmitter_id                                                     \nTCGA-E2-A154               Breast, NOS                   591.0   \nTCGA-LL-A5YM               Breast, NOS                   394.0   \nTCGA-AO-A0J6               Breast, NOS                  1140.0   \nTCGA-D8-A1XA               Breast, NOS                   839.0   \nTCGA-E9-A1R7               Breast, NOS                  1467.0   \n\n              age_at_diagnosis  \\\nsubmitter_id                     \nTCGA-E2-A154           24999.0   \nTCGA-LL-A5YM           32478.0   \nTCGA-AO-A0J6           22462.0   \nTCGA-D8-A1XA           23387.0   \nTCGA-E9-A1R7           23397.0   \n\n                                              primary_diagnosis  \\\nsubmitter_id                                                      \nTCGA-E2-A154                   Infiltrating duct carcinoma, NOS   \nTCGA-LL-A5YM  Paget disease and infiltrating duct carcinoma ...   \nTCGA-AO-A0J6                   Infiltrating duct carcinoma, NOS   \nTCGA-D8-A1XA                   Infiltrating duct carcinoma, NOS   \nTCGA-E9-A1R7                   Infiltrating duct carcinoma, NOS   \n\n                              updated_datetime prior_malignancy  \\\nsubmitter_id                                                      \nTCGA-E2-A154  2019-08-08T16:28:03.729574-05:00               no   \nTCGA-LL-A5YM  2019-08-08T16:29:50.543582-05:00               no   \nTCGA-AO-A0J6  2019-08-08T16:23:34.429413-05:00               no   \nTCGA-D8-A1XA  2019-08-08T16:27:33.488489-05:00               no   \nTCGA-E9-A1R7  2019-08-08T16:28:59.107330-05:00               no   \n\n              year_of_diagnosis  ... age_at_index  \\\nsubmitter_id                     ...                \nTCGA-E2-A154             2009.0  ...         68.0   \nTCGA-LL-A5YM             2012.0  ...         88.0   \nTCGA-AO-A0J6             2008.0  ...         61.0   \nTCGA-D8-A1XA             2010.0  ...         64.0   \nTCGA-E9-A1R7             2011.0  ...         64.0   \n\n                                    demographic_id year_of_death  \\\nsubmitter_id                                                       \nTCGA-E2-A154  b3d150ef-2e1c-5d7f-a39d-2290dc52c2c1           NaN   \nTCGA-LL-A5YM  c042e220-d48e-52c8-9614-ff126309cda1           NaN   \nTCGA-AO-A0J6  27dbcdc6-461d-5753-b740-d780da1fb60e           NaN   \nTCGA-D8-A1XA  86ac2a19-b453-5699-b300-797be289f5aa           NaN   \nTCGA-E9-A1R7  abb080bd-f58c-565d-a0b9-1da5273e1db3           NaN   \n\n             days_to_death treatments_pharmaceutical_treatment_id  \\\nsubmitter_id                                                        \nTCGA-E2-A154           NaN   834f8f26-9501-5224-913d-6211f0cbf8e5   \nTCGA-LL-A5YM           NaN   3256046e-d8f6-5cef-9117-5330501220ea   \nTCGA-AO-A0J6           NaN   3a288b0d-d06a-5bdf-93f8-3d057f0665b3   \nTCGA-D8-A1XA           NaN   4f6a3523-1b4b-5908-9805-45a396c5cd53   \nTCGA-E9-A1R7           NaN   6b5f3013-98ca-53b5-8c3a-4042ad6deda4   \n\n             treatments_pharmaceutical_treatment_or_therapy  \\\nsubmitter_id                                                  \nTCGA-E2-A154                                            yes   \nTCGA-LL-A5YM                                            yes   \nTCGA-AO-A0J6                                            yes   \nTCGA-D8-A1XA                                             no   \nTCGA-E9-A1R7                                            yes   \n\n                 treatments_radiation_treatment_id  \\\nsubmitter_id                                         \nTCGA-E2-A154  313377b5-4ced-50c1-bd47-795f1c844c14   \nTCGA-LL-A5YM  bbe91811-cb53-5919-9b29-d265f7ece634   \nTCGA-AO-A0J6  b5860691-ecd6-5168-af34-3b03a6396282   \nTCGA-D8-A1XA  222224e3-2aa9-5f19-a861-ca2dad041b76   \nTCGA-E9-A1R7  7a621a7c-3bb8-59f8-8cac-5ebb0eeb76b3   \n\n             treatments_radiation_treatment_or_therapy  time event  \nsubmitter_id                                                        \nTCGA-E2-A154                                       yes   591     0  \nTCGA-LL-A5YM                                       yes   394     0  \nTCGA-AO-A0J6                                       yes  1140     0  \nTCGA-D8-A1XA                                       yes   839     0  \nTCGA-E9-A1R7                                       yes  1467     0  \n\n[5 rows x 33 columns]",
      "text/html": "<div>\n<style scoped>\n    .dataframe tbody tr th:only-of-type {\n        vertical-align: middle;\n    }\n\n    .dataframe tbody tr th {\n        vertical-align: top;\n    }\n\n    .dataframe thead th {\n        text-align: right;\n    }\n</style>\n<table border=\"1\" class=\"dataframe\">\n  <thead>\n    <tr style=\"text-align: right;\">\n      <th></th>\n      <th>project_id</th>\n      <th>synchronous_malignancy</th>\n      <th>ajcc_pathologic_stage</th>\n      <th>tissue_or_organ_of_origin</th>\n      <th>days_to_last_follow_up</th>\n      <th>age_at_diagnosis</th>\n      <th>primary_diagnosis</th>\n      <th>updated_datetime</th>\n      <th>prior_malignancy</th>\n      <th>year_of_diagnosis</th>\n      <th>...</th>\n      <th>age_at_index</th>\n      <th>demographic_id</th>\n      <th>year_of_death</th>\n      <th>days_to_death</th>\n      <th>treatments_pharmaceutical_treatment_id</th>\n      <th>treatments_pharmaceutical_treatment_or_therapy</th>\n      <th>treatments_radiation_treatment_id</th>\n      <th>treatments_radiation_treatment_or_therapy</th>\n      <th>time</th>\n      <th>event</th>\n    </tr>\n    <tr>\n      <th>submitter_id</th>\n      <th></th>\n      <th></th>\n      <th></th>\n      <th></th>\n      <th></th>\n      <th></th>\n      <th></th>\n      <th></th>\n      <th></th>\n      <th></th>\n      <th></th>\n      <th></th>\n      <th></th>\n      <th></th>\n      <th></th>\n      <th></th>\n      <th></th>\n      <th></th>\n      <th></th>\n      <th></th>\n      <th></th>\n    </tr>\n  </thead>\n  <tbody>\n    <tr>\n      <th>TCGA-E2-A154</th>\n      <td>TCGA-BRCA</td>\n      <td>No</td>\n      <td>Stage I</td>\n      <td>Breast, NOS</td>\n      <td>591.0</td>\n      <td>24999.0</td>\n      <td>Infiltrating duct carcinoma, NOS</td>\n      <td>2019-08-08T16:28:03.729574-05:00</td>\n      <td>no</td>\n      <td>2009.0</td>\n      <td>...</td>\n      <td>68.0</td>\n      <td>b3d150ef-2e1c-5d7f-a39d-2290dc52c2c1</td>\n      <td>NaN</td>\n      <td>NaN</td>\n      <td>834f8f26-9501-5224-913d-6211f0cbf8e5</td>\n      <td>yes</td>\n      <td>313377b5-4ced-50c1-bd47-795f1c844c14</td>\n      <td>yes</td>\n      <td>591</td>\n      <td>0</td>\n    </tr>\n    <tr>\n      <th>TCGA-LL-A5YM</th>\n      <td>TCGA-BRCA</td>\n      <td>No</td>\n      <td>Stage IIIB</td>\n      <td>Breast, NOS</td>\n      <td>394.0</td>\n      <td>32478.0</td>\n      <td>Paget disease and infiltrating duct carcinoma ...</td>\n      <td>2019-08-08T16:29:50.543582-05:00</td>\n      <td>no</td>\n      <td>2012.0</td>\n      <td>...</td>\n      <td>88.0</td>\n      <td>c042e220-d48e-52c8-9614-ff126309cda1</td>\n      <td>NaN</td>\n      <td>NaN</td>\n      <td>3256046e-d8f6-5cef-9117-5330501220ea</td>\n      <td>yes</td>\n      <td>bbe91811-cb53-5919-9b29-d265f7ece634</td>\n      <td>yes</td>\n      <td>394</td>\n      <td>0</td>\n    </tr>\n    <tr>\n      <th>TCGA-AO-A0J6</th>\n      <td>TCGA-BRCA</td>\n      <td>No</td>\n      <td>Stage IIA</td>\n      <td>Breast, NOS</td>\n      <td>1140.0</td>\n      <td>22462.0</td>\n      <td>Infiltrating duct carcinoma, NOS</td>\n      <td>2019-08-08T16:23:34.429413-05:00</td>\n      <td>no</td>\n      <td>2008.0</td>\n      <td>...</td>\n      <td>61.0</td>\n      <td>27dbcdc6-461d-5753-b740-d780da1fb60e</td>\n      <td>NaN</td>\n      <td>NaN</td>\n      <td>3a288b0d-d06a-5bdf-93f8-3d057f0665b3</td>\n      <td>yes</td>\n      <td>b5860691-ecd6-5168-af34-3b03a6396282</td>\n      <td>yes</td>\n      <td>1140</td>\n      <td>0</td>\n    </tr>\n    <tr>\n      <th>TCGA-D8-A1XA</th>\n      <td>TCGA-BRCA</td>\n      <td>No</td>\n      <td>Stage IA</td>\n      <td>Breast, NOS</td>\n      <td>839.0</td>\n      <td>23387.0</td>\n      <td>Infiltrating duct carcinoma, NOS</td>\n      <td>2019-08-08T16:27:33.488489-05:00</td>\n      <td>no</td>\n      <td>2010.0</td>\n      <td>...</td>\n      <td>64.0</td>\n      <td>86ac2a19-b453-5699-b300-797be289f5aa</td>\n      <td>NaN</td>\n      <td>NaN</td>\n      <td>4f6a3523-1b4b-5908-9805-45a396c5cd53</td>\n      <td>no</td>\n      <td>222224e3-2aa9-5f19-a861-ca2dad041b76</td>\n      <td>yes</td>\n      <td>839</td>\n      <td>0</td>\n    </tr>\n    <tr>\n      <th>TCGA-E9-A1R7</th>\n      <td>TCGA-BRCA</td>\n      <td>No</td>\n      <td>Stage IIA</td>\n      <td>Breast, NOS</td>\n      <td>1467.0</td>\n      <td>23397.0</td>\n      <td>Infiltrating duct carcinoma, NOS</td>\n      <td>2019-08-08T16:28:59.107330-05:00</td>\n      <td>no</td>\n      <td>2011.0</td>\n      <td>...</td>\n      <td>64.0</td>\n      <td>abb080bd-f58c-565d-a0b9-1da5273e1db3</td>\n      <td>NaN</td>\n      <td>NaN</td>\n      <td>6b5f3013-98ca-53b5-8c3a-4042ad6deda4</td>\n      <td>yes</td>\n      <td>7a621a7c-3bb8-59f8-8cac-5ebb0eeb76b3</td>\n      <td>yes</td>\n      <td>1467</td>\n      <td>0</td>\n    </tr>\n  </tbody>\n</table>\n<p>5 rows × 33 columns</p>\n</div>"
     },
     "execution_count": 254,
     "metadata": {},
     "output_type": "execute_result"
    }
   ],
   "source": [
    "clinical_with_survival.head()"
   ],
   "metadata": {
    "collapsed": false
   }
  },
  {
   "cell_type": "code",
   "execution_count": 255,
   "outputs": [],
   "source": [
    "from sklearn.model_selection import train_test_split\n",
    "\n",
    "cases = list(clinical_with_survival.index.unique())\n",
    "X = clinical_with_survival\n",
    "y = clinical_with_survival[['time']]\n",
    "\n",
    "X_train, X_val, _, _ = train_test_split(\n",
    "    X, y, test_size=0.1, random_state=42, stratify=clinical_with_survival[['project_id']])\n",
    "\n",
    "X = X_train\n",
    "y = X_train[['time']]\n",
    "\n",
    "X_train, X_test, _, _ = train_test_split(\n",
    "    X, y, test_size=0.1095, random_state=42, stratify=X_train[['project_id']])"
   ],
   "metadata": {
    "collapsed": false
   }
  },
  {
   "cell_type": "code",
   "execution_count": 250,
   "outputs": [
    {
     "data": {
      "text/plain": "                project synchronous_malignancy ajcc_pathologic_stage  \\\nsubmitter_id                                                           \nTCGA-E2-A154  TCGA-BRCA                     No               Stage I   \nTCGA-LL-A5YM  TCGA-BRCA                     No            Stage IIIB   \nTCGA-AO-A0J6  TCGA-BRCA                     No             Stage IIA   \nTCGA-D8-A1XA  TCGA-BRCA                     No              Stage IA   \nTCGA-E9-A1R7  TCGA-BRCA                     No             Stage IIA   \n...                 ...                    ...                   ...   \nTCGA-BR-A4PE  TCGA-STAD                     No              Stage IB   \nTCGA-EQ-A4SO  TCGA-STAD                     No            Stage IIIB   \nTCGA-CD-8530  TCGA-STAD                     No              Stage II   \nTCGA-FP-A4BF  TCGA-STAD                     No            Stage IIIA   \nTCGA-CD-5802  TCGA-STAD                     No              Stage II   \n\n             tissue_or_organ_of_origin  days_to_last_follow_up  \\\nsubmitter_id                                                     \nTCGA-E2-A154               Breast, NOS                   591.0   \nTCGA-LL-A5YM               Breast, NOS                   394.0   \nTCGA-AO-A0J6               Breast, NOS                  1140.0   \nTCGA-D8-A1XA               Breast, NOS                   839.0   \nTCGA-E9-A1R7               Breast, NOS                  1467.0   \n...                                ...                     ...   \nTCGA-BR-A4PE               Cardia, NOS                   621.0   \nTCGA-EQ-A4SO            Gastric antrum                   494.0   \nTCGA-CD-8530         Fundus of stomach                   377.0   \nTCGA-FP-A4BF               Cardia, NOS                     NaN   \nTCGA-CD-5802               Cardia, NOS                   406.0   \n\n              age_at_diagnosis  \\\nsubmitter_id                     \nTCGA-E2-A154           24999.0   \nTCGA-LL-A5YM           32478.0   \nTCGA-AO-A0J6           22462.0   \nTCGA-D8-A1XA           23387.0   \nTCGA-E9-A1R7           23397.0   \n...                        ...   \nTCGA-BR-A4PE           24986.0   \nTCGA-EQ-A4SO           25897.0   \nTCGA-CD-8530           18992.0   \nTCGA-FP-A4BF           25030.0   \nTCGA-CD-5802           21331.0   \n\n                                              primary_diagnosis  \\\nsubmitter_id                                                      \nTCGA-E2-A154                   Infiltrating duct carcinoma, NOS   \nTCGA-LL-A5YM  Paget disease and infiltrating duct carcinoma ...   \nTCGA-AO-A0J6                   Infiltrating duct carcinoma, NOS   \nTCGA-D8-A1XA                   Infiltrating duct carcinoma, NOS   \nTCGA-E9-A1R7                   Infiltrating duct carcinoma, NOS   \n...                                                         ...   \nTCGA-BR-A4PE                                Adenocarcinoma, NOS   \nTCGA-EQ-A4SO                    Adenocarcinoma, intestinal type   \nTCGA-CD-8530                            Carcinoma, diffuse type   \nTCGA-FP-A4BF                         Signet ring cell carcinoma   \nTCGA-CD-5802                                Adenocarcinoma, NOS   \n\n                              updated_datetime prior_malignancy  \\\nsubmitter_id                                                      \nTCGA-E2-A154  2019-08-08T16:28:03.729574-05:00               no   \nTCGA-LL-A5YM  2019-08-08T16:29:50.543582-05:00               no   \nTCGA-AO-A0J6  2019-08-08T16:23:34.429413-05:00               no   \nTCGA-D8-A1XA  2019-08-08T16:27:33.488489-05:00               no   \nTCGA-E9-A1R7  2019-08-08T16:28:59.107330-05:00               no   \n...                                        ...              ...   \nTCGA-BR-A4PE  2019-08-08T17:33:56.338629-05:00               no   \nTCGA-EQ-A4SO  2019-08-08T17:35:03.846696-05:00              yes   \nTCGA-CD-8530  2019-08-08T17:34:20.001308-05:00               no   \nTCGA-FP-A4BF  2019-08-08T17:35:03.846696-05:00               no   \nTCGA-CD-5802  2019-08-08T17:34:20.001308-05:00               no   \n\n              year_of_diagnosis  ... age_at_index  \\\nsubmitter_id                     ...                \nTCGA-E2-A154             2009.0  ...         68.0   \nTCGA-LL-A5YM             2012.0  ...         88.0   \nTCGA-AO-A0J6             2008.0  ...         61.0   \nTCGA-D8-A1XA             2010.0  ...         64.0   \nTCGA-E9-A1R7             2011.0  ...         64.0   \n...                         ...  ...          ...   \nTCGA-BR-A4PE             2012.0  ...         68.0   \nTCGA-EQ-A4SO             2012.0  ...         70.0   \nTCGA-CD-8530             2011.0  ...         51.0   \nTCGA-FP-A4BF             2011.0  ...         68.0   \nTCGA-CD-5802             2010.0  ...         58.0   \n\n                                    demographic_id year_of_death  \\\nsubmitter_id                                                       \nTCGA-E2-A154  b3d150ef-2e1c-5d7f-a39d-2290dc52c2c1           NaN   \nTCGA-LL-A5YM  c042e220-d48e-52c8-9614-ff126309cda1           NaN   \nTCGA-AO-A0J6  27dbcdc6-461d-5753-b740-d780da1fb60e           NaN   \nTCGA-D8-A1XA  86ac2a19-b453-5699-b300-797be289f5aa           NaN   \nTCGA-E9-A1R7  abb080bd-f58c-565d-a0b9-1da5273e1db3           NaN   \n...                                            ...           ...   \nTCGA-BR-A4PE  28b70ee4-e7ad-5129-9a31-09c1f85c7919           NaN   \nTCGA-EQ-A4SO  02c391e1-8d5e-5a1a-a4de-8e6a83eff64e           NaN   \nTCGA-CD-8530  baab7b18-585a-5ce2-8e7a-895c087e307c           NaN   \nTCGA-FP-A4BF  ff291024-251d-52b4-a628-ab613fcbee4a           NaN   \nTCGA-CD-5802  6c1ab205-34c0-544e-9537-84d27726da26           NaN   \n\n             days_to_death treatments_pharmaceutical_treatment_id  \\\nsubmitter_id                                                        \nTCGA-E2-A154           NaN   834f8f26-9501-5224-913d-6211f0cbf8e5   \nTCGA-LL-A5YM           NaN   3256046e-d8f6-5cef-9117-5330501220ea   \nTCGA-AO-A0J6           NaN   3a288b0d-d06a-5bdf-93f8-3d057f0665b3   \nTCGA-D8-A1XA           NaN   4f6a3523-1b4b-5908-9805-45a396c5cd53   \nTCGA-E9-A1R7           NaN   6b5f3013-98ca-53b5-8c3a-4042ad6deda4   \n...                    ...                                    ...   \nTCGA-BR-A4PE           NaN   45c9bdaf-c4cb-57f9-99f8-fb63ddd2f020   \nTCGA-EQ-A4SO           NaN   db6927b2-5e06-517c-86c8-eb35fde15558   \nTCGA-CD-8530           NaN   d9c25ddb-7019-5aa4-a351-cb028e9465bb   \nTCGA-FP-A4BF         168.0   d8113e8d-176c-50d3-b556-c9d44422af97   \nTCGA-CD-5802           NaN   2e59a454-7de4-5e0a-ad7c-9e55da44fd18   \n\n             treatments_pharmaceutical_treatment_or_therapy  \\\nsubmitter_id                                                  \nTCGA-E2-A154                                            yes   \nTCGA-LL-A5YM                                            yes   \nTCGA-AO-A0J6                                            yes   \nTCGA-D8-A1XA                                             no   \nTCGA-E9-A1R7                                            yes   \n...                                                     ...   \nTCGA-BR-A4PE                                             no   \nTCGA-EQ-A4SO                                            yes   \nTCGA-CD-8530                                            yes   \nTCGA-FP-A4BF                                             no   \nTCGA-CD-5802                                            yes   \n\n                 treatments_radiation_treatment_id  \\\nsubmitter_id                                         \nTCGA-E2-A154  313377b5-4ced-50c1-bd47-795f1c844c14   \nTCGA-LL-A5YM  bbe91811-cb53-5919-9b29-d265f7ece634   \nTCGA-AO-A0J6  b5860691-ecd6-5168-af34-3b03a6396282   \nTCGA-D8-A1XA  222224e3-2aa9-5f19-a861-ca2dad041b76   \nTCGA-E9-A1R7  7a621a7c-3bb8-59f8-8cac-5ebb0eeb76b3   \n...                                            ...   \nTCGA-BR-A4PE  39647d9c-240a-54b8-a640-ca0dcc335495   \nTCGA-EQ-A4SO  b642c0c5-35ee-5d4c-8787-ae7d967f5f0e   \nTCGA-CD-8530  c57722f4-ecc0-5691-8d70-024c4a243174   \nTCGA-FP-A4BF  9cee942f-6239-529f-8924-82fd0243e8ca   \nTCGA-CD-5802  ebaef61a-a569-55f6-a4d1-34e47e4b548e   \n\n             treatments_radiation_treatment_or_therapy  time event  \nsubmitter_id                                                        \nTCGA-E2-A154                                       yes   591     0  \nTCGA-LL-A5YM                                       yes   394     0  \nTCGA-AO-A0J6                                       yes  1140     0  \nTCGA-D8-A1XA                                       yes   839     0  \nTCGA-E9-A1R7                                       yes  1467     0  \n...                                                ...   ...   ...  \nTCGA-BR-A4PE                                        no   621     0  \nTCGA-EQ-A4SO                                       yes   494     0  \nTCGA-CD-8530                                       yes   377     0  \nTCGA-FP-A4BF                                        no   168     1  \nTCGA-CD-5802                                       yes   406     0  \n\n[11081 rows x 33 columns]",
      "text/html": "<div>\n<style scoped>\n    .dataframe tbody tr th:only-of-type {\n        vertical-align: middle;\n    }\n\n    .dataframe tbody tr th {\n        vertical-align: top;\n    }\n\n    .dataframe thead th {\n        text-align: right;\n    }\n</style>\n<table border=\"1\" class=\"dataframe\">\n  <thead>\n    <tr style=\"text-align: right;\">\n      <th></th>\n      <th>project</th>\n      <th>synchronous_malignancy</th>\n      <th>ajcc_pathologic_stage</th>\n      <th>tissue_or_organ_of_origin</th>\n      <th>days_to_last_follow_up</th>\n      <th>age_at_diagnosis</th>\n      <th>primary_diagnosis</th>\n      <th>updated_datetime</th>\n      <th>prior_malignancy</th>\n      <th>year_of_diagnosis</th>\n      <th>...</th>\n      <th>age_at_index</th>\n      <th>demographic_id</th>\n      <th>year_of_death</th>\n      <th>days_to_death</th>\n      <th>treatments_pharmaceutical_treatment_id</th>\n      <th>treatments_pharmaceutical_treatment_or_therapy</th>\n      <th>treatments_radiation_treatment_id</th>\n      <th>treatments_radiation_treatment_or_therapy</th>\n      <th>time</th>\n      <th>event</th>\n    </tr>\n    <tr>\n      <th>submitter_id</th>\n      <th></th>\n      <th></th>\n      <th></th>\n      <th></th>\n      <th></th>\n      <th></th>\n      <th></th>\n      <th></th>\n      <th></th>\n      <th></th>\n      <th></th>\n      <th></th>\n      <th></th>\n      <th></th>\n      <th></th>\n      <th></th>\n      <th></th>\n      <th></th>\n      <th></th>\n      <th></th>\n      <th></th>\n    </tr>\n  </thead>\n  <tbody>\n    <tr>\n      <th>TCGA-E2-A154</th>\n      <td>TCGA-BRCA</td>\n      <td>No</td>\n      <td>Stage I</td>\n      <td>Breast, NOS</td>\n      <td>591.0</td>\n      <td>24999.0</td>\n      <td>Infiltrating duct carcinoma, NOS</td>\n      <td>2019-08-08T16:28:03.729574-05:00</td>\n      <td>no</td>\n      <td>2009.0</td>\n      <td>...</td>\n      <td>68.0</td>\n      <td>b3d150ef-2e1c-5d7f-a39d-2290dc52c2c1</td>\n      <td>NaN</td>\n      <td>NaN</td>\n      <td>834f8f26-9501-5224-913d-6211f0cbf8e5</td>\n      <td>yes</td>\n      <td>313377b5-4ced-50c1-bd47-795f1c844c14</td>\n      <td>yes</td>\n      <td>591</td>\n      <td>0</td>\n    </tr>\n    <tr>\n      <th>TCGA-LL-A5YM</th>\n      <td>TCGA-BRCA</td>\n      <td>No</td>\n      <td>Stage IIIB</td>\n      <td>Breast, NOS</td>\n      <td>394.0</td>\n      <td>32478.0</td>\n      <td>Paget disease and infiltrating duct carcinoma ...</td>\n      <td>2019-08-08T16:29:50.543582-05:00</td>\n      <td>no</td>\n      <td>2012.0</td>\n      <td>...</td>\n      <td>88.0</td>\n      <td>c042e220-d48e-52c8-9614-ff126309cda1</td>\n      <td>NaN</td>\n      <td>NaN</td>\n      <td>3256046e-d8f6-5cef-9117-5330501220ea</td>\n      <td>yes</td>\n      <td>bbe91811-cb53-5919-9b29-d265f7ece634</td>\n      <td>yes</td>\n      <td>394</td>\n      <td>0</td>\n    </tr>\n    <tr>\n      <th>TCGA-AO-A0J6</th>\n      <td>TCGA-BRCA</td>\n      <td>No</td>\n      <td>Stage IIA</td>\n      <td>Breast, NOS</td>\n      <td>1140.0</td>\n      <td>22462.0</td>\n      <td>Infiltrating duct carcinoma, NOS</td>\n      <td>2019-08-08T16:23:34.429413-05:00</td>\n      <td>no</td>\n      <td>2008.0</td>\n      <td>...</td>\n      <td>61.0</td>\n      <td>27dbcdc6-461d-5753-b740-d780da1fb60e</td>\n      <td>NaN</td>\n      <td>NaN</td>\n      <td>3a288b0d-d06a-5bdf-93f8-3d057f0665b3</td>\n      <td>yes</td>\n      <td>b5860691-ecd6-5168-af34-3b03a6396282</td>\n      <td>yes</td>\n      <td>1140</td>\n      <td>0</td>\n    </tr>\n    <tr>\n      <th>TCGA-D8-A1XA</th>\n      <td>TCGA-BRCA</td>\n      <td>No</td>\n      <td>Stage IA</td>\n      <td>Breast, NOS</td>\n      <td>839.0</td>\n      <td>23387.0</td>\n      <td>Infiltrating duct carcinoma, NOS</td>\n      <td>2019-08-08T16:27:33.488489-05:00</td>\n      <td>no</td>\n      <td>2010.0</td>\n      <td>...</td>\n      <td>64.0</td>\n      <td>86ac2a19-b453-5699-b300-797be289f5aa</td>\n      <td>NaN</td>\n      <td>NaN</td>\n      <td>4f6a3523-1b4b-5908-9805-45a396c5cd53</td>\n      <td>no</td>\n      <td>222224e3-2aa9-5f19-a861-ca2dad041b76</td>\n      <td>yes</td>\n      <td>839</td>\n      <td>0</td>\n    </tr>\n    <tr>\n      <th>TCGA-E9-A1R7</th>\n      <td>TCGA-BRCA</td>\n      <td>No</td>\n      <td>Stage IIA</td>\n      <td>Breast, NOS</td>\n      <td>1467.0</td>\n      <td>23397.0</td>\n      <td>Infiltrating duct carcinoma, NOS</td>\n      <td>2019-08-08T16:28:59.107330-05:00</td>\n      <td>no</td>\n      <td>2011.0</td>\n      <td>...</td>\n      <td>64.0</td>\n      <td>abb080bd-f58c-565d-a0b9-1da5273e1db3</td>\n      <td>NaN</td>\n      <td>NaN</td>\n      <td>6b5f3013-98ca-53b5-8c3a-4042ad6deda4</td>\n      <td>yes</td>\n      <td>7a621a7c-3bb8-59f8-8cac-5ebb0eeb76b3</td>\n      <td>yes</td>\n      <td>1467</td>\n      <td>0</td>\n    </tr>\n    <tr>\n      <th>...</th>\n      <td>...</td>\n      <td>...</td>\n      <td>...</td>\n      <td>...</td>\n      <td>...</td>\n      <td>...</td>\n      <td>...</td>\n      <td>...</td>\n      <td>...</td>\n      <td>...</td>\n      <td>...</td>\n      <td>...</td>\n      <td>...</td>\n      <td>...</td>\n      <td>...</td>\n      <td>...</td>\n      <td>...</td>\n      <td>...</td>\n      <td>...</td>\n      <td>...</td>\n      <td>...</td>\n    </tr>\n    <tr>\n      <th>TCGA-BR-A4PE</th>\n      <td>TCGA-STAD</td>\n      <td>No</td>\n      <td>Stage IB</td>\n      <td>Cardia, NOS</td>\n      <td>621.0</td>\n      <td>24986.0</td>\n      <td>Adenocarcinoma, NOS</td>\n      <td>2019-08-08T17:33:56.338629-05:00</td>\n      <td>no</td>\n      <td>2012.0</td>\n      <td>...</td>\n      <td>68.0</td>\n      <td>28b70ee4-e7ad-5129-9a31-09c1f85c7919</td>\n      <td>NaN</td>\n      <td>NaN</td>\n      <td>45c9bdaf-c4cb-57f9-99f8-fb63ddd2f020</td>\n      <td>no</td>\n      <td>39647d9c-240a-54b8-a640-ca0dcc335495</td>\n      <td>no</td>\n      <td>621</td>\n      <td>0</td>\n    </tr>\n    <tr>\n      <th>TCGA-EQ-A4SO</th>\n      <td>TCGA-STAD</td>\n      <td>No</td>\n      <td>Stage IIIB</td>\n      <td>Gastric antrum</td>\n      <td>494.0</td>\n      <td>25897.0</td>\n      <td>Adenocarcinoma, intestinal type</td>\n      <td>2019-08-08T17:35:03.846696-05:00</td>\n      <td>yes</td>\n      <td>2012.0</td>\n      <td>...</td>\n      <td>70.0</td>\n      <td>02c391e1-8d5e-5a1a-a4de-8e6a83eff64e</td>\n      <td>NaN</td>\n      <td>NaN</td>\n      <td>db6927b2-5e06-517c-86c8-eb35fde15558</td>\n      <td>yes</td>\n      <td>b642c0c5-35ee-5d4c-8787-ae7d967f5f0e</td>\n      <td>yes</td>\n      <td>494</td>\n      <td>0</td>\n    </tr>\n    <tr>\n      <th>TCGA-CD-8530</th>\n      <td>TCGA-STAD</td>\n      <td>No</td>\n      <td>Stage II</td>\n      <td>Fundus of stomach</td>\n      <td>377.0</td>\n      <td>18992.0</td>\n      <td>Carcinoma, diffuse type</td>\n      <td>2019-08-08T17:34:20.001308-05:00</td>\n      <td>no</td>\n      <td>2011.0</td>\n      <td>...</td>\n      <td>51.0</td>\n      <td>baab7b18-585a-5ce2-8e7a-895c087e307c</td>\n      <td>NaN</td>\n      <td>NaN</td>\n      <td>d9c25ddb-7019-5aa4-a351-cb028e9465bb</td>\n      <td>yes</td>\n      <td>c57722f4-ecc0-5691-8d70-024c4a243174</td>\n      <td>yes</td>\n      <td>377</td>\n      <td>0</td>\n    </tr>\n    <tr>\n      <th>TCGA-FP-A4BF</th>\n      <td>TCGA-STAD</td>\n      <td>No</td>\n      <td>Stage IIIA</td>\n      <td>Cardia, NOS</td>\n      <td>NaN</td>\n      <td>25030.0</td>\n      <td>Signet ring cell carcinoma</td>\n      <td>2019-08-08T17:35:03.846696-05:00</td>\n      <td>no</td>\n      <td>2011.0</td>\n      <td>...</td>\n      <td>68.0</td>\n      <td>ff291024-251d-52b4-a628-ab613fcbee4a</td>\n      <td>NaN</td>\n      <td>168.0</td>\n      <td>d8113e8d-176c-50d3-b556-c9d44422af97</td>\n      <td>no</td>\n      <td>9cee942f-6239-529f-8924-82fd0243e8ca</td>\n      <td>no</td>\n      <td>168</td>\n      <td>1</td>\n    </tr>\n    <tr>\n      <th>TCGA-CD-5802</th>\n      <td>TCGA-STAD</td>\n      <td>No</td>\n      <td>Stage II</td>\n      <td>Cardia, NOS</td>\n      <td>406.0</td>\n      <td>21331.0</td>\n      <td>Adenocarcinoma, NOS</td>\n      <td>2019-08-08T17:34:20.001308-05:00</td>\n      <td>no</td>\n      <td>2010.0</td>\n      <td>...</td>\n      <td>58.0</td>\n      <td>6c1ab205-34c0-544e-9537-84d27726da26</td>\n      <td>NaN</td>\n      <td>NaN</td>\n      <td>2e59a454-7de4-5e0a-ad7c-9e55da44fd18</td>\n      <td>yes</td>\n      <td>ebaef61a-a569-55f6-a4d1-34e47e4b548e</td>\n      <td>yes</td>\n      <td>406</td>\n      <td>0</td>\n    </tr>\n  </tbody>\n</table>\n<p>11081 rows × 33 columns</p>\n</div>"
     },
     "execution_count": 250,
     "metadata": {},
     "output_type": "execute_result"
    }
   ],
   "source": [
    "clinical_with_survival"
   ],
   "metadata": {
    "collapsed": false
   }
  },
  {
   "cell_type": "code",
   "execution_count": 256,
   "outputs": [],
   "source": [
    "def get_split_group(id_code):\n",
    "    if id_code in list(X_train.index):\n",
    "        return 'train'\n",
    "    elif id_code in X_val.index:\n",
    "        return 'val'\n",
    "    elif id_code in X_test.index:\n",
    "        return 'test'\n",
    "    else:\n",
    "        print('Found NaN!')"
   ],
   "metadata": {
    "collapsed": false
   }
  },
  {
   "cell_type": "code",
   "execution_count": 257,
   "outputs": [],
   "source": [
    "clinical_with_survival['group'] = 'Missing'\n",
    "clinical_with_survival['group'] = [get_split_group(x) for x in list(clinical_with_survival.index)]"
   ],
   "metadata": {
    "collapsed": false
   }
  },
  {
   "cell_type": "code",
   "execution_count": 258,
   "outputs": [
    {
     "data": {
      "text/plain": "             project_id synchronous_malignancy ajcc_pathologic_stage  \\\nsubmitter_id                                                           \nTCGA-E2-A154  TCGA-BRCA                     No               Stage I   \nTCGA-LL-A5YM  TCGA-BRCA                     No            Stage IIIB   \nTCGA-AO-A0J6  TCGA-BRCA                     No             Stage IIA   \nTCGA-D8-A1XA  TCGA-BRCA                     No              Stage IA   \nTCGA-E9-A1R7  TCGA-BRCA                     No             Stage IIA   \n\n             tissue_or_organ_of_origin  days_to_last_follow_up  \\\nsubmitter_id                                                     \nTCGA-E2-A154               Breast, NOS                   591.0   \nTCGA-LL-A5YM               Breast, NOS                   394.0   \nTCGA-AO-A0J6               Breast, NOS                  1140.0   \nTCGA-D8-A1XA               Breast, NOS                   839.0   \nTCGA-E9-A1R7               Breast, NOS                  1467.0   \n\n              age_at_diagnosis  \\\nsubmitter_id                     \nTCGA-E2-A154           24999.0   \nTCGA-LL-A5YM           32478.0   \nTCGA-AO-A0J6           22462.0   \nTCGA-D8-A1XA           23387.0   \nTCGA-E9-A1R7           23397.0   \n\n                                              primary_diagnosis  \\\nsubmitter_id                                                      \nTCGA-E2-A154                   Infiltrating duct carcinoma, NOS   \nTCGA-LL-A5YM  Paget disease and infiltrating duct carcinoma ...   \nTCGA-AO-A0J6                   Infiltrating duct carcinoma, NOS   \nTCGA-D8-A1XA                   Infiltrating duct carcinoma, NOS   \nTCGA-E9-A1R7                   Infiltrating duct carcinoma, NOS   \n\n                              updated_datetime prior_malignancy  \\\nsubmitter_id                                                      \nTCGA-E2-A154  2019-08-08T16:28:03.729574-05:00               no   \nTCGA-LL-A5YM  2019-08-08T16:29:50.543582-05:00               no   \nTCGA-AO-A0J6  2019-08-08T16:23:34.429413-05:00               no   \nTCGA-D8-A1XA  2019-08-08T16:27:33.488489-05:00               no   \nTCGA-E9-A1R7  2019-08-08T16:28:59.107330-05:00               no   \n\n              year_of_diagnosis  ...                        demographic_id  \\\nsubmitter_id                     ...                                         \nTCGA-E2-A154             2009.0  ...  b3d150ef-2e1c-5d7f-a39d-2290dc52c2c1   \nTCGA-LL-A5YM             2012.0  ...  c042e220-d48e-52c8-9614-ff126309cda1   \nTCGA-AO-A0J6             2008.0  ...  27dbcdc6-461d-5753-b740-d780da1fb60e   \nTCGA-D8-A1XA             2010.0  ...  86ac2a19-b453-5699-b300-797be289f5aa   \nTCGA-E9-A1R7             2011.0  ...  abb080bd-f58c-565d-a0b9-1da5273e1db3   \n\n             year_of_death days_to_death  \\\nsubmitter_id                               \nTCGA-E2-A154           NaN           NaN   \nTCGA-LL-A5YM           NaN           NaN   \nTCGA-AO-A0J6           NaN           NaN   \nTCGA-D8-A1XA           NaN           NaN   \nTCGA-E9-A1R7           NaN           NaN   \n\n             treatments_pharmaceutical_treatment_id  \\\nsubmitter_id                                          \nTCGA-E2-A154   834f8f26-9501-5224-913d-6211f0cbf8e5   \nTCGA-LL-A5YM   3256046e-d8f6-5cef-9117-5330501220ea   \nTCGA-AO-A0J6   3a288b0d-d06a-5bdf-93f8-3d057f0665b3   \nTCGA-D8-A1XA   4f6a3523-1b4b-5908-9805-45a396c5cd53   \nTCGA-E9-A1R7   6b5f3013-98ca-53b5-8c3a-4042ad6deda4   \n\n             treatments_pharmaceutical_treatment_or_therapy  \\\nsubmitter_id                                                  \nTCGA-E2-A154                                            yes   \nTCGA-LL-A5YM                                            yes   \nTCGA-AO-A0J6                                            yes   \nTCGA-D8-A1XA                                             no   \nTCGA-E9-A1R7                                            yes   \n\n                 treatments_radiation_treatment_id  \\\nsubmitter_id                                         \nTCGA-E2-A154  313377b5-4ced-50c1-bd47-795f1c844c14   \nTCGA-LL-A5YM  bbe91811-cb53-5919-9b29-d265f7ece634   \nTCGA-AO-A0J6  b5860691-ecd6-5168-af34-3b03a6396282   \nTCGA-D8-A1XA  222224e3-2aa9-5f19-a861-ca2dad041b76   \nTCGA-E9-A1R7  7a621a7c-3bb8-59f8-8cac-5ebb0eeb76b3   \n\n             treatments_radiation_treatment_or_therapy      time event  group  \nsubmitter_id                                                                   \nTCGA-E2-A154                                       yes  1.619178     0  train  \nTCGA-LL-A5YM                                       yes  1.079452     0  train  \nTCGA-AO-A0J6                                       yes  3.123288     0  train  \nTCGA-D8-A1XA                                       yes  2.298630     0  train  \nTCGA-E9-A1R7                                       yes  4.019178     0  train  \n\n[5 rows x 34 columns]",
      "text/html": "<div>\n<style scoped>\n    .dataframe tbody tr th:only-of-type {\n        vertical-align: middle;\n    }\n\n    .dataframe tbody tr th {\n        vertical-align: top;\n    }\n\n    .dataframe thead th {\n        text-align: right;\n    }\n</style>\n<table border=\"1\" class=\"dataframe\">\n  <thead>\n    <tr style=\"text-align: right;\">\n      <th></th>\n      <th>project_id</th>\n      <th>synchronous_malignancy</th>\n      <th>ajcc_pathologic_stage</th>\n      <th>tissue_or_organ_of_origin</th>\n      <th>days_to_last_follow_up</th>\n      <th>age_at_diagnosis</th>\n      <th>primary_diagnosis</th>\n      <th>updated_datetime</th>\n      <th>prior_malignancy</th>\n      <th>year_of_diagnosis</th>\n      <th>...</th>\n      <th>demographic_id</th>\n      <th>year_of_death</th>\n      <th>days_to_death</th>\n      <th>treatments_pharmaceutical_treatment_id</th>\n      <th>treatments_pharmaceutical_treatment_or_therapy</th>\n      <th>treatments_radiation_treatment_id</th>\n      <th>treatments_radiation_treatment_or_therapy</th>\n      <th>time</th>\n      <th>event</th>\n      <th>group</th>\n    </tr>\n    <tr>\n      <th>submitter_id</th>\n      <th></th>\n      <th></th>\n      <th></th>\n      <th></th>\n      <th></th>\n      <th></th>\n      <th></th>\n      <th></th>\n      <th></th>\n      <th></th>\n      <th></th>\n      <th></th>\n      <th></th>\n      <th></th>\n      <th></th>\n      <th></th>\n      <th></th>\n      <th></th>\n      <th></th>\n      <th></th>\n      <th></th>\n    </tr>\n  </thead>\n  <tbody>\n    <tr>\n      <th>TCGA-E2-A154</th>\n      <td>TCGA-BRCA</td>\n      <td>No</td>\n      <td>Stage I</td>\n      <td>Breast, NOS</td>\n      <td>591.0</td>\n      <td>24999.0</td>\n      <td>Infiltrating duct carcinoma, NOS</td>\n      <td>2019-08-08T16:28:03.729574-05:00</td>\n      <td>no</td>\n      <td>2009.0</td>\n      <td>...</td>\n      <td>b3d150ef-2e1c-5d7f-a39d-2290dc52c2c1</td>\n      <td>NaN</td>\n      <td>NaN</td>\n      <td>834f8f26-9501-5224-913d-6211f0cbf8e5</td>\n      <td>yes</td>\n      <td>313377b5-4ced-50c1-bd47-795f1c844c14</td>\n      <td>yes</td>\n      <td>1.619178</td>\n      <td>0</td>\n      <td>train</td>\n    </tr>\n    <tr>\n      <th>TCGA-LL-A5YM</th>\n      <td>TCGA-BRCA</td>\n      <td>No</td>\n      <td>Stage IIIB</td>\n      <td>Breast, NOS</td>\n      <td>394.0</td>\n      <td>32478.0</td>\n      <td>Paget disease and infiltrating duct carcinoma ...</td>\n      <td>2019-08-08T16:29:50.543582-05:00</td>\n      <td>no</td>\n      <td>2012.0</td>\n      <td>...</td>\n      <td>c042e220-d48e-52c8-9614-ff126309cda1</td>\n      <td>NaN</td>\n      <td>NaN</td>\n      <td>3256046e-d8f6-5cef-9117-5330501220ea</td>\n      <td>yes</td>\n      <td>bbe91811-cb53-5919-9b29-d265f7ece634</td>\n      <td>yes</td>\n      <td>1.079452</td>\n      <td>0</td>\n      <td>train</td>\n    </tr>\n    <tr>\n      <th>TCGA-AO-A0J6</th>\n      <td>TCGA-BRCA</td>\n      <td>No</td>\n      <td>Stage IIA</td>\n      <td>Breast, NOS</td>\n      <td>1140.0</td>\n      <td>22462.0</td>\n      <td>Infiltrating duct carcinoma, NOS</td>\n      <td>2019-08-08T16:23:34.429413-05:00</td>\n      <td>no</td>\n      <td>2008.0</td>\n      <td>...</td>\n      <td>27dbcdc6-461d-5753-b740-d780da1fb60e</td>\n      <td>NaN</td>\n      <td>NaN</td>\n      <td>3a288b0d-d06a-5bdf-93f8-3d057f0665b3</td>\n      <td>yes</td>\n      <td>b5860691-ecd6-5168-af34-3b03a6396282</td>\n      <td>yes</td>\n      <td>3.123288</td>\n      <td>0</td>\n      <td>train</td>\n    </tr>\n    <tr>\n      <th>TCGA-D8-A1XA</th>\n      <td>TCGA-BRCA</td>\n      <td>No</td>\n      <td>Stage IA</td>\n      <td>Breast, NOS</td>\n      <td>839.0</td>\n      <td>23387.0</td>\n      <td>Infiltrating duct carcinoma, NOS</td>\n      <td>2019-08-08T16:27:33.488489-05:00</td>\n      <td>no</td>\n      <td>2010.0</td>\n      <td>...</td>\n      <td>86ac2a19-b453-5699-b300-797be289f5aa</td>\n      <td>NaN</td>\n      <td>NaN</td>\n      <td>4f6a3523-1b4b-5908-9805-45a396c5cd53</td>\n      <td>no</td>\n      <td>222224e3-2aa9-5f19-a861-ca2dad041b76</td>\n      <td>yes</td>\n      <td>2.298630</td>\n      <td>0</td>\n      <td>train</td>\n    </tr>\n    <tr>\n      <th>TCGA-E9-A1R7</th>\n      <td>TCGA-BRCA</td>\n      <td>No</td>\n      <td>Stage IIA</td>\n      <td>Breast, NOS</td>\n      <td>1467.0</td>\n      <td>23397.0</td>\n      <td>Infiltrating duct carcinoma, NOS</td>\n      <td>2019-08-08T16:28:59.107330-05:00</td>\n      <td>no</td>\n      <td>2011.0</td>\n      <td>...</td>\n      <td>abb080bd-f58c-565d-a0b9-1da5273e1db3</td>\n      <td>NaN</td>\n      <td>NaN</td>\n      <td>6b5f3013-98ca-53b5-8c3a-4042ad6deda4</td>\n      <td>yes</td>\n      <td>7a621a7c-3bb8-59f8-8cac-5ebb0eeb76b3</td>\n      <td>yes</td>\n      <td>4.019178</td>\n      <td>0</td>\n      <td>train</td>\n    </tr>\n  </tbody>\n</table>\n<p>5 rows × 34 columns</p>\n</div>"
     },
     "execution_count": 258,
     "metadata": {},
     "output_type": "execute_result"
    }
   ],
   "source": [
    "clinical_with_survival['time'] = clinical_with_survival['time'] / 365\n",
    "clinical_with_survival.head()"
   ],
   "metadata": {
    "collapsed": false
   }
  },
  {
   "cell_type": "code",
   "execution_count": 260,
   "outputs": [],
   "source": [
    "def get_data_group(df, value='train'):\n",
    "    group = df.loc[df['group'] == value]\n",
    "    return group.drop(columns='group')\n",
    "\n",
    "\n",
    "train = get_data_group(clinical_with_survival, 'train')\n",
    "val = get_data_group(clinical_with_survival, 'val')\n",
    "test = get_data_group(clinical_with_survival, 'test')"
   ],
   "metadata": {
    "collapsed": false
   }
  },
  {
   "cell_type": "code",
   "execution_count": 261,
   "outputs": [
    {
     "name": "stdout",
     "output_type": "stream",
     "text": [
      "# patients in split groups:\n",
      "     train:      8880\n",
      "     validation: 1109\n",
      "     test:       1092\n"
     ]
    }
   ],
   "source": [
    "print('# patients in split groups:')\n",
    "print('     train:     ', len(train))\n",
    "print('     validation:', len(val))\n",
    "print('     test:      ', len(test))"
   ],
   "metadata": {
    "collapsed": false
   }
  },
  {
   "cell_type": "code",
   "execution_count": 263,
   "outputs": [
    {
     "data": {
      "text/plain": "<AxesSubplot:title={'center':'Training data'}, xlabel='Time (years)'>"
     },
     "execution_count": 263,
     "metadata": {},
     "output_type": "execute_result"
    },
    {
     "data": {
      "text/plain": "<Figure size 432x288 with 1 Axes>",
      "image/png": "[encoded data removed]"
     },
     "metadata": {
      "needs_background": "light"
     },
     "output_type": "display_data"
    }
   ],
   "source": [
    "from lifelines import KaplanMeierFitter\n",
    "\n",
    "kmf = KaplanMeierFitter()\n",
    "kmf.fit(train['time'], event_observed=train['event'])\n",
    "ax = kmf.plot(title='Training data')\n",
    "ax.set_xlabel('Time (years)')\n",
    "ax"
   ],
   "metadata": {
    "collapsed": false
   }
  },
  {
   "cell_type": "code",
   "execution_count": 264,
   "outputs": [
    {
     "data": {
      "text/plain": "<AxesSubplot:title={'center':'Validation data'}, xlabel='Time (years)'>"
     },
     "execution_count": 264,
     "metadata": {},
     "output_type": "execute_result"
    },
    {
     "data": {
      "text/plain": "<Figure size 432x288 with 1 Axes>",
      "image/png": "[encoded data removed]"
     },
     "metadata": {
      "needs_background": "light"
     },
     "output_type": "display_data"
    }
   ],
   "source": [
    "kmf = KaplanMeierFitter()\n",
    "kmf.fit(val['time'], event_observed=val['event'])\n",
    "ax = kmf.plot(title='Validation data')\n",
    "ax.set_xlabel('Time (years)')\n",
    "ax"
   ],
   "metadata": {
    "collapsed": false
   }
  },
  {
   "cell_type": "code",
   "execution_count": 265,
   "outputs": [
    {
     "data": {
      "text/plain": "<AxesSubplot:title={'center':'Test data'}, xlabel='Time (years)'>"
     },
     "execution_count": 265,
     "metadata": {},
     "output_type": "execute_result"
    },
    {
     "data": {
      "text/plain": "<Figure size 432x288 with 1 Axes>",
      "image/png": "[encoded data removed]"
     },
     "metadata": {
      "needs_background": "light"
     },
     "output_type": "display_data"
    }
   ],
   "source": [
    "kmf = KaplanMeierFitter()\n",
    "kmf.fit(test['time'], event_observed=test['event'])\n",
    "ax = kmf.plot(title='Test data')\n",
    "ax.set_xlabel('Time (years)')\n",
    "ax:"
   ],
   "metadata": {
    "collapsed": false
   }
  }
 ],
 "metadata": {
  "kernelspec": {
   "display_name": "ohad",
   "language": "python",
   "name": "ohad"
  },
  "language_info": {
   "codemirror_mode": {
    "name": "ipython",
    "version": 3
   },
   "file_extension": ".py",
   "mimetype": "text/x-python",
   "name": "python",
   "nbconvert_exporter": "python",
   "pygments_lexer": "ipython3",
   "version": "3.9.7"
  }
 },
 "nbformat": 4,
 "nbformat_minor": 1
}
